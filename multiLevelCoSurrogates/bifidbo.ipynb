{
 "cells": [
  {
   "cell_type": "code",
   "execution_count": null,
   "metadata": {
    "ExecuteTime": {
     "end_time": "2018-07-09T12:21:43.502120Z",
     "start_time": "2018-07-09T12:21:38.079108Z"
    }
   },
   "outputs": [],
   "source": [
    "%matplotlib inline\n",
    "\n",
    "import numpy as np\n",
    "import pandas as pd\n",
    "import matplotlib.pyplot as plt\n",
    "\n",
    "np.set_printoptions(linewidth=1000, edgeitems=30)\n",
    "pd.set_option('display.max_columns', 60)\n",
    "pd.set_option('display.width', 2000)"
   ]
  },
  {
   "cell_type": "code",
   "execution_count": null,
   "metadata": {
    "ExecuteTime": {
     "end_time": "2018-07-09T12:21:43.517111Z",
     "start_time": "2018-07-09T12:21:43.506116Z"
    }
   },
   "outputs": [],
   "source": [
    "# Some StackOverflow magic to enable importing of local module\n",
    "import os\n",
    "import sys\n",
    "module_path = os.path.abspath(os.path.join('..'))\n",
    "if module_path not in sys.path:\n",
    "    sys.path.append(module_path)"
   ]
  },
  {
   "cell_type": "code",
   "execution_count": null,
   "metadata": {
    "ExecuteTime": {
     "end_time": "2018-07-09T12:21:43.534100Z",
     "start_time": "2018-07-09T12:21:43.521110Z"
    }
   },
   "outputs": [],
   "source": [
    "from multiLevelCoSurrogates.local import base_dir"
   ]
  },
  {
   "cell_type": "code",
   "execution_count": null,
   "metadata": {
    "ExecuteTime": {
     "end_time": "2018-07-09T12:21:43.699000Z",
     "start_time": "2018-07-09T12:21:43.538097Z"
    }
   },
   "outputs": [],
   "source": [
    "records = ['_ei_records.csv', '_ucb_records.csv',]\n",
    "\n",
    "print(os.listdir(base_dir))\n",
    "\n",
    "df = pd.read_csv(base_dir+records[0], index_col='index')\n",
    "df.head()"
   ]
  },
  {
   "cell_type": "code",
   "execution_count": null,
   "metadata": {
    "ExecuteTime": {
     "end_time": "2018-07-09T12:21:47.231099Z",
     "start_time": "2018-07-09T12:21:43.703996Z"
    }
   },
   "outputs": [],
   "source": [
    "n_cols = min(len(grouped), 3)\n",
    "n_rows = int(np.ceil(len(grouped)/n_cols))\n",
    "fig, axes = plt.subplots(n_rows, n_cols, figsize=(12,4*n_rows))\n",
    "\n",
    "grouped = df.groupby(by=['which_model', 'fidelity'])\n",
    "\n",
    "for ax, group in zip(axes.flatten(), grouped):\n",
    "    name, sub_df = group\n",
    "    sub_df = sub_df.groupby(by='iteration')[['mse_high', 'mse_low', 'mse_hier', 'mse_low_on_high']]\n",
    "    means = sub_df.mean()\n",
    "    stds = sub_df.std()\n",
    "    means.plot(ax=ax)\n",
    "    \n",
    "    low_bounds, high_bounds = means.values.T - stds.values.T*1.96, means.values.T + stds.values.T*1.96\n",
    "    for low, high, color in zip(low_bounds, high_bounds, ['C0', 'C1', 'C2', 'C3']):\n",
    "        ax.fill_between(means.index, low, high, color=color, alpha=.2)\n",
    "\n",
    "    ax.set_title('acq on {}, {} fidelity updated'.format(*name))\n",
    "\n",
    "plt.tight_layout()\n",
    "plt.show()"
   ]
  },
  {
   "cell_type": "code",
   "execution_count": null,
   "metadata": {
    "ExecuteTime": {
     "end_time": "2018-07-09T12:22:36.276065Z",
     "start_time": "2018-07-09T12:22:36.183123Z"
    }
   },
   "outputs": [],
   "source": [
    "def plot_normalized(df, axes=None):\n",
    "\n",
    "    grouped = df.groupby(by=['which_model', 'fidelity'])\n",
    "    mse_names = ['mse_high', 'mse_low', 'mse_hier', 'mse_low_on_high']\n",
    "\n",
    "    if axes is None:\n",
    "        n_cols = min(len(grouped), 3)\n",
    "        n_rows = int(np.ceil(len(grouped)/n_cols))\n",
    "        fig, axes = plt.subplots(n_rows, n_cols, figsize=(12,4*n_rows))\n",
    "    \n",
    "    for ax, group in zip(axes.flatten(), grouped):\n",
    "        name, sub_df = group\n",
    "\n",
    "        # Separate out the MSE values after initial training to use as reference\n",
    "        num_iters = len(sub_df['iteration'].unique())\n",
    "        first_rows = sub_df.loc[0::num_iters,mse_names].values\n",
    "\n",
    "        # Get all values and reshape without copying s.t. the iterations are a separate dimension\n",
    "        values = sub_df.loc[:,mse_names].values\n",
    "        old_shape = values.shape\n",
    "        new_shape = old_shape[0]//num_iters, num_iters, len(mse_names)\n",
    "        values.shape = new_shape\n",
    "\n",
    "        # Now we can use numpy's internal broadcasting for efficient division, and return the old shape afterwards\n",
    "        new_values = values / first_rows[:,None,:]\n",
    "        new_values.shape = old_shape\n",
    "\n",
    "        # Finally the values are returned to the dataframe and plotted\n",
    "        sub_df.loc[:,mse_names] = new_values\n",
    "        sub_df = sub_df.groupby(by='iteration')[mse_names]\n",
    "        means = sub_df.mean()\n",
    "        stds = sub_df.std()\n",
    "        \n",
    "        means.plot(ax=ax)\n",
    "        \n",
    "        low_bounds, high_bounds = means.values.T - stds.values.T*1.96, means.values.T + stds.values.T*1.96\n",
    "        for low, high, color in zip(low_bounds, high_bounds, ['C0', 'C1', 'C2', 'C3']):\n",
    "            ax.fill_between(means.index, low, high, color=color, alpha=.2)\n",
    "        \n",
    "        ax.axhline(y=1.0, color='black', alpha=0.5)\n",
    "        ax.set_title('acq on {}, {} fidelity updated'.format(*name))\n",
    "        ax.set_ylim([0,2])\n",
    "\n",
    "    plt.tight_layout()\n",
    "    plt.show()"
   ]
  },
  {
   "cell_type": "code",
   "execution_count": null,
   "metadata": {
    "ExecuteTime": {
     "end_time": "2018-07-09T12:22:40.145292Z",
     "start_time": "2018-07-09T12:22:36.282062Z"
    }
   },
   "outputs": [],
   "source": [
    "print(records[0])\n",
    "plot_normalized(pd.read_csv(base_dir+records[0], index_col='index'))"
   ]
  },
  {
   "cell_type": "code",
   "execution_count": null,
   "metadata": {
    "ExecuteTime": {
     "end_time": "2018-07-09T12:22:43.254619Z",
     "start_time": "2018-07-09T12:22:40.151283Z"
    }
   },
   "outputs": [],
   "source": [
    "print(records[1])\n",
    "plot_normalized(pd.read_csv(base_dir+records[1], index_col='index'))"
   ]
  },
  {
   "cell_type": "code",
   "execution_count": null,
   "metadata": {},
   "outputs": [],
   "source": []
  }
 ],
 "metadata": {
  "kernelspec": {
   "display_name": "Python 3",
   "language": "python",
   "name": "python3"
  },
  "language_info": {
   "codemirror_mode": {
    "name": "ipython",
    "version": 3
   },
   "file_extension": ".py",
   "mimetype": "text/x-python",
   "name": "python",
   "nbconvert_exporter": "python",
   "pygments_lexer": "ipython3",
   "version": "3.6.3"
  },
  "toc": {
   "colors": {
    "hover_highlight": "#DAA520",
    "running_highlight": "#FF0000",
    "selected_highlight": "#FFD700"
   },
   "moveMenuLeft": true,
   "nav_menu": {
    "height": "12px",
    "width": "252px"
   },
   "navigate_menu": true,
   "number_sections": true,
   "sideBar": true,
   "threshold": 4,
   "toc_cell": false,
   "toc_section_display": "block",
   "toc_window_display": false
  }
 },
 "nbformat": 4,
 "nbformat_minor": 2
}
