{
 "cells": [
  {
   "cell_type": "code",
   "execution_count": 29,
   "metadata": {},
   "outputs": [],
   "source": [
    "%matplotlib inline\n",
    "\n",
    "import numpy as np\n",
    "import pandas as pd\n",
    "import matplotlib.pyplot as plt\n",
    "\n",
    "np.set_printoptions(linewidth=1000, edgeitems=30)\n",
    "pd.set_option('display.max_columns', 60)\n",
    "pd.set_option('display.width', 2000)"
   ]
  },
  {
   "cell_type": "code",
   "execution_count": 30,
   "metadata": {},
   "outputs": [],
   "source": [
    "# Some StackOverflow magic to enable importing of local module\n",
    "import os\n",
    "import sys\n",
    "module_path = os.path.abspath(os.path.join('..'))\n",
    "if module_path not in sys.path:\n",
    "    sys.path.append(module_path)"
   ]
  },
  {
   "cell_type": "code",
   "execution_count": 31,
   "metadata": {},
   "outputs": [],
   "source": [
    "from multiLevelCoSurrogates.local import base_dir"
   ]
  },
  {
   "cell_type": "code",
   "execution_count": 32,
   "metadata": {},
   "outputs": [
    {
     "data": {
      "text/html": [
       "<div>\n",
       "<style scoped>\n",
       "    .dataframe tbody tr th:only-of-type {\n",
       "        vertical-align: middle;\n",
       "    }\n",
       "\n",
       "    .dataframe tbody tr th {\n",
       "        vertical-align: top;\n",
       "    }\n",
       "\n",
       "    .dataframe thead th {\n",
       "        text-align: right;\n",
       "    }\n",
       "</style>\n",
       "<table border=\"1\" class=\"dataframe\">\n",
       "  <thead>\n",
       "    <tr style=\"text-align: right;\">\n",
       "      <th></th>\n",
       "      <th>which_model</th>\n",
       "      <th>fidelity</th>\n",
       "      <th>repetition</th>\n",
       "      <th>iteration</th>\n",
       "      <th>mse_high</th>\n",
       "      <th>mse_low</th>\n",
       "      <th>mse_diff</th>\n",
       "    </tr>\n",
       "    <tr>\n",
       "      <th>index</th>\n",
       "      <th></th>\n",
       "      <th></th>\n",
       "      <th></th>\n",
       "      <th></th>\n",
       "      <th></th>\n",
       "      <th></th>\n",
       "      <th></th>\n",
       "    </tr>\n",
       "  </thead>\n",
       "  <tbody>\n",
       "    <tr>\n",
       "      <th>0</th>\n",
       "      <td>hierarchical</td>\n",
       "      <td>both</td>\n",
       "      <td>0</td>\n",
       "      <td>0</td>\n",
       "      <td>234.709377</td>\n",
       "      <td>443.630797</td>\n",
       "      <td>253.505504</td>\n",
       "    </tr>\n",
       "    <tr>\n",
       "      <th>1</th>\n",
       "      <td>hierarchical</td>\n",
       "      <td>both</td>\n",
       "      <td>0</td>\n",
       "      <td>1</td>\n",
       "      <td>124.284570</td>\n",
       "      <td>378.376765</td>\n",
       "      <td>217.539198</td>\n",
       "    </tr>\n",
       "    <tr>\n",
       "      <th>2</th>\n",
       "      <td>hierarchical</td>\n",
       "      <td>both</td>\n",
       "      <td>0</td>\n",
       "      <td>2</td>\n",
       "      <td>109.286418</td>\n",
       "      <td>378.624423</td>\n",
       "      <td>218.875024</td>\n",
       "    </tr>\n",
       "    <tr>\n",
       "      <th>3</th>\n",
       "      <td>hierarchical</td>\n",
       "      <td>both</td>\n",
       "      <td>0</td>\n",
       "      <td>3</td>\n",
       "      <td>111.659027</td>\n",
       "      <td>365.181987</td>\n",
       "      <td>212.238197</td>\n",
       "    </tr>\n",
       "    <tr>\n",
       "      <th>4</th>\n",
       "      <td>hierarchical</td>\n",
       "      <td>both</td>\n",
       "      <td>0</td>\n",
       "      <td>4</td>\n",
       "      <td>109.956611</td>\n",
       "      <td>365.543749</td>\n",
       "      <td>212.357868</td>\n",
       "    </tr>\n",
       "  </tbody>\n",
       "</table>\n",
       "</div>"
      ],
      "text/plain": [
       "        which_model fidelity  repetition  iteration    mse_high     mse_low    mse_diff\n",
       "index                                                                                  \n",
       "0      hierarchical     both           0          0  234.709377  443.630797  253.505504\n",
       "1      hierarchical     both           0          1  124.284570  378.376765  217.539198\n",
       "2      hierarchical     both           0          2  109.286418  378.624423  218.875024\n",
       "3      hierarchical     both           0          3  111.659027  365.181987  212.238197\n",
       "4      hierarchical     both           0          4  109.956611  365.543749  212.357868"
      ]
     },
     "execution_count": 32,
     "metadata": {},
     "output_type": "execute_result"
    }
   ],
   "source": [
    "df = pd.read_csv(base_dir+'records.csv', index_col='index')\n",
    "df.head()"
   ]
  },
  {
   "cell_type": "code",
   "execution_count": 33,
   "metadata": {},
   "outputs": [
    {
     "name": "stdout",
     "output_type": "stream",
     "text": [
      "           repetition    mse_high     mse_low    mse_diff\n",
      "iteration                                                \n",
      "0                   1  174.762310  475.114747  218.172355\n",
      "1                   1  138.281192  454.021892  205.415147\n",
      "2                   1  136.696908  454.154918  205.156560\n",
      "3                   1  360.226181  449.666918  204.891871\n",
      "4                   1  373.472543  452.694210  207.861795\n"
     ]
    },
    {
     "data": {
      "image/png": "[encoded data removed]",
      "text/plain": [
       "<Figure size 864x648 with 4 Axes>"
      ]
     },
     "metadata": {},
     "output_type": "display_data"
    }
   ],
   "source": [
    "fig, axes = plt.subplots(2,2, figsize=(12,9))\n",
    "\n",
    "grouped = df.groupby(by=['which_model', 'fidelity'])\n",
    "\n",
    "for ax, group in zip(axes.flatten(), grouped):\n",
    "    name, sub_df = group\n",
    "    sub_df = sub_df.groupby(by='iteration').mean()\n",
    "#     sub_df.reset_index()\n",
    "    print(sub_df.head())\n",
    "    sub_df.plot(y=['mse_high', 'mse_low', 'mse_diff'], ax=ax)\n",
    "    ax.set_title('acq on {}, {} fidelity updated'.format(*name))\n",
    "    \n",
    "plt.show()"
   ]
  },
  {
   "cell_type": "code",
   "execution_count": null,
   "metadata": {},
   "outputs": [],
   "source": []
  }
 ],
 "metadata": {
  "kernelspec": {
   "display_name": "Python 3",
   "language": "python",
   "name": "python3"
  },
  "language_info": {
   "codemirror_mode": {
    "name": "ipython",
    "version": 3
   },
   "file_extension": ".py",
   "mimetype": "text/x-python",
   "name": "python",
   "nbconvert_exporter": "python",
   "pygments_lexer": "ipython3",
   "version": "3.6.5"
  }
 },
 "nbformat": 4,
 "nbformat_minor": 2
}
