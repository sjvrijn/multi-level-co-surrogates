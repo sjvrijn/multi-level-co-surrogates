{
 "cells": [
  {
   "cell_type": "markdown",
   "metadata": {
    "heading_collapsed": true
   },
   "source": [
    "# Setup"
   ]
  },
  {
   "cell_type": "code",
   "execution_count": null,
   "metadata": {
    "ExecuteTime": {
     "end_time": "2018-07-10T14:46:20.595367Z",
     "start_time": "2018-07-10T14:46:16.001404Z"
    },
    "hidden": true
   },
   "outputs": [],
   "source": [
    "%matplotlib inline\n",
    "\n",
    "import numpy as np\n",
    "import pandas as pd\n",
    "import matplotlib.pyplot as plt\n",
    "\n",
    "import warnings\n",
    "warnings.filterwarnings(\"ignore\")\n",
    "\n",
    "np.set_printoptions(linewidth=1000, edgeitems=30)\n",
    "pd.set_option('display.max_columns', 60)\n",
    "pd.set_option('display.width', 2000)"
   ]
  },
  {
   "cell_type": "code",
   "execution_count": null,
   "metadata": {
    "ExecuteTime": {
     "end_time": "2018-07-10T14:46:20.611362Z",
     "start_time": "2018-07-10T14:46:20.599365Z"
    },
    "hidden": true
   },
   "outputs": [],
   "source": [
    "# Some StackOverflow magic to enable importing of local module\n",
    "import os\n",
    "import sys\n",
    "module_path = os.path.abspath(os.path.join('..'))\n",
    "if module_path not in sys.path:\n",
    "    sys.path.append(module_path)"
   ]
  },
  {
   "cell_type": "code",
   "execution_count": null,
   "metadata": {
    "ExecuteTime": {
     "end_time": "2018-07-10T14:46:20.631357Z",
     "start_time": "2018-07-10T14:46:20.615360Z"
    },
    "hidden": true
   },
   "outputs": [],
   "source": [
    "from multiLevelCoSurrogates.local import base_dir"
   ]
  },
  {
   "cell_type": "markdown",
   "metadata": {},
   "source": [
    "# Defining Data"
   ]
  },
  {
   "cell_type": "code",
   "execution_count": null,
   "metadata": {
    "ExecuteTime": {
     "end_time": "2018-07-10T14:46:21.067270Z",
     "start_time": "2018-07-10T14:46:20.635356Z"
    }
   },
   "outputs": [],
   "source": [
    "acqs = [\n",
    "    ('ucb', 1.5),\n",
    "    ('ucb', 2.5),\n",
    "    ('ucb', 3.5),\n",
    "    ('ei', 0.0),\n",
    "    ('ei', 0.5),\n",
    "    ('ei', 1.0),\n",
    "    ('poi', ''),\n",
    "]\n",
    "\n",
    "normalize=False\n",
    "record_format = '{}{}_records.csv'\n",
    "\n",
    "print(os.listdir(base_dir))\n",
    "\n",
    "df = pd.read_csv(base_dir+record_format.format(*acqs[0]), index_col='index')\n",
    "df.head()"
   ]
  },
  {
   "cell_type": "code",
   "execution_count": null,
   "metadata": {
    "ExecuteTime": {
     "end_time": "2018-07-10T14:46:23.652106Z",
     "start_time": "2018-07-10T14:46:21.071225Z"
    }
   },
   "outputs": [],
   "source": [
    "fig, axes = plt.subplots(4,2, figsize=(9,12))\n",
    "\n",
    "grouped = df.groupby(by=['which_model', 'fidelity'])\n",
    "\n",
    "for ax, group in zip(axes.flatten(), grouped):\n",
    "    name, sub_df = group\n",
    "    sub_df = sub_df.groupby(by='iteration').mean()\n",
    "    sub_df.plot(y=['mse_high', 'mse_low', 'mse_diff'], ax=ax)\n",
    "    ax.set_title('acq on {}, {} fidelity updated'.format(*name))\n",
    "\n",
    "plt.tight_layout()\n",
    "plt.show()"
   ]
  },
  {
   "cell_type": "markdown",
   "metadata": {},
   "source": [
    "# Normalized plots of the average over 10 runs"
   ]
  },
  {
   "cell_type": "code",
   "execution_count": null,
   "metadata": {
    "ExecuteTime": {
     "end_time": "2018-07-10T14:46:23.736446Z",
     "start_time": "2018-07-10T14:46:23.652106Z"
    },
    "code_folding": [
     0
    ]
   },
   "outputs": [],
   "source": [
    "def plot_normalized(df, normalize=True):\n",
    "\n",
    "    fig, axes = plt.subplots(1,5, figsize=(16,3))\n",
    "\n",
    "    grouped = df.groupby(by=['which_model', 'fidelity'])\n",
    "    mse_names = ['mse_high', 'mse_low', 'mse_diff']\n",
    "\n",
    "    for ax, group in zip(axes.flatten(), grouped):\n",
    "        name, sub_df = group\n",
    "        \n",
    "        if normalize:\n",
    "            # Separate out the MSE values after initial training to use as reference\n",
    "            num_iters = len(sub_df['iteration'].unique())\n",
    "            first_rows = sub_df.loc[0::num_iters,mse_names].values\n",
    "\n",
    "            # Get all values and reshape without copying s.t. the iterations are a separate dimension\n",
    "            values = sub_df.loc[:,mse_names].values\n",
    "            old_shape = values.shape\n",
    "            new_shape = old_shape[0]//num_iters, num_iters, len(mse_names)\n",
    "            values.shape = new_shape\n",
    "\n",
    "            # Now we can use numpy's internal broadcasting for efficient division, and return the old shape afterwards\n",
    "            new_values = values / first_rows[:,None,:]\n",
    "            new_values.shape = old_shape\n",
    "\n",
    "            # Finally the values are returned to the dataframe and can be plotted\n",
    "            sub_df.loc[:,mse_names] = new_values\n",
    "\n",
    "        sub_df = sub_df.groupby(by='iteration').mean()\n",
    "        sub_df.plot(y=mse_names, ax=ax)\n",
    "#         ax.set_title('acq on {}, {} fidelity updated'.format(*name))\n",
    "        ax.set_title('acq on {}, fid {}'.format(*name))\n",
    "\n",
    "    plt.tight_layout()\n",
    "    plt.show()"
   ]
  },
  {
   "cell_type": "markdown",
   "metadata": {},
   "source": [
    "## Upper Confidence Bound (UCB)"
   ]
  },
  {
   "cell_type": "code",
   "execution_count": null,
   "metadata": {
    "ExecuteTime": {
     "end_time": "2018-07-10T14:46:24.720298Z",
     "start_time": "2018-07-10T14:46:23.736446Z"
    }
   },
   "outputs": [],
   "source": [
    "print(acqs[0])\n",
    "plot_normalized(pd.read_csv(base_dir+record_format.format(*acqs[0]), index_col='index'), normalize=normalize)"
   ]
  },
  {
   "cell_type": "code",
   "execution_count": null,
   "metadata": {
    "ExecuteTime": {
     "end_time": "2018-07-10T14:46:25.680014Z",
     "start_time": "2018-07-10T14:46:24.720298Z"
    }
   },
   "outputs": [],
   "source": [
    "print(acqs[1])\n",
    "plot_normalized(pd.read_csv(base_dir+record_format.format(*acqs[1]), index_col='index'), normalize=normalize)"
   ]
  },
  {
   "cell_type": "code",
   "execution_count": null,
   "metadata": {
    "ExecuteTime": {
     "end_time": "2018-07-10T14:46:26.560497Z",
     "start_time": "2018-07-10T14:46:25.680014Z"
    }
   },
   "outputs": [],
   "source": [
    "print(acqs[2])\n",
    "plot_normalized(pd.read_csv(base_dir+record_format.format(*acqs[2]), index_col='index'), normalize=normalize)"
   ]
  },
  {
   "cell_type": "markdown",
   "metadata": {},
   "source": [
    "## Expected Improvement (EI)"
   ]
  },
  {
   "cell_type": "code",
   "execution_count": null,
   "metadata": {
    "ExecuteTime": {
     "end_time": "2018-07-10T14:46:27.608553Z",
     "start_time": "2018-07-10T14:46:26.560497Z"
    }
   },
   "outputs": [],
   "source": [
    "print(acqs[3])\n",
    "plot_normalized(pd.read_csv(base_dir+record_format.format(*acqs[3]), index_col='index'), normalize=normalize)"
   ]
  },
  {
   "cell_type": "code",
   "execution_count": null,
   "metadata": {
    "ExecuteTime": {
     "end_time": "2018-07-10T14:46:28.436656Z",
     "start_time": "2018-07-10T14:46:27.608553Z"
    },
    "scrolled": true
   },
   "outputs": [],
   "source": [
    "print(acqs[4])\n",
    "plot_normalized(pd.read_csv(base_dir+record_format.format(*acqs[4]), index_col='index'), normalize=normalize)"
   ]
  },
  {
   "cell_type": "code",
   "execution_count": null,
   "metadata": {
    "ExecuteTime": {
     "end_time": "2018-07-10T14:46:29.376572Z",
     "start_time": "2018-07-10T14:46:28.436656Z"
    }
   },
   "outputs": [],
   "source": [
    "print(acqs[5])\n",
    "plot_normalized(pd.read_csv(base_dir+record_format.format(*acqs[5]), index_col='index'), normalize=normalize)"
   ]
  },
  {
   "cell_type": "markdown",
   "metadata": {
    "heading_collapsed": true
   },
   "source": [
    "## Probability of Improvement (POI)"
   ]
  },
  {
   "cell_type": "code",
   "execution_count": null,
   "metadata": {
    "ExecuteTime": {
     "end_time": "2018-07-10T14:46:30.244863Z",
     "start_time": "2018-07-10T14:46:29.376572Z"
    },
    "hidden": true
   },
   "outputs": [],
   "source": [
    "print(acqs[6])\n",
    "plot_normalized(pd.read_csv(base_dir+record_format.format(*acqs[6]), index_col='index'))"
   ]
  },
  {
   "cell_type": "markdown",
   "metadata": {},
   "source": [
    "# Single example runs\n",
    "For these runs, surface plots of all intermediate steps are available"
   ]
  },
  {
   "cell_type": "code",
   "execution_count": null,
   "metadata": {
    "ExecuteTime": {
     "end_time": "2018-07-10T14:46:30.260455Z",
     "start_time": "2018-07-10T14:46:30.244863Z"
    }
   },
   "outputs": [],
   "source": [
    "record_format = '{}{}_SINGLE_records.csv'"
   ]
  },
  {
   "cell_type": "markdown",
   "metadata": {},
   "source": [
    "## Upper Confidence Bound (UCB)"
   ]
  },
  {
   "cell_type": "code",
   "execution_count": null,
   "metadata": {
    "ExecuteTime": {
     "end_time": "2018-07-10T14:46:31.100938Z",
     "start_time": "2018-07-10T14:46:30.260455Z"
    }
   },
   "outputs": [],
   "source": [
    "print(acqs[0])\n",
    "plot_normalized(pd.read_csv(base_dir+record_format.format(*acqs[0]), index_col='index'), normalize=normalize)"
   ]
  },
  {
   "cell_type": "code",
   "execution_count": null,
   "metadata": {
    "ExecuteTime": {
     "end_time": "2018-07-10T14:46:31.869646Z",
     "start_time": "2018-07-10T14:46:31.100938Z"
    }
   },
   "outputs": [],
   "source": [
    "print(acqs[1])\n",
    "plot_normalized(pd.read_csv(base_dir+record_format.format(*acqs[1]), index_col='index'), normalize=normalize)"
   ]
  },
  {
   "cell_type": "code",
   "execution_count": null,
   "metadata": {
    "ExecuteTime": {
     "end_time": "2018-07-10T14:46:32.634288Z",
     "start_time": "2018-07-10T14:46:31.869646Z"
    }
   },
   "outputs": [],
   "source": [
    "print(acqs[2])\n",
    "plot_normalized(pd.read_csv(base_dir+record_format.format(*acqs[2]), index_col='index'), normalize=normalize)"
   ]
  },
  {
   "cell_type": "markdown",
   "metadata": {},
   "source": [
    "## Expected Improvement (EI)"
   ]
  },
  {
   "cell_type": "code",
   "execution_count": null,
   "metadata": {
    "ExecuteTime": {
     "end_time": "2018-07-10T14:46:33.557209Z",
     "start_time": "2018-07-10T14:46:32.634288Z"
    }
   },
   "outputs": [],
   "source": [
    "print(acqs[3])\n",
    "plot_normalized(pd.read_csv(base_dir+record_format.format(*acqs[3]), index_col='index'), normalize=normalize)"
   ]
  },
  {
   "cell_type": "code",
   "execution_count": null,
   "metadata": {
    "ExecuteTime": {
     "end_time": "2018-07-10T14:46:34.452987Z",
     "start_time": "2018-07-10T14:46:33.561207Z"
    }
   },
   "outputs": [],
   "source": [
    "print(acqs[4])\n",
    "plot_normalized(pd.read_csv(base_dir+record_format.format(*acqs[4]), index_col='index'), normalize=normalize)"
   ]
  },
  {
   "cell_type": "code",
   "execution_count": null,
   "metadata": {
    "ExecuteTime": {
     "end_time": "2018-07-10T14:46:35.206519Z",
     "start_time": "2018-07-10T14:46:34.456983Z"
    }
   },
   "outputs": [],
   "source": [
    "print(acqs[5])\n",
    "plot_normalized(pd.read_csv(base_dir+record_format.format(*acqs[5]), index_col='index'), normalize=normalize)"
   ]
  },
  {
   "cell_type": "markdown",
   "metadata": {},
   "source": [
    "## Probability of Improvement (POI)"
   ]
  },
  {
   "cell_type": "code",
   "execution_count": null,
   "metadata": {
    "ExecuteTime": {
     "end_time": "2018-07-10T14:46:35.996835Z",
     "start_time": "2018-07-10T14:46:35.206519Z"
    }
   },
   "outputs": [],
   "source": [
    "print(acqs[6])\n",
    "plot_normalized(pd.read_csv(base_dir+record_format.format(*acqs[6]), index_col='index'), normalize=normalize)"
   ]
  }
 ],
 "metadata": {
  "kernelspec": {
   "display_name": "Python 3",
   "language": "python",
   "name": "python3"
  },
  "language_info": {
   "codemirror_mode": {
    "name": "ipython",
    "version": 3
   },
   "file_extension": ".py",
   "mimetype": "text/x-python",
   "name": "python",
   "nbconvert_exporter": "python",
   "pygments_lexer": "ipython3",
   "version": "3.6.3"
  },
  "toc": {
   "colors": {
    "hover_highlight": "#DAA520",
    "running_highlight": "#FF0000",
    "selected_highlight": "#FFD700"
   },
   "moveMenuLeft": true,
   "nav_menu": {
    "height": "12px",
    "width": "252px"
   },
   "navigate_menu": true,
   "number_sections": true,
   "sideBar": true,
   "threshold": 4,
   "toc_cell": false,
   "toc_section_display": "block",
   "toc_window_display": false
  }
 },
 "nbformat": 4,
 "nbformat_minor": 2
}
