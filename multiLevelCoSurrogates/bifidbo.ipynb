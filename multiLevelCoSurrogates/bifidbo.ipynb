{
 "cells": [
  {
   "cell_type": "code",
   "execution_count": null,
   "metadata": {},
   "outputs": [],
   "source": [
    "%matplotlib inline\n",
    "\n",
    "import numpy as np\n",
    "import pandas as pd\n",
    "import matplotlib.pyplot as plt\n",
    "\n",
    "np.set_printoptions(linewidth=1000, edgeitems=30)\n",
    "pd.set_option('display.max_columns', 60)\n",
    "pd.set_option('display.width', 2000)"
   ]
  },
  {
   "cell_type": "code",
   "execution_count": null,
   "metadata": {},
   "outputs": [],
   "source": [
    "# Some StackOverflow magic to enable importing of local module\n",
    "import os\n",
    "import sys\n",
    "module_path = os.path.abspath(os.path.join('..'))\n",
    "if module_path not in sys.path:\n",
    "    sys.path.append(module_path)"
   ]
  },
  {
   "cell_type": "code",
   "execution_count": null,
   "metadata": {},
   "outputs": [],
   "source": [
    "from multiLevelCoSurrogates.local import base_dir"
   ]
  },
  {
   "cell_type": "code",
   "execution_count": null,
   "metadata": {},
   "outputs": [],
   "source": [
    "df = pd.read_csv(base_dir+'short_records.csv', index_col='index')\n",
    "df.head()"
   ]
  },
  {
   "cell_type": "code",
   "execution_count": null,
   "metadata": {},
   "outputs": [],
   "source": [
    "fig, axes = plt.subplots(4,2, figsize=(9,12))\n",
    "\n",
    "grouped = df.groupby(by=['which_model', 'fidelity'])\n",
    "\n",
    "for ax, group in zip(axes.flatten(), grouped):\n",
    "    name, sub_df = group\n",
    "    sub_df = sub_df.groupby(by='iteration').mean()\n",
    "    sub_df.plot(y=['mse_high', 'mse_low', 'mse_diff'], ax=ax)\n",
    "    ax.set_title('acq on {}, {} fidelity updated'.format(*name))\n",
    "\n",
    "plt.tight_layout()\n",
    "plt.show()"
   ]
  },
  {
   "cell_type": "code",
   "execution_count": null,
   "metadata": {},
   "outputs": [],
   "source": [
    "fig, axes = plt.subplots(4,2, figsize=(9,12))\n",
    "\n",
    "grouped = df.groupby(by=['which_model', 'fidelity'])\n",
    "\n",
    "mse_names = ['mse_high', 'mse_low', 'mse_diff']\n",
    "\n",
    "for ax, group in zip(axes.flatten(), grouped):\n",
    "    name, sub_df = group\n",
    "    x = sub_df.groupby(by='repetition')\n",
    "    for _, group in x:\n",
    "        vals = group.loc[:,mse_names].values\n",
    "        vals = vals/vals[0]\n",
    "        group.loc[:,mse_names] = vals\n",
    "        sub_df.update(group)\n",
    "    sub_df = sub_df.groupby(by='iteration').mean()\n",
    "    sub_df.reset_index()\n",
    "    sub_df.plot(y=mse_names, ax=ax)\n",
    "    ax.set_title('acq on {}, {} fidelity updated'.format(*name))\n",
    "\n",
    "    \n",
    "plt.tight_layout()\n",
    "plt.show()"
   ]
  },
  {
   "cell_type": "code",
   "execution_count": null,
   "metadata": {},
   "outputs": [],
   "source": []
  }
 ],
 "metadata": {
  "kernelspec": {
   "display_name": "Python 3",
   "language": "python",
   "name": "python3"
  },
  "language_info": {
   "codemirror_mode": {
    "name": "ipython",
    "version": 3
   },
   "file_extension": ".py",
   "mimetype": "text/x-python",
   "name": "python",
   "nbconvert_exporter": "python",
   "pygments_lexer": "ipython3",
   "version": "3.6.5"
  }
 },
 "nbformat": 4,
 "nbformat_minor": 2
}
