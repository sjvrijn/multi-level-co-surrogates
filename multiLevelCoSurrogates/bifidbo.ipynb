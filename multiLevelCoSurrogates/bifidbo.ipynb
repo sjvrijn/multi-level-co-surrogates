{
 "cells": [
  {
   "cell_type": "code",
   "execution_count": null,
   "metadata": {
    "ExecuteTime": {
     "end_time": "2018-07-09T12:21:43.502120Z",
     "start_time": "2018-07-09T12:21:38.079108Z"
    }
   },
   "outputs": [],
   "source": [
    "%matplotlib inline\n",
    "\n",
    "import numpy as np\n",
    "import pandas as pd\n",
    "import matplotlib.pyplot as plt\n",
    "\n",
    "np.set_printoptions(linewidth=1000, edgeitems=30)\n",
    "pd.set_option('display.max_columns', 60)\n",
    "pd.set_option('display.width', 2000)"
   ]
  },
  {
   "cell_type": "code",
   "execution_count": null,
   "metadata": {
    "ExecuteTime": {
     "end_time": "2018-07-09T12:21:43.517111Z",
     "start_time": "2018-07-09T12:21:43.506116Z"
    }
   },
   "outputs": [],
   "source": [
    "# Some StackOverflow magic to enable importing of local module\n",
    "import os\n",
    "import sys\n",
    "module_path = os.path.abspath(os.path.join('..'))\n",
    "if module_path not in sys.path:\n",
    "    sys.path.append(module_path)"
   ]
  },
  {
   "cell_type": "code",
   "execution_count": null,
   "metadata": {
    "ExecuteTime": {
     "end_time": "2018-07-09T12:21:43.534100Z",
     "start_time": "2018-07-09T12:21:43.521110Z"
    }
   },
   "outputs": [],
   "source": [
    "from multiLevelCoSurrogates.local import base_dir"
   ]
  },
  {
   "cell_type": "code",
   "execution_count": null,
   "metadata": {
    "ExecuteTime": {
     "end_time": "2018-07-09T12:21:43.699000Z",
     "start_time": "2018-07-09T12:21:43.538097Z"
    }
   },
   "outputs": [],
   "source": [
    "records = ['ei0.0_records.csv', 'ei0.0_diff_records.csv',\n",
    "           'ei0.5_records.csv', 'ei0.5_diff_records.csv', \n",
    "           'ei1.0_records.csv', 'ei1.0_diff_records.csv', \n",
    "           'ucb0.5_records.csv', 'ucb0.5_diff_records.csv', \n",
    "           'ucb1.0_records.csv', 'ucb1.0_diff_records.csv', \n",
    "           'ucb1.5_records.csv', 'ucb1.5_diff_records.csv', \n",
    "           'ucb2.0_records.csv', 'ucb2.0_diff_records.csv', \n",
    "           'ucb3.0_records.csv', 'ucb3.0_diff_records.csv', \n",
    "           'ucb4.0_records.csv', 'ucb4.0_diff_records.csv', \n",
    "           'ucb5.0_records.csv', 'ucb5.0_diff_records.csv', ]\n",
    "\n",
    "print(os.listdir(base_dir))\n",
    "\n",
    "df = pd.read_csv(base_dir+records[0], index_col='index')\n",
    "df.head()"
   ]
  },
  {
   "cell_type": "code",
   "execution_count": null,
   "metadata": {
    "ExecuteTime": {
     "end_time": "2018-07-09T12:21:47.231099Z",
     "start_time": "2018-07-09T12:21:43.703996Z"
    }
   },
   "outputs": [],
   "source": [
    "fig, axes = plt.subplots(3,2, figsize=(9,9))\n",
    "\n",
    "grouped = df.groupby(by=['which_model', 'fidelity'])\n",
    "\n",
    "for ax, group in zip(axes.flatten(), grouped):\n",
    "    name, sub_df = group\n",
    "    sub_df = sub_df.groupby(by='iteration').mean()\n",
    "    sub_df.plot(y=['mse_high', 'mse_low', 'mse_hier'], ax=ax)\n",
    "    ax.set_title('acq on {}, {} fidelity updated'.format(*name))\n",
    "\n",
    "plt.tight_layout()\n",
    "plt.show()"
   ]
  },
  {
   "cell_type": "code",
   "execution_count": null,
   "metadata": {
    "ExecuteTime": {
     "end_time": "2018-07-09T12:22:36.276065Z",
     "start_time": "2018-07-09T12:22:36.183123Z"
    }
   },
   "outputs": [],
   "source": [
    "def plot_normalized(df):\n",
    "\n",
    "    fig, axes = plt.subplots(3,2, figsize=(9,9))\n",
    "\n",
    "    grouped = df.groupby(by=['which_model', 'fidelity'])\n",
    "    mse_names = ['mse_high', 'mse_low', 'mse_hier']\n",
    "\n",
    "    for ax, group in zip(axes.flatten(), grouped):\n",
    "        name, sub_df = group\n",
    "\n",
    "        # Separate out the MSE values after initial training to use as reference\n",
    "        num_iters = len(sub_df['iteration'].unique())\n",
    "        first_rows = sub_df.loc[0::num_iters,mse_names].values\n",
    "\n",
    "        # Get all values and reshape without copying s.t. the iterations are a separate dimension\n",
    "        values = sub_df.loc[:,mse_names].values\n",
    "        old_shape = values.shape\n",
    "        new_shape = old_shape[0]//num_iters, num_iters, len(mse_names)\n",
    "        values.shape = new_shape\n",
    "\n",
    "        # Now we can use numpy's internal broadcasting for efficient division, and return the old shape afterwards\n",
    "        new_values = values / first_rows[:,None,:]\n",
    "        new_values.shape = old_shape\n",
    "\n",
    "        # Finally the values are returned to the dataframe and plotted\n",
    "        sub_df.loc[:,mse_names] = new_values\n",
    "        sub_df = sub_df.groupby(by='iteration').mean()\n",
    "        sub_df.plot(y=mse_names, ax=ax)\n",
    "        ax.set_title('acq on {}, {} fidelity updated'.format(*name))\n",
    "\n",
    "    plt.tight_layout()\n",
    "    plt.show()"
   ]
  },
  {
   "cell_type": "code",
   "execution_count": null,
   "metadata": {
    "ExecuteTime": {
     "end_time": "2018-07-09T12:22:40.145292Z",
     "start_time": "2018-07-09T12:22:36.282062Z"
    }
   },
   "outputs": [],
   "source": [
    "print(records[0])\n",
    "plot_normalized(pd.read_csv(base_dir+records[0], index_col='index'))"
   ]
  },
  {
   "cell_type": "code",
   "execution_count": null,
   "metadata": {
    "ExecuteTime": {
     "end_time": "2018-07-09T12:22:43.254619Z",
     "start_time": "2018-07-09T12:22:40.151283Z"
    }
   },
   "outputs": [],
   "source": [
    "print(records[1])\n",
    "plot_normalized(pd.read_csv(base_dir+records[1], index_col='index'))"
   ]
  },
  {
   "cell_type": "code",
   "execution_count": null,
   "metadata": {
    "ExecuteTime": {
     "end_time": "2018-07-09T12:22:46.385508Z",
     "start_time": "2018-07-09T12:22:43.259616Z"
    }
   },
   "outputs": [],
   "source": [
    "print(records[2])\n",
    "plot_normalized(pd.read_csv(base_dir+records[2], index_col='index'))"
   ]
  },
  {
   "cell_type": "code",
   "execution_count": null,
   "metadata": {
    "ExecuteTime": {
     "end_time": "2018-07-09T12:22:49.375786Z",
     "start_time": "2018-07-09T12:22:46.388506Z"
    }
   },
   "outputs": [],
   "source": [
    "print(records[3])\n",
    "plot_normalized(pd.read_csv(base_dir+records[3], index_col='index'))"
   ]
  },
  {
   "cell_type": "code",
   "execution_count": null,
   "metadata": {
    "ExecuteTime": {
     "end_time": "2018-07-09T12:22:52.510147Z",
     "start_time": "2018-07-09T12:22:49.379784Z"
    }
   },
   "outputs": [],
   "source": [
    "print(records[4])\n",
    "plot_normalized(pd.read_csv(base_dir+records[4], index_col='index'))"
   ]
  },
  {
   "cell_type": "code",
   "execution_count": null,
   "metadata": {
    "ExecuteTime": {
     "end_time": "2018-07-09T12:22:55.520348Z",
     "start_time": "2018-07-09T12:22:52.515144Z"
    }
   },
   "outputs": [],
   "source": [
    "print(records[5])\n",
    "plot_normalized(pd.read_csv(base_dir+records[5], index_col='index'))"
   ]
  },
  {
   "cell_type": "code",
   "execution_count": null,
   "metadata": {},
   "outputs": [],
   "source": [
    "print(records[6])\n",
    "plot_normalized(pd.read_csv(base_dir+records[6], index_col='index'))"
   ]
  },
  {
   "cell_type": "code",
   "execution_count": null,
   "metadata": {},
   "outputs": [],
   "source": [
    "print(records[7])\n",
    "plot_normalized(pd.read_csv(base_dir+records[7], index_col='index'))"
   ]
  },
  {
   "cell_type": "code",
   "execution_count": null,
   "metadata": {},
   "outputs": [],
   "source": [
    "print(records[8])\n",
    "plot_normalized(pd.read_csv(base_dir+records[8], index_col='index'))"
   ]
  },
  {
   "cell_type": "code",
   "execution_count": null,
   "metadata": {},
   "outputs": [],
   "source": [
    "print(records[9])\n",
    "plot_normalized(pd.read_csv(base_dir+records[9], index_col='index'))"
   ]
  },
  {
   "cell_type": "code",
   "execution_count": null,
   "metadata": {},
   "outputs": [],
   "source": [
    "print(records[10])\n",
    "plot_normalized(pd.read_csv(base_dir+records[10], index_col='index'))"
   ]
  },
  {
   "cell_type": "code",
   "execution_count": null,
   "metadata": {},
   "outputs": [],
   "source": [
    "print(records[11])\n",
    "plot_normalized(pd.read_csv(base_dir+records[11], index_col='index'))"
   ]
  },
  {
   "cell_type": "code",
   "execution_count": null,
   "metadata": {},
   "outputs": [],
   "source": [
    "new_base_dir = '/media/rijnsjvan/Data/HRI_EGN_Presentation_data/bifidbo/'\n",
    "new_records = ['ei_records.csv', 'ucb_records.csv']"
   ]
  },
  {
   "cell_type": "code",
   "execution_count": null,
   "metadata": {},
   "outputs": [],
   "source": [
    "print(new_records[0])\n",
    "plot_normalized(pd.read_csv(new_base_dir+new_records[0], index_col='index'))"
   ]
  },
  {
   "cell_type": "code",
   "execution_count": null,
   "metadata": {},
   "outputs": [],
   "source": [
    "print(new_records[1])\n",
    "plot_normalized(pd.read_csv(new_base_dir+new_records[1], index_col='index'))"
   ]
  },
  {
   "cell_type": "code",
   "execution_count": null,
   "metadata": {},
   "outputs": [],
   "source": []
  }
 ],
 "metadata": {
  "kernelspec": {
   "display_name": "Python 3",
   "language": "python",
   "name": "python3"
  },
  "language_info": {
   "codemirror_mode": {
    "name": "ipython",
    "version": 3
   },
   "file_extension": ".py",
   "mimetype": "text/x-python",
   "name": "python",
   "nbconvert_exporter": "python",
   "pygments_lexer": "ipython3",
   "version": "3.6.3"
  },
  "toc": {
   "colors": {
    "hover_highlight": "#DAA520",
    "running_highlight": "#FF0000",
    "selected_highlight": "#FFD700"
   },
   "moveMenuLeft": true,
   "nav_menu": {
    "height": "12px",
    "width": "252px"
   },
   "navigate_menu": true,
   "number_sections": true,
   "sideBar": true,
   "threshold": 4,
   "toc_cell": false,
   "toc_section_display": "block",
   "toc_window_display": false
  }
 },
 "nbformat": 4,
 "nbformat_minor": 2
}
