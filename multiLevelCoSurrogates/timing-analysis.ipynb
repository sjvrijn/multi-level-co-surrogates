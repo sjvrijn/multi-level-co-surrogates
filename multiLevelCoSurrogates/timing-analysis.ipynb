{
 "cells": [
  {
   "cell_type": "code",
   "execution_count": 2,
   "metadata": {
    "ExecuteTime": {
     "end_time": "2018-02-13T17:39:06.155175Z",
     "start_time": "2018-02-13T17:39:05.864414Z"
    }
   },
   "outputs": [],
   "source": [
    "%matplotlib inline\n",
    "\n",
    "import pandas as pd\n",
    "import numpy as np\n",
    "from matplotlib import pyplot as plt"
   ]
  },
  {
   "cell_type": "code",
   "execution_count": 3,
   "metadata": {
    "ExecuteTime": {
     "end_time": "2018-02-13T17:39:06.537237Z",
     "start_time": "2018-02-13T17:39:06.521005Z"
    }
   },
   "outputs": [],
   "source": [
    "import os\n",
    "import sys\n",
    "module_path = os.path.abspath(os.path.join('..'))\n",
    "if module_path not in sys.path:\n",
    "    sys.path.append(module_path)\n",
    "\n",
    "\n",
    "from multiLevelCoSurrogates.config import data_dir"
   ]
  },
  {
   "cell_type": "code",
   "execution_count": 4,
   "metadata": {
    "ExecuteTime": {
     "end_time": "2018-02-13T17:39:07.131292Z",
     "start_time": "2018-02-13T17:39:07.100227Z"
    }
   },
   "outputs": [
    {
     "data": {
      "text/html": [
       "<div>\n",
       "<style scoped>\n",
       "    .dataframe tbody tr th:only-of-type {\n",
       "        vertical-align: middle;\n",
       "    }\n",
       "\n",
       "    .dataframe tbody tr th {\n",
       "        vertical-align: top;\n",
       "    }\n",
       "\n",
       "    .dataframe thead th {\n",
       "        text-align: right;\n",
       "    }\n",
       "</style>\n",
       "<table border=\"1\" class=\"dataframe\">\n",
       "  <thead>\n",
       "    <tr style=\"text-align: right;\">\n",
       "      <th></th>\n",
       "      <th>Unnamed: 0</th>\n",
       "      <th>function</th>\n",
       "      <th>surrogate</th>\n",
       "      <th>usage</th>\n",
       "      <th>repetition</th>\n",
       "      <th>gen_int</th>\n",
       "      <th>lambda_pre</th>\n",
       "      <th>time</th>\n",
       "    </tr>\n",
       "  </thead>\n",
       "  <tbody>\n",
       "    <tr>\n",
       "      <th>0</th>\n",
       "      <td>0</td>\n",
       "      <td>bohachevsky</td>\n",
       "      <td>Kriging</td>\n",
       "      <td>reg</td>\n",
       "      <td>0</td>\n",
       "      <td>1</td>\n",
       "      <td>2</td>\n",
       "      <td>2.370154</td>\n",
       "    </tr>\n",
       "    <tr>\n",
       "      <th>1</th>\n",
       "      <td>1</td>\n",
       "      <td>bohachevsky</td>\n",
       "      <td>Kriging</td>\n",
       "      <td>reg</td>\n",
       "      <td>0</td>\n",
       "      <td>2</td>\n",
       "      <td>2</td>\n",
       "      <td>911.215102</td>\n",
       "    </tr>\n",
       "    <tr>\n",
       "      <th>2</th>\n",
       "      <td>2</td>\n",
       "      <td>bohachevsky</td>\n",
       "      <td>Kriging</td>\n",
       "      <td>reg</td>\n",
       "      <td>0</td>\n",
       "      <td>3</td>\n",
       "      <td>2</td>\n",
       "      <td>9.689295</td>\n",
       "    </tr>\n",
       "    <tr>\n",
       "      <th>3</th>\n",
       "      <td>3</td>\n",
       "      <td>bohachevsky</td>\n",
       "      <td>Kriging</td>\n",
       "      <td>reg</td>\n",
       "      <td>0</td>\n",
       "      <td>5</td>\n",
       "      <td>2</td>\n",
       "      <td>7.600224</td>\n",
       "    </tr>\n",
       "    <tr>\n",
       "      <th>4</th>\n",
       "      <td>4</td>\n",
       "      <td>bohachevsky</td>\n",
       "      <td>Kriging</td>\n",
       "      <td>reg</td>\n",
       "      <td>0</td>\n",
       "      <td>10</td>\n",
       "      <td>2</td>\n",
       "      <td>3.034205</td>\n",
       "    </tr>\n",
       "  </tbody>\n",
       "</table>\n",
       "</div>"
      ],
      "text/plain": [
       "   Unnamed: 0     function surrogate usage  repetition  gen_int  lambda_pre  \\\n",
       "0           0  bohachevsky   Kriging   reg           0        1           2   \n",
       "1           1  bohachevsky   Kriging   reg           0        2           2   \n",
       "2           2  bohachevsky   Kriging   reg           0        3           2   \n",
       "3           3  bohachevsky   Kriging   reg           0        5           2   \n",
       "4           4  bohachevsky   Kriging   reg           0       10           2   \n",
       "\n",
       "         time  \n",
       "0    2.370154  \n",
       "1  911.215102  \n",
       "2    9.689295  \n",
       "3    7.600224  \n",
       "4    3.034205  "
      ]
     },
     "execution_count": 4,
     "metadata": {},
     "output_type": "execute_result"
    }
   ],
   "source": [
    "df = pd.read_csv('{}timing_summary.csv'.format(data_dir))\n",
    "df.head()"
   ]
  },
  {
   "cell_type": "code",
   "execution_count": 5,
   "metadata": {
    "ExecuteTime": {
     "end_time": "2018-02-13T17:39:07.787952Z",
     "start_time": "2018-02-13T17:39:07.763457Z"
    }
   },
   "outputs": [
    {
     "data": {
      "text/plain": [
       "function          surrogate     usage      gen_int\n",
       "bohachevsky       Kriging       reg        1             2.029563\n",
       "                                           2           362.367661\n",
       "                                           3            93.718601\n",
       "                                           5            18.419717\n",
       "                                           10            7.384525\n",
       "                                scaled-MF  1            21.111009\n",
       "                                           2           193.280545\n",
       "                                           3           726.579070\n",
       "                                           5           385.362458\n",
       "                                           10          336.358855\n",
       "                  NoSurrogate   reg        0             0.066830\n",
       "                  RBF           reg        1             5.418155\n",
       "                                           2            49.927766\n",
       "                                           3            13.063291\n",
       "                                           5             9.251141\n",
       "                                           10            4.471756\n",
       "                                scaled-MF  1            25.079112\n",
       "                                           2           384.787984\n",
       "                                           3           387.762244\n",
       "                                           5           278.536950\n",
       "                                           10          126.617433\n",
       "                  RandomForest  reg        1             6.623647\n",
       "                                           2            38.976525\n",
       "                                           3            73.708086\n",
       "                                           5            64.270629\n",
       "                                           10           68.624900\n",
       "                                scaled-MF  1             7.636831\n",
       "                                           2            18.211764\n",
       "                                           3            15.498324\n",
       "                                           5            25.979968\n",
       "                                                         ...     \n",
       "sixHumpCamelBack  Kriging       reg        2            62.332432\n",
       "                                           3            17.601912\n",
       "                                           5            11.505197\n",
       "                                           10            5.629224\n",
       "                                scaled-MF  1          2684.943920\n",
       "                                           2           544.923991\n",
       "                                           3           504.744015\n",
       "                                           5           249.306181\n",
       "                                           10          223.748709\n",
       "                  NoSurrogate   reg        0             0.068526\n",
       "                  RBF           reg        1             1.446473\n",
       "                                           2             9.697577\n",
       "                                           3            18.791811\n",
       "                                           5            11.890552\n",
       "                                           10            6.716189\n",
       "                                scaled-MF  1            16.552191\n",
       "                                           2            91.088971\n",
       "                                           3           255.506298\n",
       "                                           5           227.796684\n",
       "                                           10           71.045839\n",
       "                  RandomForest  reg        1             6.710073\n",
       "                                           2            45.386141\n",
       "                                           3           105.389470\n",
       "                                           5            65.094457\n",
       "                                           10           65.490530\n",
       "                                scaled-MF  1             5.290394\n",
       "                                           2            15.535213\n",
       "                                           3            21.291820\n",
       "                                           5            29.971835\n",
       "                                           10           29.383050\n",
       "Name: time, Length: 248, dtype: float64"
      ]
     },
     "execution_count": 5,
     "metadata": {},
     "output_type": "execute_result"
    }
   ],
   "source": [
    "df.groupby(by=['function', 'surrogate', 'usage', 'gen_int'])['time'].mean()"
   ]
  },
  {
   "cell_type": "code",
   "execution_count": 15,
   "metadata": {
    "ExecuteTime": {
     "end_time": "2018-02-13T17:43:13.659360Z",
     "start_time": "2018-02-13T17:43:13.451702Z"
    }
   },
   "outputs": [
    {
     "data": {
      "text/plain": [
       "<matplotlib.axes._subplots.AxesSubplot at 0x7f928e6e5b70>"
      ]
     },
     "execution_count": 15,
     "metadata": {},
     "output_type": "execute_result"
    },
    {
     "data": {
      "image/png": "[encoded data removed]",
      "text/plain": [
       "<matplotlib.figure.Figure at 0x7f928e6f1550>"
      ]
     },
     "metadata": {},
     "output_type": "display_data"
    }
   ],
   "source": [
    "df[(df['function']=='bohachevsky') & (df['gen_int']==1)].boxplot(column='time', by=['surrogate', 'usage'])\n",
    "    "
   ]
  },
  {
   "cell_type": "code",
   "execution_count": null,
   "metadata": {},
   "outputs": [],
   "source": []
  }
 ],
 "metadata": {
  "kernelspec": {
   "display_name": "Python 2",
   "language": "python",
   "name": "python2"
  },
  "language_info": {
   "codemirror_mode": {
    "name": "ipython",
    "version": 3
   },
   "file_extension": ".py",
   "mimetype": "text/x-python",
   "name": "python",
   "nbconvert_exporter": "python",
   "pygments_lexer": "ipython3",
   "version": "3.6.3"
  },
  "toc": {
   "nav_menu": {},
   "number_sections": true,
   "sideBar": true,
   "skip_h1_title": false,
   "toc_cell": false,
   "toc_position": {},
   "toc_section_display": "block",
   "toc_window_display": false
  }
 },
 "nbformat": 4,
 "nbformat_minor": 1
}
