{
 "cells": [
  {
   "cell_type": "code",
   "execution_count": null,
   "metadata": {},
   "outputs": [],
   "source": [
    "%matplotlib inline\n",
    "from matplotlib import colors\n",
    "import matplotlib.pyplot as plt\n",
    "import numpy as np\n",
    "from pathlib import Path\n",
    "import sys\n",
    "import warnings\n",
    "\n",
    "from itertools import product\n",
    "from more_itertools import chunked\n",
    "from functools import partial\n",
    "from collections import namedtuple\n",
    "import multifidelityfunctions as mff\n",
    "import multiLevelCoSurrogates as mlcs\n",
    "\n",
    "from pyprojroot import here\n",
    "\n",
    "np.random.seed(20160501)  # Setting seed for reproducibility\n",
    "\n",
    "module_path = Path().joinpath('..')\n",
    "if module_path not in sys.path:\n",
    "    sys.path.append(module_path)\n",
    "\n",
    "from IPython.core.display import clear_output\n",
    "from pprint import pprint\n",
    "np.set_printoptions(linewidth=200, edgeitems=10, precision=4, suppress=True)\n",
    "plot_dir = here('plots/')\n",
    "data_dir = here('files/2019-08_MSE_npy/')"
   ]
  },
  {
   "cell_type": "code",
   "execution_count": null,
   "metadata": {},
   "outputs": [],
   "source": [
    "forr_1d = np.load(data_dir.joinpath('Matern_1d_forrester_lin_mse_tracking.npy'))\n",
    "forr_2d = np.load(data_dir.joinpath('Matern_2d_forrester_lin_mse_tracking.npy'))"
   ]
  },
  {
   "cell_type": "code",
   "execution_count": null,
   "metadata": {},
   "outputs": [],
   "source": [
    "forr_1d.shape"
   ]
  },
  {
   "cell_type": "code",
   "execution_count": null,
   "metadata": {},
   "outputs": [],
   "source": [
    "num_colors = 5\n",
    "\n",
    "norm1 = colors.LogNorm(vmin=1e-3, vmax=1e2, clip=True)\n",
    "norm2 = colors.LogNorm(vmin=1e-1, vmax=2.5e1, clip=True)\n",
    "discrete_cmap = plt.get_cmap('viridis_r', num_colors)"
   ]
  },
  {
   "cell_type": "code",
   "execution_count": null,
   "metadata": {},
   "outputs": [],
   "source": [
    "plt.imshow(forr_1d[:,:,0,1], norm=norm1, origin='lower', cmap=discrete_cmap)\n",
    "plt.colorbar()\n",
    "plt.show()\n",
    "plt.imshow(forr_1d[:,:,0,0], norm=norm1, origin='lower',  cmap=discrete_cmap,)\n",
    "plt.colorbar()\n",
    "plt.show()"
   ]
  },
  {
   "cell_type": "code",
   "execution_count": null,
   "metadata": {},
   "outputs": [],
   "source": [
    "plt.imshow(np.median(forr_1d[:,:,:,1], axis=2), norm=norm1, origin='lower', cmap=discrete_cmap)\n",
    "plt.colorbar()\n",
    "plt.axhline(10, color='black', alpha=.5)\n",
    "plt.axhline(20, color='black', alpha=.5)\n",
    "plt.axhline(30, color='black', alpha=.5)\n",
    "plt.axhline(40, color='black', alpha=.5)\n",
    "plt.show()\n",
    "plt.imshow(np.median(forr_1d[:,:,:,0], axis=2), norm=norm1, origin='lower',  cmap=discrete_cmap,)\n",
    "plt.colorbar()\n",
    "plt.show()"
   ]
  },
  {
   "cell_type": "code",
   "execution_count": null,
   "metadata": {},
   "outputs": [],
   "source": [
    "plt.imshow(np.mean(forr_2d[:,:,:,1], axis=2), norm=norm2, origin='lower', cmap=discrete_cmap)\n",
    "plt.colorbar()\n",
    "plt.axhline(10, color='black', alpha=.5)\n",
    "plt.axhline(20, color='black', alpha=.5)\n",
    "plt.axhline(30, color='black', alpha=.5)\n",
    "plt.axhline(40, color='black', alpha=.5)\n",
    "plt.show()\n",
    "plt.imshow(np.mean(forr_2d[:,:,:,0], axis=2), norm=norm2, origin='lower',  cmap=discrete_cmap,)\n",
    "plt.colorbar()\n",
    "plt.show()"
   ]
  },
  {
   "cell_type": "code",
   "execution_count": null,
   "metadata": {},
   "outputs": [],
   "source": [
    "from scipy.spatial.distance import pdist\n",
    "from pyDOE import lhs"
   ]
  },
  {
   "cell_type": "code",
   "execution_count": null,
   "metadata": {},
   "outputs": [],
   "source": [
    "def low_lhs_sample(ndim, nlow):\n",
    "    if ndim == 1:\n",
    "        return np.linspace(0,1,nlow).reshape(-1,1)\n",
    "    elif ndim > 1:\n",
    "        return lhs(ndim, nlow)"
   ]
  },
  {
   "cell_type": "code",
   "execution_count": null,
   "metadata": {},
   "outputs": [],
   "source": [
    "save_name = data_dir.joinpath('minimum_distance_sampling.npy')\n",
    "dims = [1,2,4,6,8]\n",
    "\n",
    "if not save_name.exists():\n",
    "    dists = np.empty((51,126,50,10))\n",
    "    dists[:] = np.nan\n",
    "\n",
    "    for i,j,k,ndim in product(range(51), range(126), range(50), dims):\n",
    "        if i < 2 or not j > i:\n",
    "            continue\n",
    "        sample = low_lhs_sample(ndim, j)\n",
    "        subsample = sample[np.random.choice(j, i, replace=False)]\n",
    "        dists[i,j,k,ndim] = np.min(pdist(subsample))\n",
    "\n",
    "    np.save(save_name, dists)\n",
    "else:\n",
    "    dists = np.load(save_name)"
   ]
  },
  {
   "cell_type": "code",
   "execution_count": null,
   "metadata": {},
   "outputs": [],
   "source": [
    "!ls -lh /tank/rijnsjvan/mlcs-files/2019-08_MSE_npy | grep minimum"
   ]
  },
  {
   "cell_type": "code",
   "execution_count": null,
   "metadata": {},
   "outputs": [],
   "source": [
    "num_colors=9\n",
    "discrete_cmap = plt.get_cmap('viridis', num_colors)\n",
    "\n",
    "norms = [colors.LogNorm(vmin=1e-2, vmax=1, clip=True),\n",
    "         colors.LogNorm(vmin=1e-2, vmax=1, clip=True),\n",
    "         colors.LogNorm(vmin=1e-1, vmax=1, clip=True),\n",
    "         colors.LogNorm(vmin=2e-1, vmax=1, clip=True),\n",
    "         colors.LogNorm(vmin=3e-1, vmax=1, clip=True),]\n",
    "\n",
    "for norm, ndim in zip(norms, dims):\n",
    "    \n",
    "    plt.figure(figsize=(9,3.5))\n",
    "#     plt.imshow(np.mean(dists[:,:,:,ndim], axis=2), norm=norm, origin='lower', cmap='viridis_r')\n",
    "    plt.imshow(np.mean(dists[:,:,:,ndim], axis=2), origin='lower', cmap=discrete_cmap, norm=norm)\n",
    "    plt.xlabel('$j$')\n",
    "    plt.ylabel('$i$')\n",
    "    plt.title(f\"Mean minimum distance between $i$ points when randomly\\n chosen from $j$ evenly spaced points ({ndim}D).\")\n",
    "    plt.colorbar()\n",
    "    plt.tight_layout()\n",
    "    plt.savefig(plot_dir.joinpath(f'distance_problem_{ndim}.pdf'))\n",
    "    plt.show()"
   ]
  },
  {
   "cell_type": "code",
   "execution_count": null,
   "metadata": {},
   "outputs": [],
   "source": [
    "def quicktest():\n",
    "    max_high = 51\n",
    "    max_low = 52\n",
    "    num_iters = 10\n",
    "    dists = np.empty((max_high,max_low,num_iters,10))\n",
    "    dists[:] = np.nan\n",
    "\n",
    "    dims = [1,2,4,6,8]\n",
    "    # ndim = 1\n",
    "    for i,j,k,ndim in product(range(max_high), range(max_low), range(num_iters), dims):\n",
    "        if i < 2 or not j > i:\n",
    "            continue\n",
    "        sample = low_lhs_sample(ndim, j)\n",
    "        subsample = sample[np.random.choice(j, i, replace=False)]\n",
    "        dists[i,j,k,ndim] = np.min(pdist(subsample))\n"
   ]
  },
  {
   "cell_type": "code",
   "execution_count": null,
   "metadata": {},
   "outputs": [],
   "source": [
    "%prun quicktest()"
   ]
  },
  {
   "cell_type": "code",
   "execution_count": null,
   "metadata": {},
   "outputs": [],
   "source": [
    "%load_ext line_profiler"
   ]
  },
  {
   "cell_type": "code",
   "execution_count": null,
   "metadata": {},
   "outputs": [],
   "source": [
    "%lprun -f quicktest quicktest()"
   ]
  },
  {
   "cell_type": "code",
   "execution_count": null,
   "metadata": {},
   "outputs": [],
   "source": []
  }
 ],
 "metadata": {
  "kernelspec": {
   "display_name": "Python 3",
   "language": "python",
   "name": "python3"
  },
  "language_info": {
   "codemirror_mode": {
    "name": "ipython",
    "version": 3
   },
   "file_extension": ".py",
   "mimetype": "text/x-python",
   "name": "python",
   "nbconvert_exporter": "python",
   "pygments_lexer": "ipython3",
   "version": "3.7.2"
  }
 },
 "nbformat": 4,
 "nbformat_minor": 2
}
