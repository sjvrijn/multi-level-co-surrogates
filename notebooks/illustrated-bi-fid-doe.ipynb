{
 "cells": [
  {
   "cell_type": "markdown",
   "metadata": {},
   "source": [
    "## Imports and original function"
   ]
  },
  {
   "cell_type": "code",
   "execution_count": null,
   "metadata": {},
   "outputs": [],
   "source": [
    "from collections import namedtuple\n",
    "\n",
    "import numpy as np\n",
    "import matplotlib.pyplot as plt\n",
    "from pyDOE import lhs\n",
    "from scipy.spatial import distance\n",
    "from pyprojroot import here\n",
    "\n",
    "\n",
    "BiFidelityDoE = namedtuple(\"BiFidelityDoE\", \"high low\")\n",
    "\n",
    "\n",
    "def low_lhs_sample(ndim, nlow):\n",
    "    if ndim == 1:\n",
    "        return np.linspace(0,1,nlow).reshape(-1,1)\n",
    "    elif ndim > 1:\n",
    "        return lhs(ndim, nlow)\n",
    "\n",
    "\n",
    "def bi_fidelity_doe(ndim, num_high, num_low):\n",
    "    \"\"\"Create a Design of Experiments (DoE) for two fidelities in `ndim`\n",
    "    dimensions. The high-fidelity samples are guaranteed to be a subset\n",
    "    of the low-fidelity samples.\n",
    "\n",
    "    :returns high-fidelity samples, low-fidelity samples\n",
    "    \"\"\"\n",
    "    high_x = low_lhs_sample(ndim, num_high)\n",
    "    low_x = low_lhs_sample(ndim, num_low)\n",
    "\n",
    "    dists = distance.cdist(high_x, low_x)\n",
    "\n",
    "    #TODO: this is the naive method, potentially speed up?\n",
    "    highs_to_match = set(range(num_high))\n",
    "    while highs_to_match:\n",
    "        min_dist = np.min(dists)\n",
    "        high_idx, low_idx = np.argwhere(dists == min_dist)[0]\n",
    "\n",
    "        low_x[low_idx] = high_x[high_idx]\n",
    "        # make sure just selected samples are not re-selectable\n",
    "        dists[high_idx,:] = np.inf\n",
    "        dists[:,low_idx] = np.inf\n",
    "        highs_to_match.remove(high_idx)\n",
    "    return BiFidelityDoE(high_x, low_x)"
   ]
  },
  {
   "cell_type": "markdown",
   "metadata": {},
   "source": [
    "### plotting result of a bi-fid-DoE"
   ]
  },
  {
   "cell_type": "code",
   "execution_count": null,
   "metadata": {},
   "outputs": [],
   "source": [
    "np.random.seed(20160501)\n",
    "\n",
    "bfd = bi_fidelity_doe(2, 10, 20)\n",
    "\n",
    "plt.scatter(*bfd.low.T, s=36, marker='o', label='low')\n",
    "plt.scatter(*bfd.high.T, s=288, marker='+', label='high')\n",
    "plt.legend(loc=0)\n",
    "plt.show()"
   ]
  },
  {
   "cell_type": "markdown",
   "metadata": {},
   "source": [
    "## Defining illustrated bi-fid-doe function showing stepwise progress."
   ]
  },
  {
   "cell_type": "code",
   "execution_count": null,
   "metadata": {},
   "outputs": [],
   "source": [
    "def illustrated_bi_fidelity_doe(ndim, num_high, num_low, intermediate=True,\n",
    "                                as_pdf=True, save_dir=None):\n",
    "    \"\"\"Create a Design of Experiments (DoE) for two fidelities in `ndim`\n",
    "    dimensions. The high-fidelity samples are guaranteed to be a subset\n",
    "    of the low-fidelity samples.\n",
    "\n",
    "    :returns high-fidelity samples, low-fidelity samples\n",
    "    \"\"\"\n",
    "    \n",
    "    extension = 'pdf' if as_pdf else 'png'\n",
    "    \n",
    "    high_x = low_lhs_sample(ndim, num_high)\n",
    "    low_x = low_lhs_sample(ndim, num_low)\n",
    "\n",
    "    dists = distance.cdist(high_x, low_x)\n",
    "    fig_size = (4, 4) if ndim >= 2 else (4, 2)\n",
    "    plt.rcParams.update({'font.size': 16})\n",
    "    plt.rc('axes', labelsize=20)\n",
    "    \n",
    "    low_style = {'s': 36}\n",
    "    high_style = {'s': 288, 'marker': '+'}\n",
    "    arrow_style = {\n",
    "        'width': .0025,\n",
    "        'head_width': .03,\n",
    "        'facecolor': 'black', \n",
    "        'length_includes_head': True,\n",
    "    }\n",
    "\n",
    "    #TODO: this is the naive method, potentially speed up?\n",
    "    highs_to_match = set(range(num_high))\n",
    "    while highs_to_match:\n",
    "\n",
    "        min_dist = np.min(dists)\n",
    "        high_idx, low_idx = np.argwhere(dists == min_dist)[0]\n",
    "        \n",
    "        if intermediate:\n",
    "            xlow = low_x.T[0]\n",
    "            xhigh = high_x.T[0]\n",
    "            if ndim >= 2:\n",
    "                ylow = low_x.T[1]\n",
    "                yhigh = high_x.T[1]\n",
    "            else:\n",
    "                ylow = np.zeros(xlow.shape)\n",
    "                yhigh = np.zeros(xhigh.shape)\n",
    "\n",
    "            plt.figure(figsize=fig_size, constrained_layout=True)\n",
    "            plt.scatter(xlow, ylow, label='low', **low_style)\n",
    "            plt.scatter(xhigh, yhigh, label='high', **high_style)\n",
    "            plt.arrow(\n",
    "                *low_x[low_idx],\n",
    "                *(high_x[high_idx] - low_x[low_idx]),\n",
    "                **arrow_style,\n",
    "            )\n",
    "            plt.xticks([])\n",
    "            plt.yticks([])\n",
    "            plt.xlabel('$x_1$')\n",
    "            plt.ylabel('$x_2$')\n",
    "            plt.title(f'step {num_high-len(highs_to_match)}/{num_high}')\n",
    "            if save_dir:\n",
    "                plt.savefig(save_dir / f'illustrated-bi-fid-doe-{num_high-len(highs_to_match)}.{extension}')\n",
    "            plt.show()\n",
    "            plt.close()\n",
    "\n",
    "        low_x[low_idx] = high_x[high_idx]\n",
    "        # make sure just selected samples are not re-selectable\n",
    "        dists[high_idx,:] = np.inf\n",
    "        dists[:,low_idx] = np.inf\n",
    "        highs_to_match.remove(high_idx)\n",
    "    \n",
    "\n",
    "    xlow = low_x.T[0]\n",
    "    xhigh = high_x.T[0]\n",
    "    if ndim >= 2:\n",
    "        ylow = low_x.T[1]\n",
    "        yhigh = high_x.T[1]\n",
    "    else:\n",
    "        ylow = np.zeros(xlow.shape)\n",
    "        yhigh = np.zeros(xhigh.shape)\n",
    "    \n",
    "    plt.figure(figsize=fig_size, constrained_layout=True)\n",
    "    plt.scatter(xlow, ylow, label='low', **low_style)\n",
    "    plt.scatter(xhigh, yhigh, label='high', **high_style)\n",
    "    plt.xticks([])\n",
    "    plt.yticks([])\n",
    "    plt.xlabel('$x_1$')\n",
    "    plt.ylabel('$x_2$')\n",
    "    plt.title(f'step {num_high-len(highs_to_match)}/{num_high}')\n",
    "    if save_dir:\n",
    "        plt.savefig(save_dir / f'illustrated-bi-fid-doe-{ndim}d-{num_high}-{num_low}-{num_high-len(highs_to_match)}.{extension}')\n",
    "    plt.show()\n",
    "\n",
    "    return BiFidelityDoE(high_x, low_x)"
   ]
  },
  {
   "cell_type": "markdown",
   "metadata": {},
   "source": [
    "## Showing stepwise progress for 2d (20,10) DoE"
   ]
  },
  {
   "cell_type": "code",
   "execution_count": null,
   "metadata": {},
   "outputs": [],
   "source": [
    "np.random.seed(20160501)\n",
    "\n",
    "plot_dir = here('plots') / 'illustrated-doe'\n",
    "plot_dir.mkdir(exist_ok=True, parents=True)\n",
    "\n",
    "_ = illustrated_bi_fidelity_doe(2, 10, 20, save_dir=plot_dir)"
   ]
  },
  {
   "cell_type": "markdown",
   "metadata": {},
   "source": [
    "## Investigating 1D DoE results"
   ]
  },
  {
   "cell_type": "code",
   "execution_count": null,
   "metadata": {},
   "outputs": [],
   "source": [
    "np.random.seed(20160501)\n",
    "\n",
    "plot_dir = here('plots') / 'illustrated-doe'\n",
    "plot_dir.mkdir(exist_ok=True, parents=True)\n",
    "\n",
    "ratio = 1.5\n",
    "examples = []\n",
    "for nh in range(10, 20):\n",
    "    x = int(nh*ratio)\n",
    "    for nl in range(x-1, x+2):\n",
    "        print(f'{nh} {nl} ({np.round(nl/nh,2)})')\n",
    "        _ = illustrated_bi_fidelity_doe(1, nh, nl, save_dir=plot_dir, as_pdf=False, intermediate=False)"
   ]
  },
  {
   "cell_type": "markdown",
   "metadata": {},
   "source": [
    "## Animation setup"
   ]
  },
  {
   "cell_type": "code",
   "execution_count": null,
   "metadata": {},
   "outputs": [],
   "source": [
    "from functools import partial\n",
    "\n",
    "def generator(n):\n",
    "    for i in range(n):\n",
    "        yield i*i\n",
    "\n",
    "def animator(i, gen):\n",
    "    return next(gen)\n",
    "\n",
    "animate = partial(animator, gen=generator(10))\n",
    "for i in range(10):\n",
    "    print(animate(i))\n"
   ]
  },
  {
   "cell_type": "code",
   "execution_count": null,
   "metadata": {},
   "outputs": [],
   "source": [
    "###TODO: http://louistiao.me/posts/notebooks/save-matplotlib-animations-as-gifs/"
   ]
  },
  {
   "cell_type": "code",
   "execution_count": null,
   "metadata": {},
   "outputs": [],
   "source": []
  }
 ],
 "metadata": {
  "kernelspec": {
   "display_name": "Python 3",
   "language": "python",
   "name": "python3"
  },
  "language_info": {
   "codemirror_mode": {
    "name": "ipython",
    "version": 3
   },
   "file_extension": ".py",
   "mimetype": "text/x-python",
   "name": "python",
   "nbconvert_exporter": "python",
   "pygments_lexer": "ipython3",
   "version": "3.7.2"
  }
 },
 "nbformat": 4,
 "nbformat_minor": 4
}
