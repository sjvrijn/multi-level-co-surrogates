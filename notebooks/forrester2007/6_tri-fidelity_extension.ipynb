{
 "cells": [
  {
   "cell_type": "code",
   "execution_count": null,
   "metadata": {},
   "outputs": [],
   "source": [
    "%matplotlib inline\n",
    "import matplotlib.pyplot as plt\n",
    "import numpy as np\n",
    "import sys\n",
    "from pathlib import Path\n",
    "\n",
    "module_path = Path('../..')\n",
    "if module_path not in sys.path:\n",
    "    sys.path.append(str(module_path.resolve()))\n",
    "    \n",
    "import mf2\n",
    "import multiLevelCoSurrogates as mlcs\n",
    "\n",
    "np.random.seed(20160501)  # Setting seed for reproducibility\n",
    "OD = mff.forrester\n",
    "\n",
    "np.set_printoptions(linewidth=200, edgeitems=10, precision=4, suppress=True)\n",
    "plot_dir = Path('../../plots/')\n",
    "data_dir = Path('../../files/')\n",
    "\n",
    "from function_defs import *"
   ]
  },
  {
   "cell_type": "markdown",
   "metadata": {},
   "source": [
    "# Extension to 3 fidelities"
   ]
  }
 ],
 "metadata": {
  "kernelspec": {
   "display_name": "Python 3",
   "language": "python",
   "name": "python3"
  },
  "language_info": {
   "codemirror_mode": {
    "name": "ipython",
    "version": 3
   },
   "file_extension": ".py",
   "mimetype": "text/x-python",
   "name": "python",
   "nbconvert_exporter": "python",
   "pygments_lexer": "ipython3",
   "version": "3.6.3"
  },
  "toc-autonumbering": true,
  "toc-showcode": false,
  "toc-showmarkdowntxt": false,
  "toc-showtags": false,
  "pycharm": {
   "stem_cell": {
    "cell_type": "raw",
    "source": [],
    "metadata": {
     "collapsed": false
    }
   }
  }
 },
 "nbformat": 4,
 "nbformat_minor": 2
}
