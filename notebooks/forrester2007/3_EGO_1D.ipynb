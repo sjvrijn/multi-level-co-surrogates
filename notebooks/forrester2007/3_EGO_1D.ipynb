{
 "cells": [
  {
   "cell_type": "code",
   "execution_count": null,
   "metadata": {},
   "outputs": [],
   "source": [
    "%matplotlib inline\n",
    "import matplotlib.pyplot as plt\n",
    "import numpy as np\n",
    "import sys\n",
    "import warnings\n",
    "from pathlib import Path\n",
    "\n",
    "module_path = Path('../..')\n",
    "if module_path not in sys.path:\n",
    "    sys.path.append(str(module_path.resolve()))\n",
    "\n",
    "import mf2\n",
    "import multiLevelCoSurrogates as mlcs\n",
    "\n",
    "np.random.seed(20160501)  # Setting seed for reproducibility\n",
    "OD = mf2.forrester\n",
    "\n",
    "np.set_printoptions(linewidth=200, edgeitems=10, precision=4, suppress=True)\n",
    "plot_dir = Path('../../plots/')\n",
    "data_dir = Path('../../files/')"
   ]
  },
  {
   "cell_type": "markdown",
   "metadata": {},
   "source": [
    "# EGO - 1D function"
   ]
  },
  {
   "cell_type": "markdown",
   "metadata": {},
   "source": [
    "First creating an inverted function as BO is currently hardcoded for maximization problems"
   ]
  },
  {
   "cell_type": "code",
   "execution_count": null,
   "metadata": {},
   "outputs": [],
   "source": [
    "inv_OD = mf2.MultiFidelityFunction(\n",
    "    name='Inverted Forrester',\n",
    "    u_bound=np.array(OD.u_bound), l_bound=np.array(OD.l_bound),\n",
    "    functions=[lambda x: -OD.high(x), lambda x: -OD.low(x)],\n",
    "    fidelity_names=['high', 'low'],\n",
    ")"
   ]
  },
  {
   "cell_type": "code",
   "execution_count": null,
   "metadata": {},
   "outputs": [],
   "source": [
    "plot_x = np.linspace(start=0,stop=1,num=501).reshape(-1,1)\n",
    "low_x = np.linspace(0,1,6).reshape((-1,1))\n",
    "high_x = low_x[[2,3]].reshape((-1,1))\n",
    "\n",
    "archive = mlcs.CandidateArchive(ndim=1, fidelities=['high', 'low', 'high-low'])\n",
    "archive.addcandidates(low_x, inv_OD.low(low_x), fidelity='low')\n",
    "archive.addcandidates(high_x, inv_OD.high(high_x), fidelity='high')\n",
    "\n",
    "np.random.seed(20160501)\n",
    "mfbo = mlcs.MultiFidelityBO(inv_OD, archive, schema=[1,1])\n",
    "\n",
    "# Plotting\n",
    "fig, axes = plt.subplots(3,3, figsize=(12,9))\n",
    "\n",
    "for idx, ax in enumerate(axes.flatten()):\n",
    "    with warnings.catch_warnings():\n",
    "        warnings.simplefilter(\"ignore\")\n",
    "        plot_hier, std_hier = mfbo.models['high'].predict(plot_x, mode='both')\n",
    "    \n",
    "    line_1, = ax.plot(plot_x, inv_OD.high(plot_x), label='high')\n",
    "    line_2, = ax.plot(plot_x, inv_OD.low(plot_x), label='low')\n",
    "    line_high, = ax.plot(plot_x, mfbo.direct_models['high'].predict(plot_x), label='high-fit GP')\n",
    "    line_hier, = ax.plot(plot_x, mfbo.models['high'].predict(plot_x), label='co-kriging')\n",
    "    scat_2 = ax.scatter(*archive.getcandidates(fidelity='low'), color=line_2.get_color())\n",
    "    scat_1 = ax.scatter(*archive.getcandidates(fidelity='high'), color=line_1.get_color())\n",
    "    \n",
    "    ax.fill_between(plot_x.flatten(), plot_hier - 3*std_hier, plot_hier + 3*std_hier, alpha=.25, color=line_hier.get_color())\n",
    "    \n",
    "    ax2 = ax.twinx()\n",
    "    with warnings.catch_warnings():\n",
    "        warnings.simplefilter(\"ignore\")\n",
    "        line_acq, = ax2.plot(plot_x, mfbo.utility(plot_x, gp=mfbo.models['high'], y_max=archive.max['high']),\n",
    "                             alpha=.5, label='acq', color='C4')\n",
    "        line_std_low, = ax2.plot(plot_x, mfbo.models['low'].predict(plot_x, mode='std'),\n",
    "                                 alpha=.5, label='std low', color='C5', ls='--', )\n",
    "        line_std_diff, = ax2.plot(plot_x, mfbo.models['high'].diff_model.predict(plot_x, mode='std'),\n",
    "                                  alpha=.5, label='std diff', color='C6', ls=':', )\n",
    "#     line_std, = ax2.plot(plot_x, std_hier, color='C7', label='std hierarchical')\n",
    "    ax2.set_ylim(bottom=0)    \n",
    "    \n",
    "    lines = [\n",
    "        line_1, line_2, line_high, line_hier, \n",
    "        line_std_low, line_std_diff, line_acq,\n",
    "#         line_std,\n",
    "    ]\n",
    "    \n",
    "    ax.set_title(f'Iteration {idx}')\n",
    "    ax.set_xlim([0, 1])\n",
    "    ax.set_ylim([-16, 10])\n",
    "    ax.set_xlabel('x')\n",
    "    ax.set_ylabel('y')\n",
    "    ax2.tick_params('y', colors='#555555')\n",
    "    \n",
    "    \n",
    "    with warnings.catch_warnings():\n",
    "        warnings.simplefilter(\"ignore\")\n",
    "        mfbo.iteration(idx)\n",
    "\n",
    "plt.tight_layout()\n",
    "plt.subplots_adjust(bottom=0.1)\n",
    "ax = fig.add_axes([0,0, 1,.05])\n",
    "ax.axis('off')\n",
    "ax.legend(\n",
    "    lines, [l.get_label() for l in lines], ncol=4,\n",
    "    loc='upper center', bbox_to_anchor=(.5,1),\n",
    ")\n",
    "    \n",
    "plt.savefig(f'{plot_dir}1D_BO.png')\n",
    "plt.savefig(f'{plot_dir}1D_BO.pdf')\n",
    "plt.show()"
   ]
  }
 ],
 "metadata": {
  "kernelspec": {
   "display_name": "Python 3",
   "language": "python",
   "name": "python3"
  },
  "language_info": {
   "codemirror_mode": {
    "name": "ipython",
    "version": 3
   },
   "file_extension": ".py",
   "mimetype": "text/x-python",
   "name": "python",
   "nbconvert_exporter": "python",
   "pygments_lexer": "ipython3",
   "version": "3.6.3"
  },
  "toc-autonumbering": true,
  "toc-showcode": false,
  "toc-showmarkdowntxt": false,
  "toc-showtags": false,
  "pycharm": {
   "stem_cell": {
    "cell_type": "raw",
    "source": [],
    "metadata": {
     "collapsed": false
    }
   }
  }
 },
 "nbformat": 4,
 "nbformat_minor": 2
}
