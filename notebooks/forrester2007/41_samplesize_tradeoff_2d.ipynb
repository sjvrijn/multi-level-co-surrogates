{
 "cells": [
  {
   "cell_type": "code",
   "execution_count": null,
   "metadata": {},
   "outputs": [],
   "source": [
    "%matplotlib inline\n",
    "from matplotlib import colors\n",
    "from mpl_toolkits.axes_grid1 import make_axes_locatable   \n",
    "from pyDOE import lhs\n",
    "import matplotlib.pyplot as plt\n",
    "import numpy as np\n",
    "import time\n",
    "import os\n",
    "import sys\n",
    "import warnings\n",
    "\n",
    "module_path = os.path.abspath(os.path.join('../..'))\n",
    "if module_path not in sys.path:\n",
    "    sys.path.append(module_path)\n",
    "    \n",
    "from itertools import product\n",
    "from more_itertools import chunked\n",
    "from functools import partial\n",
    "import multifidelityfunctions as mff\n",
    "import multiLevelCoSurrogates as mlcs\n",
    "from sklearn.gaussian_process import GaussianProcessRegressor, kernels\n",
    "from sklearn.ensemble import RandomForestRegressor\n",
    "\n",
    "np.random.seed(20160501)  # Setting seed for reproducibility\n",
    "OD = mff.oneDimensional\n",
    "\n",
    "from IPython.core.display import clear_output\n",
    "from pprint import pprint\n",
    "np.set_printoptions(linewidth=200, edgeitems=10, precision=4, suppress=True)\n",
    "plot_dir = '../../plots/'\n",
    "data_dir = '../../files/'\n",
    "\n",
    "from function_defs import *"
   ]
  },
  {
   "cell_type": "markdown",
   "metadata": {},
   "source": [
    "# MSE errors per sample size combination"
   ]
  },
  {
   "cell_type": "markdown",
   "metadata": {},
   "source": [
    "## Random sampling"
   ]
  },
  {
   "cell_type": "code",
   "execution_count": null,
   "metadata": {},
   "outputs": [],
   "source": [
    "if '2d_mse_tracking.npy' in os.listdir(data_dir):\n",
    "    mse_tracking = np.load(f'{data_dir}2d_mse_tracking.npy')\n",
    "else:\n",
    "    mse_tracking = create_mse_tracking(TD_inv, low_random_sample)\n",
    "    np.save(f'{data_dir}2d_mse_tracking.npy', mse_tracking)"
   ]
  },
  {
   "cell_type": "code",
   "execution_count": null,
   "metadata": {},
   "outputs": [],
   "source": [
    "print('median')\n",
    "pprint([(f'{95+i}%-ile', np.nanpercentile(np.nanmedian(mse_tracking, axis=2).flatten(), 95+i)) for i in range(6)])"
   ]
  },
  {
   "cell_type": "code",
   "execution_count": null,
   "metadata": {},
   "outputs": [],
   "source": [
    "plot_high_vs_low_num_samples(mse_tracking, '2d-high-low-samples-random', vmax=10000)"
   ]
  },
  {
   "cell_type": "code",
   "execution_count": null,
   "metadata": {},
   "outputs": [],
   "source": [
    "plot_high_vs_low_num_samples_diff(mse_tracking, '2d-high-low-samples-random', vmax=10000)"
   ]
  },
  {
   "cell_type": "markdown",
   "metadata": {},
   "source": [
    "## LHS"
   ]
  },
  {
   "cell_type": "code",
   "execution_count": null,
   "metadata": {},
   "outputs": [],
   "source": [
    "if '2d_lin_mse_tracking.npy' in os.listdir(data_dir):\n",
    "    lin_mse_tracking = np.load(f'{data_dir}2d_lin_mse_tracking.npy')\n",
    "else:\n",
    "    lin_mse_tracking = create_mse_tracking(TD_inv, low_lhs_sample)\n",
    "    np.save(f'{data_dir}2d_lin_mse_tracking.npy', lin_mse_tracking)"
   ]
  },
  {
   "cell_type": "code",
   "execution_count": null,
   "metadata": {},
   "outputs": [],
   "source": [
    "print('median')\n",
    "pprint([(f'{95+i}%-ile', np.nanpercentile(np.nanmedian(lin_mse_tracking, axis=2).flatten(), 95+i)) for i in range(6)])"
   ]
  },
  {
   "cell_type": "code",
   "execution_count": null,
   "metadata": {},
   "outputs": [],
   "source": [
    "plot_high_vs_low_num_samples(lin_mse_tracking, '2d-high-low-samples-linear', vmax=3000)"
   ]
  },
  {
   "cell_type": "code",
   "execution_count": null,
   "metadata": {},
   "outputs": [],
   "source": [
    "plot_high_vs_low_num_samples_diff(lin_mse_tracking, '2d-high-low-samples-linear', vmax=3000)"
   ]
  }
 ],
 "metadata": {
  "kernelspec": {
   "display_name": "Python 3",
   "language": "python",
   "name": "python3"
  },
  "language_info": {
   "codemirror_mode": {
    "name": "ipython",
    "version": 3
   },
   "file_extension": ".py",
   "mimetype": "text/x-python",
   "name": "python",
   "nbconvert_exporter": "python",
   "pygments_lexer": "ipython3",
   "version": "3.6.3"
  }
 },
 "nbformat": 4,
 "nbformat_minor": 2
}
