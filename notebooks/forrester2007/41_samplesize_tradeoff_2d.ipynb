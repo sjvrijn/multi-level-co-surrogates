{
 "cells": [
  {
   "cell_type": "code",
   "execution_count": null,
   "metadata": {},
   "outputs": [],
   "source": [
    "%matplotlib inline\n",
    "from matplotlib import colors\n",
    "from mpl_toolkits.axes_grid1 import make_axes_locatable   \n",
    "import matplotlib.pyplot as plt\n",
    "import numpy as np\n",
    "import sys\n",
    "from pathlib import Path\n",
    "\n",
    "module_path = Path().joinpath('../..')\n",
    "if module_path not in sys.path:\n",
    "    sys.path.append(module_path)\n",
    "    \n",
    "from collections import namedtuple\n",
    "import multifidelityfunctions as mff\n",
    "import multiLevelCoSurrogates as mlcs\n",
    "\n",
    "np.random.seed(20160501)  # Setting seed for reproducibility\n",
    "\n",
    "from pprint import pprint\n",
    "np.set_printoptions(linewidth=200, edgeitems=10, precision=4, suppress=True)\n",
    "plot_dir = Path('../../plots/')\n",
    "data_dir = Path('../../files/')\n",
    "\n",
    "from function_defs import *"
   ]
  },
  {
   "cell_type": "code",
   "execution_count": null,
   "metadata": {},
   "outputs": [],
   "source": [
    "sample = np.load(f'{data_dir}2d_test_sample.npy')\n",
    "plt.scatter(sample[:,0], sample[:,1])\n",
    "plt.tight_layout()\n",
    "plt.savefig(f'{plot_dir}2d_sample_distribution.pdf')\n",
    "plt.show()"
   ]
  },
  {
   "cell_type": "markdown",
   "metadata": {},
   "source": [
    "# Error distribution"
   ]
  },
  {
   "cell_type": "code",
   "execution_count": null,
   "metadata": {},
   "outputs": [],
   "source": [
    "aggregation = ['mean', 'median'][1]\n",
    "lin = ['', 'lin_'][1]\n",
    "\n",
    "errors = np.load(f'{data_dir}2d_{lin}error_tracking.npy')\n",
    "\n",
    "aggregate = {\n",
    "    'mean': np.mean,\n",
    "    'median': np.median,\n",
    "}\n",
    "\n",
    "mean_errors = aggregate[aggregation](errors, axis=(0,1,2))"
   ]
  },
  {
   "cell_type": "code",
   "execution_count": null,
   "metadata": {},
   "outputs": [],
   "source": [
    "norm = colors.LogNorm(vmin=np.min(mean_errors[0]), vmax=np.max(mean_errors[0]))\n",
    "img = plt.scatter(sample[:,0], sample[:,1], c=mean_errors[0], cmap='viridis_r', norm=norm)\n",
    "plt.title(f'{aggregation.title()} error - high fidelity (hierarchical) model')\n",
    "plt.colorbar(img, orientation='vertical')\n",
    "plt.tight_layout()\n",
    "plt.savefig(f'{plot_dir}2d_{lin}sample_{aggregation}_error_hierarchical.pdf')\n",
    "plt.show()"
   ]
  },
  {
   "cell_type": "code",
   "execution_count": null,
   "metadata": {},
   "outputs": [],
   "source": [
    "norm = colors.LogNorm(vmin=np.min(mean_errors[1]), vmax=np.max(mean_errors[1]))\n",
    "img = plt.scatter(sample[:,0], sample[:,1], c=mean_errors[1], cmap='viridis_r', norm=norm)\n",
    "plt.title(f'{aggregation.title()} error - high fidelity (direct) model')\n",
    "plt.colorbar(img, orientation='vertical')\n",
    "plt.tight_layout()\n",
    "plt.savefig(f'{plot_dir}2d_{lin}sample_{aggregation}_error_high.pdf')\n",
    "plt.show()"
   ]
  },
  {
   "cell_type": "code",
   "execution_count": null,
   "metadata": {},
   "outputs": [],
   "source": [
    "norm = colors.LogNorm(vmin=np.min(mean_errors[2]), vmax=np.max(mean_errors[2]))\n",
    "img = plt.scatter(sample[:,0], sample[:,1], c=mean_errors[2], cmap='viridis_r', norm=norm)\n",
    "plt.title(f'{aggregation.title()} error - low fidelity (direct) model')\n",
    "plt.colorbar(img, orientation='vertical')\n",
    "plt.tight_layout()\n",
    "plt.savefig(f'{plot_dir}2d_{lin}sample_{aggregation}_error_low.pdf')\n",
    "plt.show()"
   ]
  },
  {
   "cell_type": "code",
   "execution_count": null,
   "metadata": {},
   "outputs": [],
   "source": [
    "bins = [b*10**e for e in range(-2, 14, 1) for b in range(1, 11, 1)]\n",
    "for i in range(3):\n",
    "    plt.hist(errors[:,:,:,i,:].flatten(), label=i, bins=bins, cumulative=-1, log=True, alpha=.5)\n",
    "# plt.yscale('log')\n",
    "plt.xscale('log')\n",
    "plt.legend(loc=0)\n",
    "plt.tight_layout()\n",
    "plt.savefig(f'{plot_dir}2d_{lin}sample_error_hist.pdf')\n",
    "plt.show()"
   ]
  },
  {
   "cell_type": "markdown",
   "metadata": {},
   "source": [
    "# MSE errors per sample size combination"
   ]
  },
  {
   "cell_type": "code",
   "execution_count": null,
   "metadata": {},
   "outputs": [],
   "source": [
    "sorted(data_dir.iterdir())"
   ]
  },
  {
   "cell_type": "markdown",
   "metadata": {},
   "source": [
    "## Random sampling"
   ]
  },
  {
   "cell_type": "code",
   "execution_count": null,
   "metadata": {},
   "outputs": [],
   "source": [
    "if '2d_mse_tracking.npy' in data_dir.iterdir:\n",
    "    mse_tracking = np.load(f'{data_dir}2d_mse_tracking.npy')\n",
    "else:\n",
    "    mse_tracking = create_mse_tracking(TD_inv, low_random_sample)\n",
    "    np.save(f'{data_dir}2d_mse_tracking.npy', mse_tracking)"
   ]
  },
  {
   "cell_type": "code",
   "execution_count": null,
   "metadata": {},
   "outputs": [],
   "source": [
    "print('median')\n",
    "pprint([(f'{95+i}%-ile', np.nanpercentile(np.nanmedian(mse_tracking, axis=2).flatten(), 95+i)) for i in range(6)])"
   ]
  },
  {
   "cell_type": "code",
   "execution_count": null,
   "metadata": {},
   "outputs": [],
   "source": [
    "name = '2d-high-low-samples-random'\n",
    "plot_high_vs_low_num_samples(mse_tracking, name, vmax=1000, save_as=f'{plot_dir}{name}.png')"
   ]
  },
  {
   "cell_type": "code",
   "execution_count": null,
   "metadata": {},
   "outputs": [],
   "source": [
    "name = '2d-high-low-samples-random'\n",
    "plot_high_vs_low_num_samples_diff(mse_tracking, name, vmax=10000, save_as=f'{plot_dir}{name}_diff.pdf')"
   ]
  },
  {
   "cell_type": "markdown",
   "metadata": {},
   "source": [
    "## LHS"
   ]
  },
  {
   "cell_type": "code",
   "execution_count": null,
   "metadata": {},
   "outputs": [],
   "source": [
    "def display_paired_differences(data, vmax=5, num_colors=5, save_as=None):\n",
    "    paired_differences = data[:,:,:,0] - data[:,:,:,1]\n",
    "    mean_paired_diff = np.mean(paired_differences, axis=2)\n",
    "    std_paired_diff = np.std(paired_differences, axis=2, ddof=1)\n",
    "    se_paired_diff = std_paired_diff / np.sqrt(data.shape[2])\n",
    "    t_scores = abs(mean_paired_diff / se_paired_diff)\n",
    "    \n",
    "    norm = colors.Normalize(vmin=0, vmax=vmax, clip=True)\n",
    "    discrete_cmap = plt.get_cmap('viridis', num_colors)\n",
    "\n",
    "    fig, ax = plt.subplots(figsize=(9,3.5))\n",
    "    img = ax.imshow(t_scores, cmap=discrete_cmap, norm=norm, origin='lower')\n",
    "    fig.colorbar(img, ax=ax, orientation='vertical')\n",
    "    ax.set_title(\"Paired difference t-scores\")\n",
    "    \n",
    "    plt.tight_layout()\n",
    "    if save_as:\n",
    "        plt.savefig(save_as)\n",
    "    plt.show()"
   ]
  },
  {
   "cell_type": "code",
   "execution_count": null,
   "metadata": {},
   "outputs": [],
   "source": [
    "def plot_extracts(data, title, save_as=None):\n",
    "    fig, ax = plt.subplots(1, 2, figsize=(9,3.5))\n",
    "    \n",
    "    to_plot = list(zip(np.median(data[::10,:,:,0],axis=2), np.arange(data.shape[0])[::10]))\n",
    "    \n",
    "    ax[0].set_title(title)\n",
    "    for row, label in to_plot:\n",
    "        ax[0].plot(row, label=label)\n",
    "    \n",
    "    ax[1].set_title(title + ' log-scale')\n",
    "    for row, label in to_plot:\n",
    "        ax[1].plot(row, label=label)\n",
    "#     if log:\n",
    "    ax[1].set_yscale('log')\n",
    "    \n",
    "    plt.legend(loc=0)\n",
    "    plt.tight_layout()\n",
    "    if save_as:\n",
    "        plt.savefig(save_as)\n",
    "    plt.show()"
   ]
  },
  {
   "cell_type": "code",
   "execution_count": null,
   "metadata": {},
   "outputs": [],
   "source": [
    "#generic flow\n",
    "Case = namedtuple('Case', 'name ndim vmin vmax max_diff')\n",
    "\n",
    "cases = [\n",
    "    Case('forrester', 1,  None,    None,  100),\n",
    "    Case('forrester', 2,  None,    None,  100),\n",
    "    Case('forrester', 4,  None,    None,   10),\n",
    "    Case('branin',    2, .0001,   1_000,    1),\n",
    "    Case('currin',    2,   .01,      10,   50),\n",
    "    Case('park91a',   4,  None,    None,  100),\n",
    "    Case('hartmann6', 6,  None,    None, 1e15),\n",
    "    Case('borehole',  8, 1_000,   3_000,   10),\n",
    "]\n",
    "\n",
    "for c in cases:\n",
    "    print(c.name, c.ndim)\n",
    "    lin_mse_tracking = np.load(f'{data_dir}Matern_{c.ndim}d_{c.name}_lin_mse_tracking.npy')\n",
    "#     print('median')\n",
    "#     pprint([(f'{95+i}%-ile', np.nanpercentile(np.nanmedian(lin_mse_tracking, axis=2).flatten(), 95+i)) for i in range(6)])\n",
    "    plot_name = f'{c.ndim}d-{c.name}-high-low-samples-linear'\n",
    "    \n",
    "    title = f'{c.name} ({c.ndim}D)'\n",
    "    \n",
    "#     plot_high_vs_low_num_samples(lin_mse_tracking, title, vmin=c.vmin, vmax=c.vmax, save_as=f'{plot_dir}{plot_name}.pdf')\n",
    "#     plot_high_vs_low_num_samples_diff(lin_mse_tracking, title, max_diff=c.max_diff, save_as=f'{plot_dir}{plot_name}_diff.pdf')\n",
    "#     display_paired_differences(lin_mse_tracking, save_as=f'{plot_dir}{plot_name}_significance.pdf')\n",
    "    plot_extracts(lin_mse_tracking, title, save_as=f'{plot_dir}{plot_name}_extracts.pdf')"
   ]
  },
  {
   "cell_type": "code",
   "execution_count": null,
   "metadata": {},
   "outputs": [],
   "source": [
    "lin_mse_tracking.shape"
   ]
  },
  {
   "cell_type": "markdown",
   "metadata": {},
   "source": [
    "### Forrester function"
   ]
  },
  {
   "cell_type": "code",
   "execution_count": null,
   "metadata": {},
   "outputs": [],
   "source": [
    "if 'Matern_1d_forrester_lin_mse_tracking.npy' in data_dir.iterdir:\n",
    "    lin_mse_tracking = np.load(f'{data_dir}Matern_1d_forrester_lin_mse_tracking.npy')\n",
    "else:\n",
    "    pass\n",
    "#     lin_mse_tracking = create_mse_tracking(TD_inv, low_lhs_sample)\n",
    "#     np.save(f'{data_dir}Matern_1d_forrester_lin_mse_tracking.npy', lin_mse_tracking)"
   ]
  },
  {
   "cell_type": "code",
   "execution_count": null,
   "metadata": {},
   "outputs": [],
   "source": [
    "print('median')\n",
    "pprint([(f'{95+i}%-ile', np.nanpercentile(np.nanmedian(lin_mse_tracking, axis=2).flatten(), 95+i)) for i in range(6)])"
   ]
  },
  {
   "cell_type": "code",
   "execution_count": null,
   "metadata": {},
   "outputs": [],
   "source": [
    "name = '2d-high-low-samples-linear'\n",
    "plot_high_vs_low_num_samples(lin_mse_tracking, name, vmin=100, vmax=100_000, save_as=f'{plot_dir}{name}.pdf')"
   ]
  },
  {
   "cell_type": "code",
   "execution_count": null,
   "metadata": {},
   "outputs": [],
   "source": [
    "name = '2d-high-low-samples-linear'\n",
    "plot_high_vs_low_num_samples_diff(lin_mse_tracking, name, max_diff=100, save_as=f'{plot_dir}{name}_diff.pdf')"
   ]
  },
  {
   "cell_type": "code",
   "execution_count": null,
   "metadata": {},
   "outputs": [],
   "source": [
    "paired_differences = lin_mse_tracking[:,:,:,1] - lin_mse_tracking[:,:,:,0]"
   ]
  },
  {
   "cell_type": "code",
   "execution_count": null,
   "metadata": {},
   "outputs": [],
   "source": [
    "mean_paired_diff = np.mean(paired_differences, axis=2)\n",
    "std_paired_diff = np.std(paired_differences, axis=2, ddof=1)\n",
    "se_paired_diff = std_paired_diff / np.sqrt(lin_mse_tracking.shape[2])\n",
    "t_scores = np.abs(mean_paired_diff / se_paired_diff)"
   ]
  },
  {
   "cell_type": "code",
   "execution_count": null,
   "metadata": {},
   "outputs": [],
   "source": [
    "norm = colors.Normalize(vmin=0, vmax=5, clip=True)\n",
    "\n",
    "discrete_cmap = plt.get_cmap('viridis', 5)\n",
    "\n",
    "fig, ax = plt.subplots(figsize=(9,3.5))\n",
    "img = ax.imshow(t_scores, cmap=discrete_cmap, norm=norm, origin='lower')\n",
    "fig.colorbar(img, ax=ax, orientation='vertical')\n",
    "ax.set_title(\"Paired difference t-scores\")"
   ]
  },
  {
   "cell_type": "code",
   "execution_count": null,
   "metadata": {},
   "outputs": [],
   "source": [
    "display_paired_differences(lin_mse_tracking)"
   ]
  },
  {
   "cell_type": "markdown",
   "metadata": {},
   "source": [
    "fidelities: `high_hierarchical, high, low`"
   ]
  },
  {
   "cell_type": "code",
   "execution_count": null,
   "metadata": {},
   "outputs": [],
   "source": [
    "lin_mse_tracking.shape"
   ]
  },
  {
   "cell_type": "code",
   "execution_count": null,
   "metadata": {},
   "outputs": [],
   "source": [
    "paired_differences = lin_mse_tracking[:,:,:,1] - lin_mse_tracking[:,:,:,0]"
   ]
  },
  {
   "cell_type": "code",
   "execution_count": null,
   "metadata": {},
   "outputs": [],
   "source": [
    "mean_paired_diff = np.mean(paired_differences, axis=2)\n",
    "std_paired_diff = np.std(paired_differences, axis=2, ddof=1)\n",
    "se_paired_diff = std_paired_diff / np.sqrt(lin_mse_tracking.shape[2])\n",
    "t_scores = np.abs(mean_paired_diff / se_paired_diff)"
   ]
  },
  {
   "cell_type": "code",
   "execution_count": null,
   "metadata": {},
   "outputs": [],
   "source": [
    "norm = colors.Normalize(vmin=0, vmax=5, clip=True)\n",
    "\n",
    "discrete_cmap = plt.get_cmap('viridis', 5)\n",
    "\n",
    "fig, ax = plt.subplots(figsize=(12,5))\n",
    "img = ax.imshow(t_scores, cmap=discrete_cmap, norm=norm, origin='lower')\n",
    "fig.colorbar(img, ax=ax, orientation='vertical')\n",
    "ax.set_title(\"Paired difference t-scores\")"
   ]
  },
  {
   "cell_type": "markdown",
   "metadata": {},
   "source": [
    "As a function:"
   ]
  },
  {
   "cell_type": "code",
   "execution_count": null,
   "metadata": {},
   "outputs": [],
   "source": [
    "def display_paired_differences(data, vmax=5, num_colors=5):\n",
    "    paired_differences = data[:,:,:,0] - data[:,:,:,1]\n",
    "    mean_paired_diff = np.mean(paired_differences, axis=2)\n",
    "    std_paired_diff = np.std(paired_differences, axis=2, ddof=1)\n",
    "    se_paired_diff = std_paired_diff / np.sqrt(data.shape[2])\n",
    "    t_scores = abs(mean_paired_diff / se_paired_diff)\n",
    "    \n",
    "    norm = colors.Normalize(vmin=0, vmax=vmax, clip=True)\n",
    "    discrete_cmap = plt.get_cmap('viridis', num_colors)\n",
    "\n",
    "    fig, ax = plt.subplots(figsize=(12,5))\n",
    "    img = ax.imshow(t_scores, cmap=discrete_cmap, norm=norm, origin='lower')\n",
    "    fig.colorbar(img, ax=ax, orientation='vertical')\n",
    "    ax.set_title(\"Paired difference t-scores\")"
   ]
  },
  {
   "cell_type": "code",
   "execution_count": null,
   "metadata": {},
   "outputs": [],
   "source": [
    "display_paired_differences(lin_mse_tracking)"
   ]
  },
  {
   "cell_type": "markdown",
   "metadata": {},
   "source": [
    "### Branin function"
   ]
  },
  {
   "cell_type": "code",
   "execution_count": null,
   "metadata": {},
   "outputs": [],
   "source": [
    "if 'Matern_2d_branin_lin_mse_tracking.npy' in data_dir.iterdir:\n",
    "    branin_lin_mse_tracking = np.load(f'{data_dir}Matern_2d_branin_lin_mse_tracking.npy')\n",
    "else:\n",
    "    branin_lin_mse_tracking = create_mse_tracking(TD_inv, low_lhs_sample)\n",
    "    np.save(f'{data_dir}2d_lin_mse_tracking.npy', lin_mse_tracking)"
   ]
  },
  {
   "cell_type": "code",
   "execution_count": null,
   "metadata": {},
   "outputs": [],
   "source": [
    "print('median')\n",
    "pprint([(f'{95+i}%-ile', np.nanpercentile(np.nanmedian(branin_lin_mse_tracking, axis=2).flatten(), 95+i)) for i in range(6)])"
   ]
  },
  {
   "cell_type": "code",
   "execution_count": null,
   "metadata": {},
   "outputs": [],
   "source": [
    "name = 'Matern-2d-branin-high-low-samples-linear'\n",
    "plot_high_vs_low_num_samples(branin_lin_mse_tracking, name, vmin=.0001, vmax=1_000, save_as=f'{plot_dir}{name}.pdf')"
   ]
  },
  {
   "cell_type": "code",
   "execution_count": null,
   "metadata": {},
   "outputs": [],
   "source": [
    "name = 'Matern-2d-branin-high-low-samples-linear'\n",
    "plot_high_vs_low_num_samples_diff(branin_lin_mse_tracking, name, max_diff=10, save_as=f'{plot_dir}{name}_diff.pdf')"
   ]
  },
  {
   "cell_type": "code",
   "execution_count": null,
   "metadata": {},
   "outputs": [],
   "source": [
    "display_paired_differences(branin_lin_mse_tracking)"
   ]
  },
  {
   "cell_type": "markdown",
   "metadata": {},
   "source": [
    "### Currin Function"
   ]
  },
  {
   "cell_type": "code",
   "execution_count": null,
   "metadata": {},
   "outputs": [],
   "source": [
    "if 'Matern_2d_currin_lin_mse_tracking.npy' in data_dir.iterdir:\n",
    "    currin_lin_mse_tracking = np.load(f'{data_dir}Matern_2d_currin_lin_mse_tracking.npy')\n",
    "else:\n",
    "    currin_lin_mse_tracking = create_mse_tracking(TD_inv, low_lhs_sample)\n",
    "    np.save(f'{data_dir}2d_lin_mse_tracking.npy', lin_mse_tracking)"
   ]
  },
  {
   "cell_type": "code",
   "execution_count": null,
   "metadata": {},
   "outputs": [],
   "source": [
    "print('median')\n",
    "pprint([(f'{95+i}%-ile', np.nanpercentile(np.nanmedian(currin_lin_mse_tracking, axis=2).flatten(), 95+i)) for i in range(6)])"
   ]
  },
  {
   "cell_type": "code",
   "execution_count": null,
   "metadata": {},
   "outputs": [],
   "source": [
    "name = 'Matern-2d-currin-high-low-samples-linear'\n",
    "plot_high_vs_low_num_samples(currin_lin_mse_tracking, name, vmin=.01, vmax=10, save_as=f'{plot_dir}{name}.pdf')"
   ]
  },
  {
   "cell_type": "code",
   "execution_count": null,
   "metadata": {},
   "outputs": [],
   "source": [
    "name = 'Matern-2d-currin-high-low-samples-linear'\n",
    "plot_high_vs_low_num_samples_diff(currin_lin_mse_tracking, name, max_diff=50, save_as=f'{plot_dir}{name}_diff.pdf')"
   ]
  },
  {
   "cell_type": "code",
   "execution_count": null,
   "metadata": {},
   "outputs": [],
   "source": [
    "display_paired_differences(currin_lin_mse_tracking)"
   ]
  },
  {
   "cell_type": "markdown",
   "metadata": {},
   "source": [
    "### Borehole Function"
   ]
  },
  {
   "cell_type": "code",
   "execution_count": null,
   "metadata": {},
   "outputs": [],
   "source": [
    "if 'Matern_8d_borehole_lin_mse_tracking.npy' in data_dir.iterdir:\n",
    "    borehole_lin_mse_tracking = np.load(f'{data_dir}Matern_8d_borehole_lin_mse_tracking.npy')\n",
    "else:\n",
    "    borehole_lin_mse_tracking = create_mse_tracking(TD_inv, low_lhs_sample)\n",
    "    np.save(f'{data_dir}2d_lin_mse_tracking.npy', lin_mse_tracking)"
   ]
  },
  {
   "cell_type": "code",
   "execution_count": null,
   "metadata": {},
   "outputs": [],
   "source": [
    "print('median')\n",
    "pprint([(f'{95+i}%-ile', np.nanpercentile(np.nanmedian(borehole_lin_mse_tracking, axis=2).flatten(), 95+i)) for i in range(6)])"
   ]
  },
  {
   "cell_type": "code",
   "execution_count": null,
   "metadata": {},
   "outputs": [],
   "source": [
    "name = 'Matern-2d-borehole-high-low-samples-linear'\n",
    "plot_high_vs_low_num_samples(borehole_lin_mse_tracking, name, vmin=100, vmax=10_000, save_as=f'{plot_dir}{name}.pdf')"
   ]
  },
  {
   "cell_type": "code",
   "execution_count": null,
   "metadata": {},
   "outputs": [],
   "source": [
    "name = 'Matern-2d-borehole-high-low-samples-linear'\n",
    "plot_high_vs_low_num_samples_diff(borehole_lin_mse_tracking, name, max_diff=10, save_as=f'{plot_dir}{name}_diff.pdf')"
   ]
  },
  {
   "cell_type": "code",
   "execution_count": null,
   "metadata": {},
   "outputs": [],
   "source": [
    "display_paired_differences(borehole_lin_mse_tracking)"
   ]
  },
  {
   "cell_type": "markdown",
   "metadata": {},
   "source": [
    "## Difference in error between linear and random sample"
   ]
  },
  {
   "cell_type": "code",
   "execution_count": null,
   "metadata": {},
   "outputs": [],
   "source": [
    "name = \"2D, random - LHS\"\n",
    "plot_inter_method_diff(mse_tracking, lin_mse_tracking, name, save_as=f'{plot_dir}{name}.pdf')"
   ]
  },
  {
   "cell_type": "markdown",
   "metadata": {},
   "source": [
    "## Maximum found error per experiment"
   ]
  },
  {
   "cell_type": "code",
   "execution_count": null,
   "metadata": {},
   "outputs": [],
   "source": [
    "errors = np.load(f'{data_dir}2d_error_tracking.npy')\n",
    "max_errors = np.max(errors, axis=(2,4))"
   ]
  },
  {
   "cell_type": "code",
   "execution_count": null,
   "metadata": {},
   "outputs": [],
   "source": [
    "name = '2d_max_error'\n",
    "\n",
    "norm = colors.LogNorm(vmin=1, vmax=np.max(max_errors), clip=True)\n",
    "fig, axes = plt.subplots(ncols=3, nrows=1, figsize=(20,4))\n",
    "plt.suptitle(name)\n",
    "\n",
    "for i, ax in enumerate(axes):\n",
    "    img = ax.imshow(max_errors[:,:,i], cmap='viridis', norm=norm)\n",
    "    \n",
    "fig.colorbar(img, ax=axes[-1], orientation='vertical')\n",
    "plt.tight_layout()\n",
    "plt.savefig(f'{plot_dir}2d_max_error.pdf')"
   ]
  },
  {
   "cell_type": "code",
   "execution_count": null,
   "metadata": {},
   "outputs": [],
   "source": [
    "bins = [0] + [10**e for e in range(-3, 15)]\n",
    "for i, m in enumerate(['hierarchical', 'high-only', 'low-only']):\n",
    "    plt.hist(max_errors[:,:,i].flatten(), alpha=.3, bins=bins, label=m)\n",
    "plt.xscale('log')\n",
    "plt.legend()\n",
    "plt.tight_layout()\n",
    "plt.savefig(f'{plot_dir}2d_max_error.pdf')"
   ]
  },
  {
   "cell_type": "code",
   "execution_count": null,
   "metadata": {},
   "outputs": [],
   "source": [
    "lin_errors = np.load(f'{data_dir}2d_lin_error_tracking.npy')\n",
    "max_lin_errors = np.max(lin_errors, axis=(2,4))"
   ]
  },
  {
   "cell_type": "code",
   "execution_count": null,
   "metadata": {},
   "outputs": [],
   "source": [
    "name = '2d_lin_max_error'\n",
    "\n",
    "norm = colors.LogNorm(vmin=1, vmax=np.max(max_lin_errors), clip=True)\n",
    "fig, axes = plt.subplots(ncols=3, nrows=1, figsize=(20,4))\n",
    "plt.suptitle(name)\n",
    "\n",
    "for i, ax in enumerate(axes):\n",
    "    img = ax.imshow(max_lin_errors[:,:,i], cmap='viridis', norm=norm)\n",
    "    \n",
    "fig.colorbar(img, ax=axes[-1], orientation='vertical')\n",
    "plt.tight_layout()\n",
    "plt.savefig(f'{plot_dir}2d_max_lin_error.pdf')"
   ]
  },
  {
   "cell_type": "code",
   "execution_count": null,
   "metadata": {},
   "outputs": [],
   "source": [
    "bins = [0] + [10**e for e in range(-3, 15)]\n",
    "for i, m in enumerate(['hierarchical', 'high-only', 'low-only']):\n",
    "    plt.hist(max_lin_errors[:,:,i].flatten(), alpha=.3, bins=bins, label=m)\n",
    "plt.xscale('log')\n",
    "plt.legend()"
   ]
  },
  {
   "cell_type": "code",
   "execution_count": null,
   "metadata": {},
   "outputs": [],
   "source": []
  }
 ],
 "metadata": {
  "kernelspec": {
   "display_name": "Python 3.7",
   "language": "python",
   "name": "python3.7"
  },
  "language_info": {
   "codemirror_mode": {
    "name": "ipython",
    "version": 3
   },
   "file_extension": ".py",
   "mimetype": "text/x-python",
   "name": "python",
   "nbconvert_exporter": "python",
   "pygments_lexer": "ipython3",
   "version": "3.7.2"
  },
  "pycharm": {
   "stem_cell": {
    "cell_type": "raw",
    "source": [],
    "metadata": {
     "collapsed": false
    }
   }
  }
 },
 "nbformat": 4,
 "nbformat_minor": 2
}