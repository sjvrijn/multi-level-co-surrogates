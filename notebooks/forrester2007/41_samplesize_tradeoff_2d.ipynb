{
 "cells": [
  {
   "cell_type": "code",
   "execution_count": null,
   "metadata": {},
   "outputs": [],
   "source": [
    "%matplotlib inline\n",
    "from matplotlib import colors\n",
    "from mpl_toolkits.axes_grid1 import make_axes_locatable   \n",
    "from pyDOE import lhs\n",
    "import matplotlib.pyplot as plt\n",
    "import numpy as np\n",
    "import time\n",
    "import os\n",
    "import sys\n",
    "import warnings\n",
    "\n",
    "module_path = os.path.abspath(os.path.join('../..'))\n",
    "if module_path not in sys.path:\n",
    "    sys.path.append(module_path)\n",
    "    \n",
    "from itertools import product\n",
    "from more_itertools import chunked\n",
    "from functools import partial\n",
    "import multifidelityfunctions as mff\n",
    "import multiLevelCoSurrogates as mlcs\n",
    "from sklearn.gaussian_process import GaussianProcessRegressor, kernels\n",
    "from sklearn.ensemble import RandomForestRegressor\n",
    "\n",
    "np.random.seed(20160501)  # Setting seed for reproducibility\n",
    "OD = mff.oneDimensional\n",
    "\n",
    "from IPython.core.display import clear_output\n",
    "from pprint import pprint\n",
    "np.set_printoptions(linewidth=200, edgeitems=10, precision=4, suppress=True)\n",
    "plot_dir = '../../plots/'\n",
    "data_dir = '../../files/'\n",
    "\n",
    "from function_defs import *"
   ]
  },
  {
   "cell_type": "code",
   "execution_count": null,
   "metadata": {},
   "outputs": [],
   "source": [
    "sample = np.load(f'{data_dir}2d_test_sample.npy')\n",
    "plt.scatter(sample[:,0], sample[:,1])\n",
    "plt.tight_layout()\n",
    "plt.savefig(f'{plot_dir}2d_sample_distribution.pdf')\n",
    "plt.show()"
   ]
  },
  {
   "cell_type": "markdown",
   "metadata": {},
   "source": [
    "# Error distribution"
   ]
  },
  {
   "cell_type": "code",
   "execution_count": null,
   "metadata": {},
   "outputs": [],
   "source": [
    "aggregation = ['mean', 'median'][1]\n",
    "lin = ['', 'lin_'][1]\n",
    "\n",
    "errors = np.load(f'{data_dir}2d_{lin}error_tracking.npy')\n",
    "\n",
    "aggregate = {\n",
    "    'mean': np.mean,\n",
    "    'median': np.median,\n",
    "}\n",
    "\n",
    "mean_errors = aggregate[aggregation](errors, axis=(0,1,2))"
   ]
  },
  {
   "cell_type": "code",
   "execution_count": null,
   "metadata": {},
   "outputs": [],
   "source": [
    "norm = colors.LogNorm(vmin=np.min(mean_errors[0]), vmax=np.max(mean_errors[0]))\n",
    "img = plt.scatter(sample[:,0], sample[:,1], c=mean_errors[0], cmap='viridis_r', norm=norm)\n",
    "plt.title(f'{aggregation.title()} error - high fidelity (hierarchical) model')\n",
    "plt.colorbar(img, orientation='vertical')\n",
    "plt.tight_layout()\n",
    "plt.savefig(f'{plot_dir}2d_{lin}sample_{aggregation}_error_hierarchical.pdf')\n",
    "plt.show()"
   ]
  },
  {
   "cell_type": "code",
   "execution_count": null,
   "metadata": {},
   "outputs": [],
   "source": [
    "norm = colors.LogNorm(vmin=np.min(mean_errors[1]), vmax=np.max(mean_errors[1]))\n",
    "img = plt.scatter(sample[:,0], sample[:,1], c=mean_errors[1], cmap='viridis_r', norm=norm)\n",
    "plt.title(f'{aggregation.title()} error - high fidelity (direct) model')\n",
    "plt.colorbar(img, orientation='vertical')\n",
    "plt.tight_layout()\n",
    "plt.savefig(f'{plot_dir}2d_{lin}sample_{aggregation}_error_high.pdf')\n",
    "plt.show()"
   ]
  },
  {
   "cell_type": "code",
   "execution_count": null,
   "metadata": {},
   "outputs": [],
   "source": [
    "norm = colors.LogNorm(vmin=np.min(mean_errors[2]), vmax=np.max(mean_errors[2]))\n",
    "img = plt.scatter(sample[:,0], sample[:,1], c=mean_errors[2], cmap='viridis_r', norm=norm)\n",
    "plt.title(f'{aggregation.title()} error - low fidelity (direct) model')\n",
    "plt.colorbar(img, orientation='vertical')\n",
    "plt.tight_layout()\n",
    "plt.savefig(f'{plot_dir}2d_{lin}sample_{aggregation}_error_low.pdf')\n",
    "plt.show()"
   ]
  },
  {
   "cell_type": "code",
   "execution_count": null,
   "metadata": {},
   "outputs": [],
   "source": [
    "bins = [b*10**e for e in range(-2, 14, 1) for b in range(1, 11, 1)]\n",
    "for i in range(3):\n",
    "    plt.hist(errors[:,:,:,i,:].flatten(), label=i, bins=bins, cumulative=-1, log=True, alpha=.5)\n",
    "# plt.yscale('log')\n",
    "plt.xscale('log')\n",
    "plt.legend(loc=0)\n",
    "plt.tight_layout()\n",
    "plt.savefig(f'{plot_dir}2d_{lin}sample_error_hist.pdf')\n",
    "plt.show()"
   ]
  },
  {
   "cell_type": "markdown",
   "metadata": {},
   "source": [
    "# MSE errors per sample size combination"
   ]
  },
  {
   "cell_type": "markdown",
   "metadata": {},
   "source": [
    "## Random sampling"
   ]
  },
  {
   "cell_type": "code",
   "execution_count": null,
   "metadata": {},
   "outputs": [],
   "source": [
    "if '2d_mse_tracking.npy' in os.listdir(data_dir):\n",
    "    mse_tracking = np.load(f'{data_dir}2d_mse_tracking.npy')\n",
    "else:\n",
    "    mse_tracking = create_mse_tracking(TD_inv, low_random_sample)\n",
    "    np.save(f'{data_dir}2d_mse_tracking.npy', mse_tracking)"
   ]
  },
  {
   "cell_type": "code",
   "execution_count": null,
   "metadata": {},
   "outputs": [],
   "source": [
    "print('median')\n",
    "pprint([(f'{95+i}%-ile', np.nanpercentile(np.nanmedian(mse_tracking, axis=2).flatten(), 95+i)) for i in range(6)])"
   ]
  },
  {
   "cell_type": "code",
   "execution_count": null,
   "metadata": {},
   "outputs": [],
   "source": [
    "name = '2d-high-low-samples-random'\n",
    "plot_high_vs_low_num_samples(mse_tracking, name, vmax=1000, save_as=f'{plot_dir}{name}.pdf')"
   ]
  },
  {
   "cell_type": "code",
   "execution_count": null,
   "metadata": {},
   "outputs": [],
   "source": [
    "name = '2d-high-low-samples-random'\n",
    "plot_high_vs_low_num_samples_diff(mse_tracking, name, vmax=10000, save_as=f'{plot_dir}{name}_diff.pdf')"
   ]
  },
  {
   "cell_type": "markdown",
   "metadata": {},
   "source": [
    "## LHS"
   ]
  },
  {
   "cell_type": "code",
   "execution_count": null,
   "metadata": {},
   "outputs": [],
   "source": [
    "if '2d_lin_mse_tracking.npy' in os.listdir(data_dir):\n",
    "    lin_mse_tracking = np.load(f'{data_dir}2d_lin_mse_tracking.npy')\n",
    "else:\n",
    "    lin_mse_tracking = create_mse_tracking(TD_inv, low_lhs_sample)\n",
    "    np.save(f'{data_dir}2d_lin_mse_tracking.npy', lin_mse_tracking)"
   ]
  },
  {
   "cell_type": "code",
   "execution_count": null,
   "metadata": {},
   "outputs": [],
   "source": [
    "print('median')\n",
    "pprint([(f'{95+i}%-ile', np.nanpercentile(np.nanmedian(lin_mse_tracking, axis=2).flatten(), 95+i)) for i in range(6)])"
   ]
  },
  {
   "cell_type": "code",
   "execution_count": null,
   "metadata": {},
   "outputs": [],
   "source": [
    "name = '2d-high-low-samples-linear'\n",
    "plot_high_vs_low_num_samples(lin_mse_tracking, name, vmax=1000, save_as=f'{plot_dir}{name}.pdf')"
   ]
  },
  {
   "cell_type": "code",
   "execution_count": null,
   "metadata": {},
   "outputs": [],
   "source": [
    "name = '2d-high-low-samples-linear'\n",
    "plot_high_vs_low_num_samples_diff(lin_mse_tracking, name, vmax=3000, save_as=f'{plot_dir}{name}_diff.pdf')"
   ]
  },
  {
   "cell_type": "markdown",
   "metadata": {},
   "source": [
    "## Difference in error between linear and random sample"
   ]
  },
  {
   "cell_type": "code",
   "execution_count": null,
   "metadata": {},
   "outputs": [],
   "source": [
    "name = \"2D, random - LHS\"\n",
    "plot_inter_method_diff(mse_tracking, lin_mse_tracking, name, save_as=f'{plot_dir}{name}.pdf')"
   ]
  },
  {
   "cell_type": "code",
   "execution_count": null,
   "metadata": {},
   "outputs": [],
   "source": []
  }
 ],
 "metadata": {
  "kernelspec": {
   "display_name": "Python 3",
   "language": "python",
   "name": "python3"
  },
  "language_info": {
   "codemirror_mode": {
    "name": "ipython",
    "version": 3
   },
   "file_extension": ".py",
   "mimetype": "text/x-python",
   "name": "python",
   "nbconvert_exporter": "python",
   "pygments_lexer": "ipython3",
   "version": "3.6.3"
  }
 },
 "nbformat": 4,
 "nbformat_minor": 2
}
