{
 "cells": [
  {
   "cell_type": "code",
   "execution_count": null,
   "metadata": {},
   "outputs": [],
   "source": [
    "%matplotlib inline\n",
    "from collections import namedtuple\n",
    "from pprint import pprint\n",
    "from matplotlib import colors\n",
    "from mpl_toolkits.axes_grid1 import make_axes_locatable   \n",
    "import matplotlib.pyplot as plt\n",
    "import numpy as np\n",
    "import xarray as xr\n",
    "\n",
    "import sys\n",
    "from pathlib import Path\n",
    "\n",
    "module_path = Path('../..')\n",
    "if module_path not in sys.path:\n",
    "    sys.path.append(str(module_path.resolve()))\n",
    "    \n",
    "import multifidelityfunctions as mff\n",
    "import multiLevelCoSurrogates as mlcs\n",
    "from function_defs import *\n",
    "\n",
    "np.random.seed(20160501)  # Setting seed for reproducibility\n",
    "\n",
    "np.set_printoptions(linewidth=200, edgeitems=10, precision=4, suppress=True)\n",
    "plot_dir = Path('../../plots/')\n",
    "data_dir = Path('../../files/')\n",
    "\n",
    "print(f'Python version {sys.version}')"
   ]
  },
  {
   "cell_type": "code",
   "execution_count": null,
   "metadata": {},
   "outputs": [],
   "source": [
    "sample = np.load(data_dir/'2d_test_sample.npy')\n",
    "plt.scatter(sample[:,0], sample[:,1])\n",
    "plt.tight_layout()\n",
    "plt.savefig(f'{plot_dir}2d_sample_distribution.pdf')\n",
    "plt.show()"
   ]
  },
  {
   "cell_type": "markdown",
   "metadata": {},
   "source": [
    "# MSE errors per sample size combination"
   ]
  },
  {
   "cell_type": "code",
   "execution_count": null,
   "metadata": {},
   "outputs": [],
   "source": [
    "sorted(data_dir.iterdir())"
   ]
  },
  {
   "cell_type": "markdown",
   "metadata": {},
   "source": [
    "## LHS"
   ]
  },
  {
   "cell_type": "code",
   "execution_count": null,
   "metadata": {},
   "outputs": [],
   "source": [
    "def display_paired_differences(data, title, vmax=5, num_colors=5, save_as=None):\n",
    "    paired_differences = data.sel(model='high_hier') - data.sel(model='high')\n",
    "    mean_paired_diff = paired_differences.mean(dim='rep')\n",
    "    std_paired_diff = paired_differences.std(dim='rep', ddof=1)\n",
    "    se_paired_diff = std_paired_diff / np.sqrt(data.shape[2])\n",
    "    t_scores = abs(mean_paired_diff / se_paired_diff)\n",
    "    \n",
    "    norm = colors.Normalize(vmin=0, vmax=vmax, clip=True)\n",
    "    discrete_cmap = plt.get_cmap('viridis', num_colors)\n",
    "\n",
    "    fig, ax = plt.subplots(figsize=(9,3.5))\n",
    "    img = ax.imshow(t_scores, cmap=discrete_cmap, norm=norm, origin='lower')\n",
    "    fig.colorbar(img, ax=ax, orientation='vertical')\n",
    "    ax.set_title(f\"Paired difference t-scores - {title}\")\n",
    "    \n",
    "    plt.tight_layout()\n",
    "    if save_as:\n",
    "        plt.savefig(save_as)\n",
    "    plt.show()"
   ]
  },
  {
   "cell_type": "code",
   "execution_count": null,
   "metadata": {},
   "outputs": [],
   "source": [
    "def plot_extracts(data, title, save_as=None, show=False):\n",
    "    fig, ax = plt.subplots(1, 2, figsize=(9,3.5))\n",
    "    \n",
    "    n_highs = data.coords['n_high'].values\n",
    "    for nhigh in range(np.min(n_highs), np.max(n_highs)+1,10):\n",
    "        to_plot = data.sel(n_high=nhigh, model='high_hier').median(dim='rep')\n",
    "        ax[0].plot(to_plot, label=nhigh)\n",
    "        ax[1].plot(to_plot, label=nhigh)\n",
    "\n",
    "    ax[0].set_title(title)\n",
    "    ax[1].set_title(title + ' log-scale')\n",
    "    ax[1].set_yscale('log')\n",
    "    \n",
    "    plt.legend(loc=0)\n",
    "    plt.tight_layout()\n",
    "    if save_as:\n",
    "        plt.savefig(save_as)\n",
    "    if show:\n",
    "        plt.show()\n",
    "    plt.close()"
   ]
  },
  {
   "cell_type": "code",
   "execution_count": null,
   "metadata": {},
   "outputs": [],
   "source": [
    "#generic flow\n",
    "Case = namedtuple('Case', 'name ndim vmin vmax max_diff')\n",
    "\n",
    "cases = [\n",
    "    Case('Forrester',        1,  None,    None,  100),\n",
    "#     Case('Forrester',        2,  None,    None,  100),\n",
    "#     Case('Forrester',        4,  None,    None,   10),\n",
    "#     Case('Forrester',        6,  None,    None,   10),\n",
    "#     Case('Forrester',        8,  None,    None,   10),\n",
    "#     Case('Bohachevsky',      2,   500,   2_000,  200),\n",
    "#     Case('Booth',            2,   1e5,     5e6, 5000),\n",
    "    Case('Branin',           2,    10,     1e4, None),\n",
    "#     Case('Currin',           2,   .01,      10,   50),\n",
    "#     Case('Himmelblau',       2,  None,    None, 1000),\n",
    "#     Case('SixHumpCamelBack', 2,  None,    None,  100),\n",
    "#     Case('Park91a',          4,  None,    None,    1),\n",
    "#     Case('Park91b',          4,  None,    None,    1),\n",
    "    Case('Hartmann6',        6,  8e-3,    5e-1,    1),\n",
    "    Case('Borehole',         8,    10,    3000,  1e4),\n",
    "]"
   ]
  },
  {
   "cell_type": "code",
   "execution_count": null,
   "metadata": {},
   "outputs": [],
   "source": [
    "for c in cases:\n",
    "    print(c.name, c.ndim)\n",
    "    with xr.open_dataset(data_dir/f'Matern_{c.ndim}d_{c.name}.nc') as ds:\n",
    "        mses = ds['mses'].load()\n",
    "\n",
    "    print(mses.coords)\n",
    "    print('median')\n",
    "    pprint([(f'{95+i}%-ile', np.nanpercentile(mses.median(dim='rep'), 95+i)) for i in range(6)])\n",
    "\n",
    "    plot_name = f'{c.ndim}d-{c.name}-high-low-samples-linear'\n",
    "    title = f'{c.name} ({c.ndim}D)'\n",
    "    \n",
    "    plot_high_vs_low_num_samples(mses, title, vmin=c.vmin, vmax=c.vmax, save_as=plot_dir/f'{plot_name}.pdf')\n",
    "    plot_high_vs_low_num_samples_diff(mses, title, max_diff=c.max_diff, save_as=plot_dir/f'{plot_name}_diff.pdf')\n",
    "\n",
    "    display_paired_differences(mses, title=title, save_as=plot_dir/f'{plot_name}_significance.pdf')\n",
    "    plot_extracts(mses, title, save_as=plot_dir/f'{plot_name}_extracts.pdf', show=True)"
   ]
  },
  {
   "cell_type": "markdown",
   "metadata": {},
   "source": [
    "Plotting histograms of the MSE distributions along vertical slices"
   ]
  },
  {
   "cell_type": "code",
   "execution_count": null,
   "metadata": {},
   "outputs": [],
   "source": [
    "cases = [\n",
    "    Case('Forrester', 1,  None,    None,  100),\n",
    "#     Case('Forrester', 2,  None,    None,  100),\n",
    "#     Case('Forrester', 4,  None,    None,   10),\n",
    "#     Case('Branin',    2, .0001,   1_000,    1),\n",
    "#     Case('Currin',    2,   .01,      10,   50),\n",
    "#     Case('Park91a',   4,  None,    None,  100),\n",
    "#     Case('Hartmann6', 6,  None,    None, 1e15),\n",
    "#     Case('Borehole',  8, 1_000,   3_000,   10),\n",
    "]\n",
    "\n",
    "hist_dir = plot_dir/'histograms/'\n",
    "mlcs.Utils.guaranteeFolderExists(hist_dir)\n",
    "\n",
    "for c in cases:\n",
    "    print(c.name, c.ndim)\n",
    "    with xr.open_dataset(data_dir/f'Matern_{c.ndim}d_{c.name}.nc') as ds:\n",
    "        mses = ds['mses'].load()\n",
    "    slice_indices = range(20, 121, 20)\n",
    "    \n",
    "    paired_differences = mses.sel(model='high') - mses.sel(model='high_hier')\n",
    "    mean_paired_diff = paired_differences.mean(dim='rep')\n",
    "    std_paired_diff = paired_differences.std(dim='rep', ddof=1)\n",
    "    se_paired_diff = std_paired_diff / np.sqrt(mses.shape[2])\n",
    "    t_scores = mean_paired_diff / se_paired_diff\n",
    "    \n",
    "    x_min, x_max = -8, 3\n",
    "    num_sections = 4\n",
    "    bins = 10**np.linspace(x_min, x_max, (x_max-x_min)*num_sections + 1)\n",
    "    \n",
    "    for slice_idx in slice_indices:\n",
    "        sub_mses = mses.sel(n_low=slice_idx)\n",
    "        \n",
    "        for idx in sub_mses.coords['n_high'].values:\n",
    "            mse = sub_mses.sel(n_high=idx)\n",
    "            if np.all(np.isnan(mse)):\n",
    "                continue\n",
    "            \n",
    "            mse_high = mse.sel(model='high')\n",
    "            mse_hier = mse.sel(model='high_hier')\n",
    "            \n",
    "            plot_name = f'{c.ndim}d-{c.name}-{slice_idx}l-{idx:02d}h-histogram'\n",
    "            \n",
    "            plt.figure(figsize=(10,4))\n",
    "            plt.subplot(121)\n",
    "            plt.hist(mse_hier, bins=bins, label='hierarchical', alpha=.5)\n",
    "            plt.axvline(np.mean(mse_hier), color='C0')\n",
    "            plt.hist(mse_high, bins=bins, label='high-only', alpha=.5)\n",
    "            plt.axvline(np.mean(mse_high), color='C1')\n",
    "            plt.title('Original distributions (log-histogram)')\n",
    "            plt.legend(loc=1)\n",
    "            plt.ylim([0,50])\n",
    "            plt.xscale('log')\n",
    "            plt.xlim([10**x_min, 10**x_max])\n",
    "            \n",
    "            plt.subplot(122)\n",
    "            plt.hist(mse_high - mse_hier, color='C2', label='high - hierarchical', alpha=.5)\n",
    "            plt.axvline(np.mean(mse_high - mse_hier), color='C2')\n",
    "            plt.title('Histogram of differences')\n",
    "            plt.legend(loc=1)\n",
    "            \n",
    "            plt.suptitle(f'{c.name} ({c.ndim}D) - {idx}:{slice_idx} samples - t-score: {t_scores.sel(n_high=idx, n_low=slice_idx).values:.2f}')\n",
    "            plt.tight_layout()\n",
    "            plt.subplots_adjust(top=0.85)\n",
    "            plt.savefig(hist_dir/f'{plot_name}.png')\n",
    "            plt.close('all')"
   ]
  },
  {
   "cell_type": "code",
   "execution_count": null,
   "metadata": {},
   "outputs": [],
   "source": [
    "def plot_paired_differences(data, title=None, vmax=5, save_as=None):\n",
    "    mean_high = np.mean(data[:,:,:,1], axis=2)\n",
    "    mean_hier = np.mean(data[:,:,:,0], axis=2)\n",
    "    \n",
    "    paired_differences = data[:,:,:,1] - data[:,:,:,0]\n",
    "    mean_paired_diff = np.mean(paired_differences, axis=2)\n",
    "    std_paired_diff = np.std(paired_differences, axis=2, ddof=1)\n",
    "    se_paired_diff = std_paired_diff / np.sqrt(data.shape[2])\n",
    "    t_scores = abs(mean_paired_diff / se_paired_diff)\n",
    "    \n",
    "    fig, axes = plt.subplots(nrows=4,ncols=2,figsize=(16,9))\n",
    "    \n",
    "    axes = axes.flatten()\n",
    "    for i, nlow in enumerate(range(20,125,20)):\n",
    "        c = f'C{i}'\n",
    "        \n",
    "        axes[0].plot(mean_paired_diff[:,nlow], color=c, label=nlow)\n",
    "        axes[1].plot(std_paired_diff[:,nlow], color=c, label=nlow)\n",
    "\n",
    "        axes[2].plot((mean_paired_diff / mean_high)[:,nlow], color=c, label=nlow)\n",
    "        axes[3].plot((mean_paired_diff / mean_hier)[:,nlow], color=c, label=nlow)\n",
    "        \n",
    "        axes[4].plot((std_paired_diff / mean_high)[:,nlow], color=c, label=nlow)\n",
    "        axes[5].plot((std_paired_diff / mean_hier)[:,nlow], color=c, label=nlow)\n",
    "                     \n",
    "        axes[6].plot(t_scores[:,nlow], color=c, label=nlow)\n",
    "        axes[7].plot((mean_high/mean_hier)[:,nlow], color=c, label=nlow)\n",
    "    \n",
    "    \n",
    "    titles = ['Mean Pairwise Difference (MPD)', 'Std Pairwise Differnce (SPD)',\n",
    "              'MPD/Mean High-fidelity only MSE', 'MPD/Mean Hierarchical MSE',\n",
    "              'SPD/Mean High-fidelity only MSE', 'SPD/Mean Hierarchical MSE',\n",
    "              'T-score for $H_0$: MPD = 0', 'Mean High-fidelity only MSE/Mean Hierarchical MSE']\n",
    "    for ax, t in zip(axes, titles):\n",
    "        ax.set_title(t)\n",
    "    \n",
    "#     norm = colors.Normalize(vmin=0, vmax=vmax, clip=True)\n",
    "#     discrete_cmap = plt.get_cmap('viridis', num_colors)\n",
    "\n",
    "#     fig, ax = plt.subplots(figsize=(9,3.5))\n",
    "#     img = ax.imshow(t_scores, cmap=discrete_cmap, norm=norm, origin='lower')\n",
    "#     fig.colorbar(img, ax=ax, orientation='vertical')\n",
    "#     ax.set_title(f\"Paired difference t-scores - {title}\")\n",
    "#     for ax in axes:\n",
    "#         ax.legend(loc=0)\n",
    "        \n",
    "    \n",
    "    axes[1].legend(bbox_to_anchor=(1.04,0.5), loc='center left', borderaxespad=0)\n",
    "        \n",
    "    plt.tight_layout()\n",
    "    if save_as:\n",
    "        plt.savefig(save_as)\n",
    "    plt.show()"
   ]
  },
  {
   "cell_type": "code",
   "execution_count": null,
   "metadata": {},
   "outputs": [],
   "source": [
    "for c in cases:\n",
    "    print(c.name, c.ndim)\n",
    "    lin_mse_tracking = np.load(f'{data_dir}Matern_{c.ndim}d_{c.name}_lin_mse_tracking.npy')\n",
    "    plot_paired_differences(lin_mse_tracking)"
   ]
  },
  {
   "cell_type": "code",
   "execution_count": null,
   "metadata": {},
   "outputs": [],
   "source": [
    "os.getcwd()"
   ]
  },
  {
   "cell_type": "markdown",
   "metadata": {},
   "source": [
    "### Forrester function"
   ]
  },
  {
   "cell_type": "code",
   "execution_count": null,
   "metadata": {},
   "outputs": [],
   "source": [
    "if 'Matern_1d_forrester_lin_mse_tracking.npy' in data_dir.iterdir:\n",
    "    lin_mse_tracking = np.load(f'{data_dir}Matern_1d_forrester_lin_mse_tracking.npy')\n",
    "else:\n",
    "    pass\n",
    "#     lin_mse_tracking = create_mse_tracking(TD_inv, low_lhs_sample)\n",
    "#     np.save(f'{data_dir}Matern_1d_forrester_lin_mse_tracking.npy', lin_mse_tracking)"
   ]
  },
  {
   "cell_type": "code",
   "execution_count": null,
   "metadata": {},
   "outputs": [],
   "source": [
    "print('median')\n",
    "pprint([(f'{95+i}%-ile', np.nanpercentile(np.nanmedian(lin_mse_tracking, axis=2).flatten(), 95+i)) for i in range(6)])"
   ]
  },
  {
   "cell_type": "code",
   "execution_count": null,
   "metadata": {},
   "outputs": [],
   "source": [
    "name = '2d-high-low-samples-linear'\n",
    "plot_high_vs_low_num_samples(lin_mse_tracking, name, vmin=100, vmax=100_000, save_as=f'{plot_dir}{name}.pdf')"
   ]
  },
  {
   "cell_type": "code",
   "execution_count": null,
   "metadata": {},
   "outputs": [],
   "source": [
    "name = '2d-high-low-samples-linear'\n",
    "plot_high_vs_low_num_samples_diff(lin_mse_tracking, name, max_diff=100, save_as=f'{plot_dir}{name}_diff.pdf')"
   ]
  },
  {
   "cell_type": "code",
   "execution_count": null,
   "metadata": {},
   "outputs": [],
   "source": [
    "paired_differences = lin_mse_tracking[:,:,:,1] - lin_mse_tracking[:,:,:,0]"
   ]
  },
  {
   "cell_type": "code",
   "execution_count": null,
   "metadata": {},
   "outputs": [],
   "source": [
    "mean_paired_diff = np.mean(paired_differences, axis=2)\n",
    "std_paired_diff = np.std(paired_differences, axis=2, ddof=1)\n",
    "se_paired_diff = std_paired_diff / np.sqrt(lin_mse_tracking.shape[2])\n",
    "t_scores = np.abs(mean_paired_diff / se_paired_diff)"
   ]
  },
  {
   "cell_type": "code",
   "execution_count": null,
   "metadata": {},
   "outputs": [],
   "source": [
    "norm = colors.Normalize(vmin=0, vmax=5, clip=True)\n",
    "\n",
    "discrete_cmap = plt.get_cmap('viridis', 5)\n",
    "\n",
    "fig, ax = plt.subplots(figsize=(9,3.5))\n",
    "img = ax.imshow(t_scores, cmap=discrete_cmap, norm=norm, origin='lower')\n",
    "fig.colorbar(img, ax=ax, orientation='vertical')\n",
    "ax.set_title(\"Paired difference t-scores\")"
   ]
  },
  {
   "cell_type": "code",
   "execution_count": null,
   "metadata": {},
   "outputs": [],
   "source": [
    "display_paired_differences(lin_mse_tracking)"
   ]
  },
  {
   "cell_type": "markdown",
   "metadata": {},
   "source": [
    "fidelities: `high_hierarchical, high, low`"
   ]
  },
  {
   "cell_type": "code",
   "execution_count": null,
   "metadata": {},
   "outputs": [],
   "source": [
    "lin_mse_tracking.shape"
   ]
  },
  {
   "cell_type": "code",
   "execution_count": null,
   "metadata": {},
   "outputs": [],
   "source": [
    "paired_differences = lin_mse_tracking[:,:,:,1] - lin_mse_tracking[:,:,:,0]"
   ]
  },
  {
   "cell_type": "code",
   "execution_count": null,
   "metadata": {},
   "outputs": [],
   "source": [
    "mean_paired_diff = np.mean(paired_differences, axis=2)\n",
    "std_paired_diff = np.std(paired_differences, axis=2, ddof=1)\n",
    "se_paired_diff = std_paired_diff / np.sqrt(lin_mse_tracking.shape[2])\n",
    "t_scores = np.abs(mean_paired_diff / se_paired_diff)"
   ]
  },
  {
   "cell_type": "code",
   "execution_count": null,
   "metadata": {},
   "outputs": [],
   "source": [
    "norm = colors.Normalize(vmin=0, vmax=5, clip=True)\n",
    "\n",
    "discrete_cmap = plt.get_cmap('viridis', 5)\n",
    "\n",
    "fig, ax = plt.subplots(figsize=(12,5))\n",
    "img = ax.imshow(t_scores, cmap=discrete_cmap, norm=norm, origin='lower')\n",
    "fig.colorbar(img, ax=ax, orientation='vertical')\n",
    "ax.set_title(\"Paired difference t-scores\")"
   ]
  },
  {
   "cell_type": "markdown",
   "metadata": {},
   "source": [
    "As a function:"
   ]
  },
  {
   "cell_type": "code",
   "execution_count": null,
   "metadata": {},
   "outputs": [],
   "source": [
    "def display_paired_differences(data, vmax=5, num_colors=5):\n",
    "    paired_differences = data[:,:,:,0] - data[:,:,:,1]\n",
    "    mean_paired_diff = np.mean(paired_differences, axis=2)\n",
    "    std_paired_diff = np.std(paired_differences, axis=2, ddof=1)\n",
    "    se_paired_diff = std_paired_diff / np.sqrt(data.shape[2])\n",
    "    t_scores = abs(mean_paired_diff / se_paired_diff)\n",
    "    \n",
    "    norm = colors.Normalize(vmin=0, vmax=vmax, clip=True)\n",
    "    discrete_cmap = plt.get_cmap('viridis', num_colors)\n",
    "\n",
    "    fig, ax = plt.subplots(figsize=(12,5))\n",
    "    img = ax.imshow(t_scores, cmap=discrete_cmap, norm=norm, origin='lower')\n",
    "    fig.colorbar(img, ax=ax, orientation='vertical')\n",
    "    ax.set_title(\"Paired difference t-scores\")"
   ]
  },
  {
   "cell_type": "code",
   "execution_count": null,
   "metadata": {},
   "outputs": [],
   "source": [
    "display_paired_differences(lin_mse_tracking)"
   ]
  },
  {
   "cell_type": "markdown",
   "metadata": {},
   "source": [
    "### Branin function"
   ]
  },
  {
   "cell_type": "code",
   "execution_count": null,
   "metadata": {},
   "outputs": [],
   "source": [
    "if 'Matern_2d_branin_lin_mse_tracking.npy' in data_dir.iterdir:\n",
    "    branin_lin_mse_tracking = np.load(f'{data_dir}Matern_2d_branin_lin_mse_tracking.npy')\n",
    "else:\n",
    "    branin_lin_mse_tracking = create_mse_tracking(TD_inv, low_lhs_sample)\n",
    "    np.save(f'{data_dir}2d_lin_mse_tracking.npy', lin_mse_tracking)"
   ]
  },
  {
   "cell_type": "code",
   "execution_count": null,
   "metadata": {},
   "outputs": [],
   "source": [
    "print('median')\n",
    "pprint([(f'{95+i}%-ile', np.nanpercentile(np.nanmedian(branin_lin_mse_tracking, axis=2).flatten(), 95+i)) for i in range(6)])"
   ]
  },
  {
   "cell_type": "code",
   "execution_count": null,
   "metadata": {},
   "outputs": [],
   "source": [
    "name = 'Matern-2d-branin-high-low-samples-linear'\n",
    "plot_high_vs_low_num_samples(branin_lin_mse_tracking, name, vmin=.0001, vmax=1_000, save_as=f'{plot_dir}{name}.pdf')"
   ]
  },
  {
   "cell_type": "code",
   "execution_count": null,
   "metadata": {},
   "outputs": [],
   "source": [
    "name = 'Matern-2d-branin-high-low-samples-linear'\n",
    "plot_high_vs_low_num_samples_diff(branin_lin_mse_tracking, name, max_diff=10, save_as=f'{plot_dir}{name}_diff.pdf')"
   ]
  },
  {
   "cell_type": "code",
   "execution_count": null,
   "metadata": {},
   "outputs": [],
   "source": [
    "display_paired_differences(branin_lin_mse_tracking)"
   ]
  },
  {
   "cell_type": "markdown",
   "metadata": {},
   "source": [
    "### Currin Function"
   ]
  },
  {
   "cell_type": "code",
   "execution_count": null,
   "metadata": {},
   "outputs": [],
   "source": [
    "if 'Matern_2d_currin_lin_mse_tracking.npy' in data_dir.iterdir:\n",
    "    currin_lin_mse_tracking = np.load(f'{data_dir}Matern_2d_currin_lin_mse_tracking.npy')\n",
    "else:\n",
    "    currin_lin_mse_tracking = create_mse_tracking(TD_inv, low_lhs_sample)\n",
    "    np.save(f'{data_dir}2d_lin_mse_tracking.npy', lin_mse_tracking)"
   ]
  },
  {
   "cell_type": "code",
   "execution_count": null,
   "metadata": {},
   "outputs": [],
   "source": [
    "print('median')\n",
    "pprint([(f'{95+i}%-ile', np.nanpercentile(np.nanmedian(currin_lin_mse_tracking, axis=2).flatten(), 95+i)) for i in range(6)])"
   ]
  },
  {
   "cell_type": "code",
   "execution_count": null,
   "metadata": {},
   "outputs": [],
   "source": [
    "name = 'Matern-2d-currin-high-low-samples-linear'\n",
    "plot_high_vs_low_num_samples(currin_lin_mse_tracking, name, vmin=.01, vmax=10, save_as=f'{plot_dir}{name}.pdf')"
   ]
  },
  {
   "cell_type": "code",
   "execution_count": null,
   "metadata": {},
   "outputs": [],
   "source": [
    "name = 'Matern-2d-currin-high-low-samples-linear'\n",
    "plot_high_vs_low_num_samples_diff(currin_lin_mse_tracking, name, max_diff=50, save_as=f'{plot_dir}{name}_diff.pdf')"
   ]
  },
  {
   "cell_type": "code",
   "execution_count": null,
   "metadata": {},
   "outputs": [],
   "source": [
    "display_paired_differences(currin_lin_mse_tracking)"
   ]
  },
  {
   "cell_type": "markdown",
   "metadata": {},
   "source": [
    "### Borehole Function"
   ]
  },
  {
   "cell_type": "code",
   "execution_count": null,
   "metadata": {},
   "outputs": [],
   "source": [
    "if 'Matern_8d_borehole_lin_mse_tracking.npy' in data_dir.iterdir:\n",
    "    borehole_lin_mse_tracking = np.load(f'{data_dir}Matern_8d_borehole_lin_mse_tracking.npy')\n",
    "else:\n",
    "    borehole_lin_mse_tracking = create_mse_tracking(TD_inv, low_lhs_sample)\n",
    "    np.save(f'{data_dir}2d_lin_mse_tracking.npy', lin_mse_tracking)"
   ]
  },
  {
   "cell_type": "code",
   "execution_count": null,
   "metadata": {},
   "outputs": [],
   "source": [
    "print('median')\n",
    "pprint([(f'{95+i}%-ile', np.nanpercentile(np.nanmedian(borehole_lin_mse_tracking, axis=2).flatten(), 95+i)) for i in range(6)])"
   ]
  },
  {
   "cell_type": "code",
   "execution_count": null,
   "metadata": {},
   "outputs": [],
   "source": [
    "name = 'Matern-2d-borehole-high-low-samples-linear'\n",
    "plot_high_vs_low_num_samples(borehole_lin_mse_tracking, name, vmin=100, vmax=10_000, save_as=f'{plot_dir}{name}.pdf')"
   ]
  },
  {
   "cell_type": "code",
   "execution_count": null,
   "metadata": {},
   "outputs": [],
   "source": [
    "name = 'Matern-2d-borehole-high-low-samples-linear'\n",
    "plot_high_vs_low_num_samples_diff(borehole_lin_mse_tracking, name, max_diff=10, save_as=f'{plot_dir}{name}_diff.pdf')"
   ]
  },
  {
   "cell_type": "code",
   "execution_count": null,
   "metadata": {},
   "outputs": [],
   "source": [
    "display_paired_differences(borehole_lin_mse_tracking)"
   ]
  },
  {
   "cell_type": "markdown",
   "metadata": {},
   "source": [
    "## Difference in error between linear and random sample"
   ]
  },
  {
   "cell_type": "code",
   "execution_count": null,
   "metadata": {},
   "outputs": [],
   "source": [
    "name = \"2D, random - LHS\"\n",
    "plot_inter_method_diff(mse_tracking, lin_mse_tracking, name, save_as=f'{plot_dir}{name}.pdf')"
   ]
  },
  {
   "cell_type": "markdown",
   "metadata": {},
   "source": [
    "## Maximum found error per experiment"
   ]
  },
  {
   "cell_type": "code",
   "execution_count": null,
   "metadata": {},
   "outputs": [],
   "source": [
    "errors = np.load(f'{data_dir}2d_error_tracking.npy')\n",
    "max_errors = np.max(errors, axis=(2,4))"
   ]
  },
  {
   "cell_type": "code",
   "execution_count": null,
   "metadata": {},
   "outputs": [],
   "source": [
    "name = '2d_max_error'\n",
    "\n",
    "norm = colors.LogNorm(vmin=1, vmax=np.max(max_errors), clip=True)\n",
    "fig, axes = plt.subplots(ncols=3, nrows=1, figsize=(20,4))\n",
    "plt.suptitle(name)\n",
    "\n",
    "for i, ax in enumerate(axes):\n",
    "    img = ax.imshow(max_errors[:,:,i], cmap='viridis', norm=norm)\n",
    "    \n",
    "fig.colorbar(img, ax=axes[-1], orientation='vertical')\n",
    "plt.tight_layout()\n",
    "plt.savefig(f'{plot_dir}2d_max_error.pdf')"
   ]
  },
  {
   "cell_type": "code",
   "execution_count": null,
   "metadata": {},
   "outputs": [],
   "source": [
    "bins = [0] + [10**e for e in range(-3, 15)]\n",
    "for i, m in enumerate(['hierarchical', 'high-only', 'low-only']):\n",
    "    plt.hist(max_errors[:,:,i].flatten(), alpha=.3, bins=bins, label=m)\n",
    "plt.xscale('log')\n",
    "plt.legend()\n",
    "plt.tight_layout()\n",
    "plt.savefig(f'{plot_dir}2d_max_error.pdf')"
   ]
  },
  {
   "cell_type": "code",
   "execution_count": null,
   "metadata": {},
   "outputs": [],
   "source": [
    "lin_errors = np.load(f'{data_dir}2d_lin_error_tracking.npy')\n",
    "max_lin_errors = np.max(lin_errors, axis=(2,4))"
   ]
  },
  {
   "cell_type": "code",
   "execution_count": null,
   "metadata": {},
   "outputs": [],
   "source": [
    "name = '2d_lin_max_error'\n",
    "\n",
    "norm = colors.LogNorm(vmin=1, vmax=np.max(max_lin_errors), clip=True)\n",
    "fig, axes = plt.subplots(ncols=3, nrows=1, figsize=(20,4))\n",
    "plt.suptitle(name)\n",
    "\n",
    "for i, ax in enumerate(axes):\n",
    "    img = ax.imshow(max_lin_errors[:,:,i], cmap='viridis', norm=norm)\n",
    "    \n",
    "fig.colorbar(img, ax=axes[-1], orientation='vertical')\n",
    "plt.tight_layout()\n",
    "plt.savefig(f'{plot_dir}2d_max_lin_error.pdf')"
   ]
  },
  {
   "cell_type": "code",
   "execution_count": null,
   "metadata": {},
   "outputs": [],
   "source": [
    "bins = [0] + [10**e for e in range(-3, 15)]\n",
    "for i, m in enumerate(['hierarchical', 'high-only', 'low-only']):\n",
    "    plt.hist(max_lin_errors[:,:,i].flatten(), alpha=.3, bins=bins, label=m)\n",
    "plt.xscale('log')\n",
    "plt.legend()"
   ]
  },
  {
   "cell_type": "code",
   "execution_count": null,
   "metadata": {},
   "outputs": [],
   "source": []
  }
 ],
 "metadata": {
  "kernelspec": {
   "display_name": "Python 3.7",
   "language": "python",
   "name": "python3.7"
  },
  "language_info": {
   "codemirror_mode": {
    "name": "ipython",
    "version": 3
   },
   "file_extension": ".py",
   "mimetype": "text/x-python",
   "name": "python",
   "nbconvert_exporter": "python",
   "pygments_lexer": "ipython3",
   "version": "3.7.2"
  },
  "pycharm": {
   "stem_cell": {
    "cell_type": "raw",
    "metadata": {
     "collapsed": false
    },
    "source": []
   }
  }
 },
 "nbformat": 4,
 "nbformat_minor": 2
}
