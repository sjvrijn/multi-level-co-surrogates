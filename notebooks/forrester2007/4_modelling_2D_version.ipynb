{
 "cells": [
  {
   "cell_type": "code",
   "execution_count": null,
   "metadata": {},
   "outputs": [],
   "source": [
    "%matplotlib inline\n",
    "import numpy as np\n",
    "import sys\n",
    "from pathlib import Path\n",
    "\n",
    "module_path = Path('../..')\n",
    "if module_path not in sys.path:\n",
    "    sys.path.append(str(module_path.resolve()))\n",
    "    \n",
    "from itertools import product\n",
    "import mf2\n",
    "import multiLevelCoSurrogates as mlcs\n",
    "\n",
    "np.random.seed(20160501)  # Setting seed for reproducibility\n",
    "OD = mf2.forrester\n",
    "\n",
    "np.set_printoptions(linewidth=200, edgeitems=10, precision=4, suppress=True)\n",
    "plot_dir = Path('../../plots/')\n",
    "data_dir = Path('../../files/')\n",
    "\n",
    "from function_defs import *"
   ]
  },
  {
   "cell_type": "markdown",
   "metadata": {},
   "source": [
    "# Testing models on 2D version of 1D function"
   ]
  },
  {
   "cell_type": "code",
   "execution_count": null,
   "metadata": {},
   "outputs": [],
   "source": [
    "# %%writefile -a function_defs.py\n",
    "\n",
    "# defining some point styles\n",
    "red_dot = {'marker': '.', 'color': 'red'}\n",
    "blue_circle = {'marker': 'o', 'facecolors': 'none', 'color': 'blue'}"
   ]
  },
  {
   "cell_type": "code",
   "execution_count": null,
   "metadata": {},
   "outputs": [],
   "source": [
    "# %%writefile -a function_defs.py\n",
    "\n",
    "@mf2.row_vectorize\n",
    "def td_inv_high(xx):\n",
    "    x1, x2 = xx\n",
    "    return -(OD.high(x1) + OD.high(x2))\n",
    "\n",
    "@mf2.row_vectorize\n",
    "def td_inv_low(xx):\n",
    "    x1, x2 = xx\n",
    "    return -(OD.low(x1) + OD.low(x2))\n",
    "\n",
    "\n",
    "TD_inv = mf2.MultiFidelityFunction(\n",
    "    name=\"Two dimensional inverted forrester\",\n",
    "    u_bound=np.array(np.repeat(OD.u_bound, 2)), l_bound=np.array(np.repeat(OD.l_bound, 2)),\n",
    "    functions=[td_inv_high, td_inv_low],\n",
    "    fidelity_names=['high', 'low'],\n",
    ")"
   ]
  },
  {
   "cell_type": "code",
   "execution_count": null,
   "metadata": {},
   "outputs": [],
   "source": [
    "u_bound, l_bound = TD_inv.u_bound, TD_inv.l_bound\n",
    "steps = [.025, .025]\n",
    "surf_high = mlcs.createsurface(TD_inv.high, u_bound=u_bound, l_bound=l_bound, step=steps)\n",
    "surf_low = mlcs.createsurface(TD_inv.low, u_bound=u_bound, l_bound=l_bound, step=steps)"
   ]
  },
  {
   "cell_type": "code",
   "execution_count": null,
   "metadata": {},
   "outputs": [],
   "source": [
    "mlcs.plotsurfaces([surf_high, surf_low], titles=['High fidelity (2d)', 'Low fidelity (2d)'], save_as=f'{plot_dir}2d_high_low_true_mesh.pdf')"
   ]
  },
  {
   "cell_type": "code",
   "execution_count": null,
   "metadata": {},
   "outputs": [],
   "source": [
    "mlcs.plotsurfaces([surf_high, surf_low], as_3d=False, titles=['High fidelity (2d)', 'Low fidelity (2d)'], save_as=f'{plot_dir}2d_high_low_true.pdf')"
   ]
  },
  {
   "cell_type": "markdown",
   "metadata": {},
   "source": [
    "## Basic modelling"
   ]
  },
  {
   "cell_type": "code",
   "execution_count": null,
   "metadata": {},
   "outputs": [],
   "source": [
    "n_low = 16\n",
    "n_high = 6"
   ]
  },
  {
   "cell_type": "code",
   "execution_count": null,
   "metadata": {},
   "outputs": [],
   "source": [
    "# %%writefile -a function_defs.py\n",
    "\n",
    "def create_models_and_compare(func, low, high, save_as=None):\n",
    "    archive = mlcs.CandidateArchive(ndim=2, fidelities=['high', 'low', 'high-low'])\n",
    "    archive.addcandidates(low, func.low(low), fidelity='low')\n",
    "    archive.addcandidates(high, func.high(high), fidelity='high')\n",
    "\n",
    "    mfbo = mlcs.MultiFidelityBO(func, archive, schema=[1,1])\n",
    "\n",
    "    surf_high_model = mlcs.createsurface(mfbo.models['high'].predict, u_bound=u_bound, l_bound=l_bound, step=steps)\n",
    "    surf_low_model = mlcs.createsurface(mfbo.models['low'].predict, u_bound=u_bound, l_bound=l_bound, step=steps)\n",
    "\n",
    "    points_high = [mlcs.ScatterPoints(*archive.getcandidates(fidelity='high'), red_dot)]\n",
    "    points_low = [mlcs.ScatterPoints(*archive.getcandidates(fidelity='low'), blue_circle)]\n",
    "\n",
    "    points = [\n",
    "        points_high, points_low,\n",
    "        points_high, points_low,\n",
    "    ]\n",
    "\n",
    "    mlcs.plotsurfaces([surf_high, surf_low, surf_high_model, surf_low_model], shape=(2,2), \n",
    "                      titles=['high', 'low', 'high (hierarchical model)', 'low (model)'], all_points=points,\n",
    "                      save_as=save_as)"
   ]
  },
  {
   "cell_type": "markdown",
   "metadata": {},
   "source": [
    "As a first attempt, let's simply use all 2d combinations of the coordinates originally used for the example figure"
   ]
  },
  {
   "cell_type": "code",
   "execution_count": null,
   "metadata": {},
   "outputs": [],
   "source": [
    "low_x = np.linspace(0,1,6).reshape((-1,1))\n",
    "high_x = low_x[[2,3]].reshape((-1,1))\n",
    "\n",
    "high_xy = np.array(list(product(high_x.flatten(), repeat=2)))\n",
    "low_xy =  np.array(list(product(low_x.flatten(), repeat=2)))\n",
    "\n",
    "create_models_and_compare(TD_inv, low_xy, high_xy, save_as=f'{plot_dir}2d_grid_trained_models.pdf')"
   ]
  },
  {
   "cell_type": "markdown",
   "metadata": {},
   "source": [
    "### With a random sample"
   ]
  },
  {
   "cell_type": "code",
   "execution_count": null,
   "metadata": {},
   "outputs": [],
   "source": [
    "np.random.seed(20160501)\n",
    "\n",
    "low_xy = low_random_sample(ndim=2, nlow=n_low)\n",
    "high_xy = low_xy[np.random.choice(n_low, n_high, replace=False)]\n",
    "\n",
    "create_models_and_compare(TD_inv, low_xy, high_xy, save_as=f'{plot_dir}2d_random_trained_models.pdf')"
   ]
  },
  {
   "cell_type": "markdown",
   "metadata": {},
   "source": [
    "### With an LHS"
   ]
  },
  {
   "cell_type": "code",
   "execution_count": null,
   "metadata": {},
   "outputs": [],
   "source": [
    "np.random.seed(20160501)\n",
    "\n",
    "low_xy = low_lhs_sample(ndim=2, nlow=n_low)\n",
    "high_xy = low_xy[np.random.choice(n_low, n_high, replace=False)]\n",
    "\n",
    "create_models_and_compare(TD_inv, low_xy, high_xy, save_as=f'{plot_dir}2d_LHS_trained_models.pdf')"
   ]
  }
 ],
 "metadata": {
  "kernelspec": {
   "display_name": "Python 3",
   "language": "python",
   "name": "python3"
  },
  "language_info": {
   "codemirror_mode": {
    "name": "ipython",
    "version": 3
   },
   "file_extension": ".py",
   "mimetype": "text/x-python",
   "name": "python",
   "nbconvert_exporter": "python",
   "pygments_lexer": "ipython3",
   "version": "3.6.3"
  },
  "toc-autonumbering": true,
  "toc-showcode": false,
  "toc-showmarkdowntxt": false,
  "toc-showtags": false,
  "pycharm": {
   "stem_cell": {
    "cell_type": "raw",
    "source": [],
    "metadata": {
     "collapsed": false
    }
   }
  }
 },
 "nbformat": 4,
 "nbformat_minor": 2
}
