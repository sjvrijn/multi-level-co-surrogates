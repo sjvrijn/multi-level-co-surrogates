{
 "cells": [
  {
   "cell_type": "code",
   "execution_count": null,
   "metadata": {},
   "outputs": [],
   "source": [
    "%matplotlib inline\n",
    "import matplotlib.pyplot as plt\n",
    "import numpy as np\n",
    "import sys\n",
    "import warnings\n",
    "from pathlib import Path\n",
    "\n",
    "module_path = Path().joinpath('../..')\n",
    "if module_path not in sys.path:\n",
    "    sys.path.append(module_path)\n",
    "    \n",
    "from itertools import product\n",
    "from more_itertools import chunked\n",
    "from functools import partial\n",
    "import multifidelityfunctions as mff\n",
    "import multiLevelCoSurrogates as mlcs\n",
    "\n",
    "np.random.seed(20160501)  # Setting seed for reproducibility\n",
    "OD = mff.forrester\n",
    "\n",
    "np.set_printoptions(linewidth=200, edgeitems=10, precision=4, suppress=True)\n",
    "plot_dir = Path('../../plots/')\n",
    "data_dir = Path('../../files/')\n",
    "\n",
    "from function_defs import *"
   ]
  },
  {
   "cell_type": "markdown",
   "metadata": {},
   "source": [
    "# EGO on 2D functions"
   ]
  },
  {
   "cell_type": "markdown",
   "metadata": {},
   "source": [
    "## 'default' grid of initial points"
   ]
  },
  {
   "cell_type": "code",
   "execution_count": null,
   "metadata": {},
   "outputs": [],
   "source": [
    "low_x = np.linspace(0,1,6).reshape((-1,1))\n",
    "high_x = low_x[[2,3]].reshape((-1,1))\n",
    "steps = [.025, .025]\n",
    "np.random.seed(20160501)\n",
    "\n",
    "high_xy = np.array(list(product(high_x.flatten(), repeat=2)))\n",
    "low_xy =  np.array(list(product(low_x.flatten(), repeat=2)))\n",
    "\n",
    "archive = mlcs.CandidateArchive(ndim=2, fidelities=['high', 'low', 'high-low'])\n",
    "archive.addcandidates(low_xy, TD_inv.low(low_xy), fidelity='low')\n",
    "archive.addcandidates(high_xy, TD_inv.high(high_xy), fidelity='high')\n",
    "\n",
    "mfbo = mlcs.MultiFidelityBO(TD_inv, archive, schema=[2,1])\n",
    "\n",
    "fig, axes = plt.subplots(6,4, figsize=(16, 20))#, subplot_kw={'projection': '3d'})\n",
    "\n",
    "idx = 0\n",
    "for row in chunked(axes.tolist(), 2):\n",
    "    for ax1, ax2 in zip(*row):\n",
    "        \n",
    "        model_surface = mlcs.createsurface(mfbo.models['high'].predict, step=steps, \n",
    "                                           u_bound=TD_inv.u_bound, l_bound=TD_inv.l_bound)\n",
    "        acq = partial(mfbo.utility, gp=mfbo.models['high'], y_max=archive.max['high'])\n",
    "        with warnings.catch_warnings():\n",
    "            warnings.simplefilter(\"ignore\")\n",
    "            acq_surface = mlcs.createsurface(acq, step=steps, \n",
    "                                             u_bound=TD_inv.u_bound, l_bound=TD_inv.l_bound)\n",
    "\n",
    "        points = [\n",
    "            mlcs.ScatterPoints(*archive.getcandidates(fidelity='high'), red_dot),\n",
    "            mlcs.ScatterPoints(*archive.getcandidates(fidelity='low'), blue_circle),\n",
    "        ]\n",
    "        surf = mlcs.plotcmaponaxis(ax1, model_surface, title=f'high model - iteration {idx}', point_sets=points)\n",
    "        fig.colorbar(surf, ax=ax1)\n",
    "        surf = mlcs.plotcmaponaxis(ax2, acq_surface, title='acquisition function', point_sets=points)\n",
    "        fig.colorbar(surf, ax=ax2)\n",
    "\n",
    "        with warnings.catch_warnings():\n",
    "            warnings.simplefilter(\"ignore\")\n",
    "            mfbo.iteration(idx)\n",
    "            \n",
    "        idx += 1\n",
    "plt.tight_layout()\n",
    "plt.savefig(f'{plot_dir}2D_BO.pdf')\n",
    "plt.savefig(f'{plot_dir}2D_BO.png')\n",
    "plt.show()"
   ]
  },
  {
   "cell_type": "markdown",
   "metadata": {},
   "source": [
    "## LHS initial sample"
   ]
  },
  {
   "cell_type": "code",
   "execution_count": null,
   "metadata": {},
   "outputs": [],
   "source": [
    "n_low = 12\n",
    "n_high = 3\n",
    "np.random.seed(20160501)\n",
    "\n",
    "low_xy =  low_lhs_sample(ndim=2, nlow=n_low)\n",
    "high_xy = low_xy[np.random.choice(n_low, n_high, replace=False)]\n",
    "\n",
    "archive = mlcs.CandidateArchive(ndim=2, fidelities=['high', 'low', 'high-low'])\n",
    "archive.addcandidates(low_xy, TD_inv.low(low_xy), fidelity='low')\n",
    "archive.addcandidates(high_xy, TD_inv.high(high_xy), fidelity='high')\n",
    "\n",
    "mfbo = mlcs.MultiFidelityBO(TD_inv, archive, schema=[2,1])\n",
    "\n",
    "fig, axes = plt.subplots(8,5, figsize=(16, 20))#, subplot_kw={'projection': '3d'})\n",
    "\n",
    "idx = 0\n",
    "for row in chunked(axes.tolist(), 2):\n",
    "    for ax1, ax2 in zip(*row):\n",
    "        \n",
    "        model_surface = mlcs.createsurface(mfbo.models['high'].predict, step=steps, \n",
    "                                           u_bound=TD_inv.u_bound, l_bound=TD_inv.l_bound)\n",
    "        acq = partial(mfbo.utility, gp=mfbo.models['high'], y_max=archive.max['high'])\n",
    "        with warnings.catch_warnings():\n",
    "            warnings.simplefilter(\"ignore\")\n",
    "            acq_surface = mlcs.createsurface(acq, step=steps, \n",
    "                                             u_bound=TD_inv.u_bound, l_bound=TD_inv.l_bound)\n",
    "\n",
    "        points = [\n",
    "            mlcs.ScatterPoints(*archive.getcandidates(fidelity='high'), red_dot),\n",
    "            mlcs.ScatterPoints(*archive.getcandidates(fidelity='low'), blue_circle),\n",
    "        ]\n",
    "        surf = mlcs.plotcmaponaxis(ax1, model_surface, title=f'high model - iteration {idx}', point_sets=points)\n",
    "        fig.colorbar(surf, ax=ax1)\n",
    "        surf = mlcs.plotcmaponaxis(ax2, acq_surface, title='acquisition function', point_sets=points)\n",
    "        fig.colorbar(surf, ax=ax2)\n",
    "\n",
    "        with warnings.catch_warnings():\n",
    "            warnings.simplefilter(\"ignore\")\n",
    "            mfbo.iteration(idx)\n",
    "            \n",
    "        idx += 1\n",
    "plt.tight_layout()\n",
    "plt.savefig(f'{plot_dir}2D_LHS_BO.pdf')\n",
    "plt.savefig(f'{plot_dir}2D_LHS_BO.png')\n",
    "plt.show()"
   ]
  },
  {
   "cell_type": "code",
   "execution_count": null,
   "metadata": {},
   "outputs": [],
   "source": []
  }
 ],
 "metadata": {
  "kernelspec": {
   "display_name": "Python 3",
   "language": "python",
   "name": "python3"
  },
  "language_info": {
   "codemirror_mode": {
    "name": "ipython",
    "version": 3
   },
   "file_extension": ".py",
   "mimetype": "text/x-python",
   "name": "python",
   "nbconvert_exporter": "python",
   "pygments_lexer": "ipython3",
   "version": "3.6.3"
  },
  "toc-autonumbering": true,
  "toc-showcode": false,
  "toc-showmarkdowntxt": false,
  "toc-showtags": false,
  "pycharm": {
   "stem_cell": {
    "cell_type": "raw",
    "source": [],
    "metadata": {
     "collapsed": false
    }
   }
  }
 },
 "nbformat": 4,
 "nbformat_minor": 2
}