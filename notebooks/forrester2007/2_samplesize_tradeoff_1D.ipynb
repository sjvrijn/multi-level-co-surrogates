{
 "cells": [
  {
   "cell_type": "code",
   "execution_count": null,
   "metadata": {},
   "outputs": [],
   "source": [
    "%matplotlib inline\n",
    "from matplotlib import colors\n",
    "from mpl_toolkits.axes_grid1 import make_axes_locatable   \n",
    "from pyDOE import lhs\n",
    "import matplotlib.pyplot as plt\n",
    "import numpy as np\n",
    "import time\n",
    "import os\n",
    "import sys\n",
    "import warnings\n",
    "\n",
    "module_path = os.path.abspath(os.path.join('../..'))\n",
    "if module_path not in sys.path:\n",
    "    sys.path.append(module_path)\n",
    "    \n",
    "from itertools import product\n",
    "from more_itertools import chunked\n",
    "from functools import partial\n",
    "import multifidelityfunctions as mff\n",
    "import multiLevelCoSurrogates as mlcs\n",
    "from sklearn.gaussian_process import GaussianProcessRegressor, kernels\n",
    "from sklearn.ensemble import RandomForestRegressor\n",
    "\n",
    "np.random.seed(20160501)  # Setting seed for reproducibility\n",
    "OD = mff.oneDimensional\n",
    "\n",
    "from IPython.core.display import clear_output\n",
    "from pprint import pprint\n",
    "np.set_printoptions(linewidth=200, edgeitems=10, precision=4, suppress=True)\n",
    "plot_dir = '../../plots/'\n",
    "data_dir = '../../files/'"
   ]
  },
  {
   "cell_type": "markdown",
   "metadata": {
    "toc-hr-collapsed": true
   },
   "source": [
    "# Trade-off heatmap: number of high- vs. low-fidelity points"
   ]
  },
  {
   "cell_type": "markdown",
   "metadata": {},
   "source": [
    "This section covers an experiment about the influence of low-fidelity points is in a co-surrogate setup.\n",
    "\n",
    "Let $n_L$ be the number of low-fidelity points and $n_H$ the number of high-fidelity points. Create a sample $x_L$ of $n_L$ points using some initial sampling method (random, LHS, grid, etc), and take from that a subsample $x_H \\subset x_L$ through some heuristic (maximal distance, random, etc). Then we train a number of models:\n",
    " - direct low-fidelity model using $x_L, f_L(x_L)$ only\n",
    " - direct high-fidelity model using $x_H, f_H(x_H)$ only\n",
    " - hierarchical high-fidelity model using both $x_L, f_L(x_L)$ and $x_H, f_H(x_H)$\n",
    " \n",
    "Independently, a function-dependent sample $x_{mse}$ of size 1000 is also created. This sample is used to calculate a Mean Squared Error (MSE) value for the state of a model after training.\n",
    "\n",
    "For the experiments, we examine all combinations for $n_L \\in 3, \\ldots, 100$ and $n_H \\in 2, \\ldots, 40$, with the restriction that $n_L > n_H$. Each combination is repeated 30 times."
   ]
  },
  {
   "cell_type": "code",
   "execution_count": null,
   "metadata": {},
   "outputs": [],
   "source": [
    "max_high = 40\n",
    "max_low = 100\n",
    "num_reps = 30"
   ]
  },
  {
   "cell_type": "code",
   "execution_count": null,
   "metadata": {},
   "outputs": [],
   "source": [
    "# %%writefile -a function_defs.py\n",
    "\n",
    "def low_random_sample(ndim, nlow):\n",
    "    return np.random.rand(nlow, ndim)\n",
    "\n",
    "def low_lhs_sample(ndim, nlow):\n",
    "    if ndim == 1:\n",
    "        return np.linspace(0,1,nlow).reshape(-1,1)\n",
    "    elif ndim > 1:\n",
    "        return lhs(ndim, nlow)"
   ]
  },
  {
   "cell_type": "code",
   "execution_count": null,
   "metadata": {},
   "outputs": [],
   "source": [
    "# %%writefile -a function_defs.py\n",
    "\n",
    "def create_mse_tracking(func, sample_generator,\n",
    "                        max_high=40, max_low=100, num_reps=30,\n",
    "                        min_high=2, min_low=3):\n",
    "    ndim = func.ndim\n",
    "    mse_tracking = np.empty((max_high+1, max_low+1, num_reps, 3))\n",
    "    mse_tracking[:] = np.nan\n",
    "    cases = list(product(range(min_high, max_high+1), range(min_low, max_low+1), range(num_reps)))\n",
    "\n",
    "    for idx, case in enumerate(cases):\n",
    "        num_high, num_low, rep = case\n",
    "\n",
    "        if num_high >= num_low:\n",
    "            continue\n",
    "        if idx % 100 == 0:\n",
    "            clear_output()\n",
    "            print(f'{idx}/{len(cases)}')\n",
    "\n",
    "        low_x = sample_generator(ndim, num_low)\n",
    "        high_x = low_x[np.random.choice(num_low, num_high, replace=False)]\n",
    "        \n",
    "        archive = mlcs.CandidateArchive(ndim=ndim, fidelities=['high', 'low', 'high-low'])\n",
    "        archive.addcandidates(low_x, func.low(low_x), fidelity='low')\n",
    "        archive.addcandidates(high_x, func.high(high_x), fidelity='high')\n",
    "\n",
    "        mfbo = mlcs.MultiFidelityBO(func, archive, output_range=(-10, 16))\n",
    "        mse_tracking[num_high, num_low, rep] = mfbo.getMSE()\n",
    "\n",
    "    clear_output()\n",
    "    print(f'{len(cases)}/{len(cases)}')\n",
    "    return mse_tracking"
   ]
  },
  {
   "cell_type": "code",
   "execution_count": null,
   "metadata": {},
   "outputs": [],
   "source": [
    "# %%writefile -a function_defs.py\n",
    "\n",
    "def plot_high_vs_low_num_samples(data, name, vmin=.5, vmax=100, save_as=None):\n",
    "    norm = colors.LogNorm(vmin=vmin, vmax=vmax, clip=True)\n",
    "    fig, ax = plt.subplots(figsize=(9,3.5))\n",
    "    \n",
    "    ax.set_aspect('equal')\n",
    "    data = np.nanmedian(data, axis=2)\n",
    "    \n",
    "    plt.title('Median MSE for high (hierarchical) model')\n",
    "    img = ax.imshow(data[:,:,0], cmap='viridis_r', norm=norm)\n",
    "    \n",
    "    divider = make_axes_locatable(ax)\n",
    "    axx = divider.append_axes(\"bottom\", size=.2, pad=0.05, sharex=ax)\n",
    "    axy = divider.append_axes(\"left\", size=.2, pad=0.05, sharey=ax)\n",
    "    \n",
    "    ax.xaxis.set_tick_params(labelbottom=False)\n",
    "    ax.yaxis.set_tick_params(labelleft=False)\n",
    "    axy.xaxis.set_tick_params(labelbottom=False)\n",
    "    axx.yaxis.set_tick_params(labelleft=False)\n",
    "    \n",
    "    img = axy.imshow(np.nanmean(data[:,:,1], axis=1).reshape(-1,1), cmap='viridis_r', norm=norm)\n",
    "    img = axx.imshow(np.nanmean(data[:,:,2], axis=0).reshape(1,-1), cmap='viridis_r', norm=norm)\n",
    "    \n",
    "    fig.colorbar(img, ax=ax, orientation='vertical')\n",
    "    axy.set_ylabel('#High-fid samples')\n",
    "    axx.set_xlabel('#Low-fid samples')\n",
    "    \n",
    "    plt.tight_layout()\n",
    "    if save_as:\n",
    "        plt.savefig(save_as)\n",
    "    plt.show()"
   ]
  },
  {
   "cell_type": "code",
   "execution_count": null,
   "metadata": {},
   "outputs": [],
   "source": [
    "# %%writefile -a function_defs.py\n",
    "\n",
    "def plot_high_vs_low_num_samples_diff(data, name, vmin=.5, vmax=100, save_as=None):\n",
    "    to_plot = np.nanmedian(data[:,:,:,1] - data[:,:,:,0], axis=2)\n",
    "    print(np.nanmin(to_plot), np.nanmax(to_plot))\n",
    "\n",
    "    max_diff = 2*min(abs(np.nanmin(to_plot)), np.nanmax(to_plot))\n",
    "    norm = colors.Normalize(vmin=-max_diff, vmax=max_diff, clip=True)\n",
    "    \n",
    "    fig, ax = plt.subplots(figsize=(9,3.5))\n",
    "    img = ax.imshow(to_plot, cmap='RdYlGn', norm=norm)\n",
    "    fig.colorbar(img, ax=ax, orientation='vertical')\n",
    "    ax.set_ylabel('#High-fid samples')\n",
    "    ax.set_xlabel('#Low-fid samples')\n",
    "    \n",
    "    plt.title('Median of paired (high (hierarchical) - high (direct)) MSE')\n",
    "    plt.tight_layout()\n",
    "    if save_as:\n",
    "        plt.savefig(save_as)\n",
    "    plt.show()"
   ]
  },
  {
   "cell_type": "markdown",
   "metadata": {},
   "source": [
    "## Random Sample generation"
   ]
  },
  {
   "cell_type": "code",
   "execution_count": null,
   "metadata": {},
   "outputs": [],
   "source": [
    "if '1d_mse_tracking.npy' in os.listdir(data_dir):\n",
    "    mse_tracking = np.load(f'{data_dir}1d_mse_tracking.npy')\n",
    "else:\n",
    "    mse_tracking = create_mse_tracking(OD, low_random_sample)\n",
    "    np.save(f'{data_dir}1d_mse_tracking.npy', mse_tracking)"
   ]
  },
  {
   "cell_type": "markdown",
   "metadata": {},
   "source": [
    "### Test sample inspection"
   ]
  },
  {
   "cell_type": "code",
   "execution_count": null,
   "metadata": {},
   "outputs": [],
   "source": [
    "sample = np.load(f'{data_dir}1d_test_sample.npy')\n",
    "img = plt.hist(sample)\n",
    "plt.show()"
   ]
  },
  {
   "cell_type": "markdown",
   "metadata": {},
   "source": [
    "### Error distribution"
   ]
  },
  {
   "cell_type": "code",
   "execution_count": null,
   "metadata": {},
   "outputs": [],
   "source": [
    "errors = np.load(f'{data_dir}1d_error_tracking.npy')\n",
    "mean_errors = np.mean(errors, axis=(0,1,2))"
   ]
  },
  {
   "cell_type": "code",
   "execution_count": null,
   "metadata": {},
   "outputs": [],
   "source": [
    "plt.scatter(x=sample.flatten(), y=mean_errors[0], s=2)\n",
    "plt.title('Mean error - high fidelity (hierarchical) model')\n",
    "plt.show()"
   ]
  },
  {
   "cell_type": "code",
   "execution_count": null,
   "metadata": {},
   "outputs": [],
   "source": [
    "plt.scatter(x=sample.flatten(), y=mean_errors[1], s=2)\n",
    "plt.title('Mean error - high fidelity (direct) model')\n",
    "plt.show()"
   ]
  },
  {
   "cell_type": "code",
   "execution_count": null,
   "metadata": {},
   "outputs": [],
   "source": [
    "plt.scatter(x=sample.flatten(), y=mean_errors[2], s=2)\n",
    "plt.title('Mean error - low fidelity (direct) model')\n",
    "plt.show()"
   ]
  },
  {
   "cell_type": "markdown",
   "metadata": {},
   "source": [
    "### Global MSE inspection"
   ]
  },
  {
   "cell_type": "code",
   "execution_count": null,
   "metadata": {},
   "outputs": [],
   "source": [
    "print('median')\n",
    "pprint([(f'{95+i}%-ile', np.percentile(np.nanmedian(mse_tracking, axis=2).flatten(), 95+i)) for i in range(6)])"
   ]
  },
  {
   "cell_type": "code",
   "execution_count": null,
   "metadata": {},
   "outputs": [],
   "source": [
    "name = 'high-low-samples-random'\n",
    "plot_high_vs_low_num_samples(mse_tracking, name, save_as=f'{plot_dir}{name}.pdf')"
   ]
  },
  {
   "cell_type": "code",
   "execution_count": null,
   "metadata": {},
   "outputs": [],
   "source": [
    "name = 'high-low-samples-random'\n",
    "plot_high_vs_low_num_samples_diff(mse_tracking, name, save_as=f'{plot_dir}{name}_diff.pdf')"
   ]
  },
  {
   "cell_type": "markdown",
   "metadata": {},
   "source": [
    "## Linspace, random subsample generation"
   ]
  },
  {
   "cell_type": "code",
   "execution_count": null,
   "metadata": {},
   "outputs": [],
   "source": [
    "if '1d_lin_mse_tracking.npy' in os.listdir(data_dir):\n",
    "    lin_mse_tracking = np.load(f'{data_dir}1d_lin_mse_tracking.npy')\n",
    "else:\n",
    "    lin_mse_tracking = create_mse_tracking(OD, low_lhs_sample)\n",
    "    np.save(f'{data_dir}1d_lin_mse_tracking.npy', lin_mse_tracking)"
   ]
  },
  {
   "cell_type": "code",
   "execution_count": null,
   "metadata": {},
   "outputs": [],
   "source": [
    "print('median')\n",
    "pprint([(f'{95+i}%-ile', np.percentile(np.nanmedian(lin_mse_tracking, axis=2).flatten(), 95+i)) for i in range(6)])"
   ]
  },
  {
   "cell_type": "code",
   "execution_count": null,
   "metadata": {},
   "outputs": [],
   "source": [
    "name = 'high-low-samples-linear'\n",
    "plot_high_vs_low_num_samples(lin_mse_tracking, name, save_as=f'{plot_dir}{name}.pdf')"
   ]
  },
  {
   "cell_type": "code",
   "execution_count": null,
   "metadata": {},
   "outputs": [],
   "source": [
    "name = 'high-low-samples-linear'\n",
    "plot_high_vs_low_num_samples_diff(lin_mse_tracking, name, save_as=f'{plot_dir}{name}_diff.pdf')"
   ]
  },
  {
   "cell_type": "markdown",
   "metadata": {},
   "source": [
    "## Difference in error between linear and random sample"
   ]
  },
  {
   "cell_type": "code",
   "execution_count": null,
   "metadata": {},
   "outputs": [],
   "source": [
    "# %%writefile -a function_defs.py\n",
    "\n",
    "def plot_inter_method_diff(data_A, data_B, name, save_as=None):\n",
    "    fig, ax = plt.subplots(figsize=(9,3.5))\n",
    "\n",
    "    plt.title(f'high (hierarchical) MSE: {name}')\n",
    "    to_plot = np.nanmedian(data_A[:,:,:,0] - data_B[:,:,:,0], axis=2)\n",
    "    \n",
    "    print(np.nanmin(to_plot), np.nanmax(to_plot))\n",
    "    max_diff = .05*min(abs(np.nanmin(to_plot)), np.nanmax(to_plot))\n",
    "    norm = colors.Normalize(vmin=-max_diff, vmax=max_diff, clip=True)\n",
    "\n",
    "    img = ax.imshow(to_plot, cmap='RdYlGn', norm=norm)\n",
    "\n",
    "    fig.colorbar(img, ax=ax, orientation='vertical')\n",
    "    ax.set_ylabel('#High-fid samples')\n",
    "    ax.set_xlabel('#Low-fid samples')\n",
    "\n",
    "    plt.tight_layout()\n",
    "    if save_as:\n",
    "        plt.savefig(save_as)\n",
    "    plt.show()"
   ]
  },
  {
   "cell_type": "code",
   "execution_count": null,
   "metadata": {},
   "outputs": [],
   "source": [
    "name = \"1D, random - LHS\"\n",
    "plot_inter_method_diff(mse_tracking, lin_mse_tracking, name, save_as=f'{plot_dir}{name}.pdf')"
   ]
  },
  {
   "cell_type": "code",
   "execution_count": null,
   "metadata": {},
   "outputs": [],
   "source": []
  }
 ],
 "metadata": {
  "kernelspec": {
   "display_name": "Python 3",
   "language": "python",
   "name": "python3"
  },
  "language_info": {
   "codemirror_mode": {
    "name": "ipython",
    "version": 3
   },
   "file_extension": ".py",
   "mimetype": "text/x-python",
   "name": "python",
   "nbconvert_exporter": "python",
   "pygments_lexer": "ipython3",
   "version": "3.6.3"
  },
  "toc-autonumbering": true,
  "toc-showcode": false,
  "toc-showmarkdowntxt": false,
  "toc-showtags": false
 },
 "nbformat": 4,
 "nbformat_minor": 2
}
