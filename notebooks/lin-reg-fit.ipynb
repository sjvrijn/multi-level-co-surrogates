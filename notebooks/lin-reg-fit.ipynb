{
 "cells": [
  {
   "cell_type": "code",
   "execution_count": null,
   "metadata": {},
   "outputs": [],
   "source": [
    "%matplotlib inline\n",
    "\n",
    "import numpy as np\n",
    "import matplotlib.pyplot as plt\n",
    "plt.style.use('seaborn-whitegrid')\n",
    "from sklearn.linear_model import LinearRegression"
   ]
  },
  {
   "cell_type": "markdown",
   "metadata": {},
   "source": [
    "Simple fake dataset:"
   ]
  },
  {
   "cell_type": "code",
   "execution_count": null,
   "metadata": {},
   "outputs": [],
   "source": [
    "beta_1, beta_2 = 7, 2\n",
    "noise_scale = 10\n",
    "max_high = 50\n",
    "max_low = 125\n",
    "\n",
    "n_low = np.arange(max_low)\n",
    "n_high = np.arange(max_high)\n",
    "\n",
    "mse = n_high.reshape(-1, 1)*beta_1 + n_low.reshape(1, -1)*beta_2\n",
    "mse = mse + (np.random.rand(*mse.shape) - .5) * noise_scale\n",
    "\n",
    "plt.imshow(mse, origin='lower', cmap='viridis')\n",
    "plt.xlabel('num low')\n",
    "plt.ylabel('num high')\n",
    "plt.show()"
   ]
  },
  {
   "cell_type": "markdown",
   "metadata": {},
   "source": [
    "A linear fit gives the following:"
   ]
  },
  {
   "cell_type": "code",
   "execution_count": null,
   "metadata": {},
   "outputs": [],
   "source": [
    "features = np.hstack(list(reversed([x.reshape(-1, 1) for x in np.meshgrid(n_low, n_high)])))\n",
    "values = mse.ravel()\n",
    "reg = LinearRegression().fit(features, values)\n",
    "print(reg.coef_)"
   ]
  },
  {
   "cell_type": "markdown",
   "metadata": {},
   "source": [
    "Which plotted shows up as follows:"
   ]
  },
  {
   "cell_type": "code",
   "execution_count": null,
   "metadata": {},
   "outputs": [],
   "source": [
    "plt.imshow(mse, origin='lower', cmap='viridis')\n",
    "plt.plot(n_low.ravel(), n_low.ravel()*(reg.coef_[0]/reg.coef_[1]), color='C1')  # x* beta_1/beta_2\n",
    "plt.ylim([0, max_high])\n",
    "plt.xlim([0, max_low])\n",
    "plt.xlabel('num low')\n",
    "plt.ylabel('num high')\n",
    "plt.show()"
   ]
  },
  {
   "cell_type": "markdown",
   "metadata": {},
   "source": [
    "Now what if we squash along the x-axis, i.e. `n_low`, by some cost ratio $\\phi$?"
   ]
  },
  {
   "cell_type": "code",
   "execution_count": null,
   "metadata": {},
   "outputs": [],
   "source": [
    "cost_ratio = 1/5\n",
    "\n",
    "cost_n_low = np.arange(np.ceil(cost_ratio * max_low))\n",
    "\n",
    "cost_values = mse[:,::5].ravel()\n",
    "cost_features = np.hstack(list(reversed([x.reshape(-1, 1) for x in np.meshgrid(cost_n_low, n_high)])))\n",
    "cost_reg = LinearRegression().fit(cost_features, cost_values)\n",
    "\n",
    "plt.imshow(mse[:,::5], origin='lower', cmap='viridis')\n",
    "plt.plot(cost_n_low.ravel(), cost_n_low.ravel()*(cost_reg.coef_[0]/cost_reg.coef_[1]), color='C1')  # x* beta_1/beta_2\n",
    "plt.ylim([0, max_high])\n",
    "plt.xlim([0, max_low*cost_ratio])\n",
    "plt.xlabel('num low')\n",
    "plt.ylabel('num high')\n",
    "plt.show()"
   ]
  },
  {
   "cell_type": "markdown",
   "metadata": {},
   "source": [
    "Then the explanatory effect of the y-axis, i.e. `n_high`, will remain the same, thus not influencing the first coefficient ($\\beta_1$).\n",
    "However, $\\beta_2$ is fit on `n_low`, where the cost ratio will be included, so that value is expected to change.\n",
    "\n",
    "Using the linear regression formula, we can see that $\\beta_2$ is determined as follows if the cost ratio $\\phi$ is excluded:\n",
    "\n",
    "$\\log_{10}(MSE) = \\beta_1 n_h + \\beta_2 n_l + c$\n",
    "\n",
    "$\\beta_2 n_l = \\log_{10}(MSE) - \\beta_1 n_h - c$\n",
    "\n",
    "$\\beta_2 = \\dfrac{\\log_{10}(MSE) - \\beta_1 n_h - c}{n_l}$\n",
    "\n",
    "By including the cost ratio, no values other than $\\beta_2$ should change, so we mark the cost-ratio-included value as $\\beta^\\prime_2$. Stating the linear regression formula with cost ratio included and solving for $\\beta^\\prime_2$, we see the exact same result as before, but with $\\phi$ added in the nominator:\n",
    "\n",
    "$\\log_{10}(MSE) = \\beta_1 n_h + \\beta^\\prime_2 \\phi n_l + c$\n",
    "\n",
    "$\\beta^\\prime_2 \\phi n_l = \\log_{10}(MSE) - \\beta_1 n_h - c$\n",
    "\n",
    "$\\beta^\\prime_2 = \\dfrac{\\log_{10}(MSE) - \\beta_1 n_h - c}{\\phi n_l}$\n",
    "\n",
    "In other words:\n",
    "\n",
    "$\\beta^\\prime_2 = \\dfrac{\\beta_2}{\\phi}$\n",
    "\n",
    "This is confirmed by the example above:"
   ]
  },
  {
   "cell_type": "code",
   "execution_count": null,
   "metadata": {},
   "outputs": [],
   "source": [
    "print(\"beta_2 / cost_ratio:\", reg.coef_[1] / cost_ratio)\n",
    "print(\"beta^prime_2:       \", cost_reg.coef_[1])"
   ]
  },
  {
   "cell_type": "code",
   "execution_count": null,
   "metadata": {},
   "outputs": [],
   "source": []
  }
 ],
 "metadata": {
  "kernelspec": {
   "display_name": "Python 3",
   "language": "python",
   "name": "python3"
  },
  "language_info": {
   "codemirror_mode": {
    "name": "ipython",
    "version": 3
   },
   "file_extension": ".py",
   "mimetype": "text/x-python",
   "name": "python",
   "nbconvert_exporter": "python",
   "pygments_lexer": "ipython3",
   "version": "3.8.5"
  }
 },
 "nbformat": 4,
 "nbformat_minor": 4
}
