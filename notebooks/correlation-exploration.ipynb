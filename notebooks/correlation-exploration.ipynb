{
 "cells": [
  {
   "cell_type": "code",
   "execution_count": null,
   "metadata": {},
   "outputs": [],
   "source": [
    "from collections import namedtuple\n",
    "from pathlib import Path\n",
    "from pprint import pprint\n",
    "\n",
    "from cycler import cycler\n",
    "import matplotlib.pyplot as plt\n",
    "import numpy as np\n",
    "import pandas as pd\n",
    "import xarray as xr\n",
    "from scipy.stats import pearsonr, spearmanr\n",
    "from more_itertools import flatten\n",
    "from pyprojroot import here\n",
    "\n",
    "import mf2\n",
    "import multiLevelCoSurrogates as mlcs\n",
    "\n",
    "np.set_printoptions(linewidth=200, edgeitems=5)\n",
    "\n",
    "plot_dir = here() / \"plots/2019-10-correlation-exploration/\"\n",
    "plot_dir.mkdir(parents=True, exist_ok=True)"
   ]
  },
  {
   "cell_type": "markdown",
   "metadata": {},
   "source": [
    "# Plotting surfaces of Adjustable Branin and Paciorek"
   ]
  },
  {
   "cell_type": "code",
   "execution_count": null,
   "metadata": {},
   "outputs": [],
   "source": [
    "surfaces = {\n",
    "    f(0).name: list(flatten([\n",
    "        mlcs.createsurfaces([f(x).high, f(x).low], l_bound=f(x).l_bound, u_bound=f(x).u_bound, step=[step, step])\n",
    "        for x in [0, 0.5, 1]\n",
    "    ]))\n",
    "    for f, step in zip([mff.adjustable_branin, mff.adjustable_paciorek], [0.5, 0.05])\n",
    "}"
   ]
  },
  {
   "cell_type": "code",
   "execution_count": null,
   "metadata": {},
   "outputs": [],
   "source": [
    "for name, surfs in surfaces.items():\n",
    "    print(name[:-1])\n",
    "    mlcs.plotsurfaces(surfs, shape=(3,2), save_as=plot_dir / f'{name[:-1]}_surfaces.pdf')"
   ]
  },
  {
   "cell_type": "markdown",
   "metadata": {},
   "source": [
    "# Calculating Pearson/Spearman correlations for multi-fidelity functions"
   ]
  },
  {
   "cell_type": "code",
   "execution_count": null,
   "metadata": {},
   "outputs": [],
   "source": [
    "size_per_dim = 2000\n",
    "dims = [1, 2, 3, 4, 6, 8, 10]\n",
    "test_sample = {\n",
    "    ndim: np.random.random((ndim*size_per_dim, ndim))\n",
    "    for ndim in dims\n",
    "}\n",
    "\n",
    "Corr_result = namedtuple(\"Corr_result\", \"name ndim pearson_r pearson_r2 spearman_r spearman_r2\")"
   ]
  },
  {
   "cell_type": "code",
   "execution_count": null,
   "metadata": {},
   "outputs": [],
   "source": [
    "results = []\n",
    "for f in mff.bi_fidelity_functions:\n",
    "    bounds = (np.array(f.l_bound), np.array(f.u_bound))\n",
    "    sample = mlcs.rescale(test_sample[f.ndim], range_in=(0,1), range_out=bounds)\n",
    "    \n",
    "    print(sample[:1], end='\\n\\n')\n",
    "    \n",
    "    y_h, y_l = f.high(sample), f.low(sample)\n",
    "    pear, spear = pearsonr(y_h, y_l)[0], spearmanr(y_h, y_l)[0]\n",
    "    results.append(Corr_result(f'{f.name}', f.ndim, pear, pear*pear, spear, spear*spear))\n",
    "\n",
    "df = pd.DataFrame.from_records(results, columns=Corr_result._fields)\n",
    "print(df)"
   ]
  },
  {
   "cell_type": "code",
   "execution_count": null,
   "metadata": {},
   "outputs": [],
   "source": [
    "print(df.to_latex(index=False))"
   ]
  },
  {
   "cell_type": "markdown",
   "metadata": {},
   "source": [
    "## A separate table for the various dimensionality options for the Forrester function"
   ]
  },
  {
   "cell_type": "code",
   "execution_count": null,
   "metadata": {},
   "outputs": [],
   "source": [
    "results = []\n",
    "for ndim in test_sample:\n",
    "    bounds = (np.array(mff.forrester.l_bound), np.array(mff.forrester.u_bound))\n",
    "    sample = mlcs.rescale(test_sample[ndim], range_in=(0,1), range_out=bounds)\n",
    "    \n",
    "    y_h, y_l = mff.forrester.high(sample), mff.forrester.low(sample)\n",
    "    pear, spear = pearsonr(y_h, y_l)[0], spearmanr(y_h, y_l)[0]\n",
    "    results.append(Corr_result(f'{mff.forrester.name}', ndim, pear, pear*pear, spear, spear*spear))\n",
    "\n",
    "df = pd.DataFrame.from_records(results, columns=Corr_result._fields)\n",
    "print(df)"
   ]
  },
  {
   "cell_type": "code",
   "execution_count": null,
   "metadata": {},
   "outputs": [],
   "source": [
    "print(df.to_latex(index=False))"
   ]
  },
  {
   "cell_type": "markdown",
   "metadata": {},
   "source": [
    "# Plotting Pearson/Spearman correlations for adjustable multi-fidelityfunctions"
   ]
  },
  {
   "cell_type": "code",
   "execution_count": null,
   "metadata": {},
   "outputs": [],
   "source": [
    "params = np.linspace(0, 1, 101)\n",
    "Adj_Corr_result = namedtuple(\"Corr_result\", \"name ndim param pearson_r pearson_r2 spearman_r spearman_r2\")\n",
    "\n",
    "results = []\n",
    "for func in mff.adjustable_bifidelity_functions:\n",
    "    for a in params:\n",
    "        f = func(np.round(a, 3))\n",
    "        bounds = (np.array(f.l_bound), np.array(f.u_bound))\n",
    "        sample = mlcs.rescale(test_sample[f.ndim], range_in=(0,1), range_out=bounds)\n",
    "\n",
    "        y_h, y_l = f.high(sample), f.low(sample)\n",
    "        pear, spear = pearsonr(y_h, y_l)[0], spearmanr(y_h, y_l)[0]\n",
    "        results.append(Adj_Corr_result(f'{func.__name__}', f.ndim, a, pear, pear*pear, spear, spear*spear))\n",
    "\n",
    "df = pd.DataFrame.from_records(results, columns=Adj_Corr_result._fields)\n",
    "df.head()"
   ]
  },
  {
   "cell_type": "code",
   "execution_count": null,
   "metadata": {},
   "outputs": [],
   "source": [
    "plt.rcParams['axes.prop_cycle'][:4] + cycler(linestyle=['-', '--', ':', '-.'])"
   ]
  },
  {
   "cell_type": "code",
   "execution_count": null,
   "metadata": {},
   "outputs": [],
   "source": [
    "plt.rc('axes', prop_cycle=plt.rcParams['axes.prop_cycle'][:4] + cycler(linestyle=['-', '--', ':', '-.']))\n",
    "\n",
    "grouped_df = df.groupby('name')\n",
    "for idx, (name, subdf) in enumerate(grouped_df, start=1):    \n",
    "    for col in 'pearson_r pearson_r2 spearman_r spearman_r2'.split():\n",
    "        plt.plot(subdf['param'], subdf[col], label=col)\n",
    "    plt.axhline(y=0, color='black', alpha=.5)\n",
    "    plt.xlim([0,1])\n",
    "    plt.ylabel('Correlation')\n",
    "    plt.xlabel(f'A{idx}')\n",
    "    plt.legend(loc=0)\n",
    "    plt.title(name)\n",
    "    plt.tight_layout()\n",
    "    plt.savefig(plot_dir / f'{name}_correlation.pdf')\n",
    "    plt.show()\n",
    "\n",
    "plt.style.use('default')"
   ]
  },
  {
   "cell_type": "code",
   "execution_count": null,
   "metadata": {},
   "outputs": [],
   "source": []
  }
 ],
 "metadata": {
  "kernelspec": {
   "display_name": "Python 3.7",
   "language": "python",
   "name": "python3.7"
  },
  "language_info": {
   "codemirror_mode": {
    "name": "ipython",
    "version": 3
   },
   "file_extension": ".py",
   "mimetype": "text/x-python",
   "name": "python",
   "nbconvert_exporter": "python",
   "pygments_lexer": "ipython3",
   "version": "3.7.2"
  }
 },
 "nbformat": 4,
 "nbformat_minor": 2
}
