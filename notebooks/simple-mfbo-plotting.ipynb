{
 "cells": [
  {
   "cell_type": "code",
   "execution_count": null,
   "metadata": {},
   "outputs": [],
   "source": [
    "from pickle import load\n",
    "from pprint import pprint\n",
    "\n",
    "import numpy as np\n",
    "import matplotlib.pyplot as plt\n",
    "import pandas as pd\n",
    "import mf2\n",
    "from pyprojroot import here\n",
    "\n",
    "data_path = here('files/2020-11-05-simple-mfbo/')\n",
    "plot_path = here('plots/2020-09-28-shape-reduction/', warn=False)\n",
    "plot_path.mkdir(exist_ok=True, parents=True)"
   ]
  },
  {
   "cell_type": "markdown",
   "metadata": {},
   "source": [
    "## Plotting progress of $\\tau$ over time"
   ]
  },
  {
   "cell_type": "code",
   "execution_count": null,
   "metadata": {},
   "outputs": [],
   "source": [
    "df = pd.read_csv(data_path / 'Branin-tracking.csv', index_col=0)\n",
    "df.head()"
   ]
  },
  {
   "cell_type": "code",
   "execution_count": null,
   "metadata": {},
   "outputs": [],
   "source": [
    "df['tau'].plot()\n",
    "plt.savefig('branin-tau.pdf', bbox_inches='tight')"
   ]
  },
  {
   "cell_type": "code",
   "execution_count": null,
   "metadata": {},
   "outputs": [],
   "source": [
    "for func in mf2.bi_fidelity_functions:\n",
    "    tracking_file = data_path.joinpath(f'{func.name}-tracking.csv')\n",
    "    if tracking_file.exists():\n",
    "        print(func.name)\n",
    "        df = pd.read_csv(tracking_file)\n",
    "        df['tau'].plot()\n",
    "        plt.savefig(f'{func.name}-tau.pdf', bbox_inches='tight')\n",
    "        plt.show()\n",
    "        plt.clf()"
   ]
  },
  {
   "cell_type": "markdown",
   "metadata": {},
   "source": [
    "## Plotting best high/low-fidelity evaluation over time"
   ]
  },
  {
   "cell_type": "markdown",
   "metadata": {},
   "source": [
    "### New-style: using `df[fitness]`"
   ]
  },
  {
   "cell_type": "code",
   "execution_count": null,
   "metadata": {},
   "outputs": [],
   "source": [
    "for name, sub_df in df.groupby('fidelity'):\n",
    "    time = sub_df['budget'].values\n",
    "    fitnesses = sub_df['fitness'].values\n",
    "    min_fit = np.minimum.accumulate(fitnesses)\n",
    "    \n",
    "    plt.plot(time, fitnesses, label=f'{name}-fidelity over time')\n",
    "    plt.plot(time, min_fit, label=f'best {name}-fidelity over time')\n",
    "    plt.legend(loc=0)\n",
    "    plt.show()"
   ]
  },
  {
   "cell_type": "code",
   "execution_count": null,
   "metadata": {},
   "outputs": [],
   "source": []
  },
  {
   "cell_type": "code",
   "execution_count": null,
   "metadata": {},
   "outputs": [],
   "source": []
  },
  {
   "cell_type": "markdown",
   "metadata": {},
   "source": [
    "### Old-style: using `archive`"
   ]
  },
  {
   "cell_type": "code",
   "execution_count": null,
   "metadata": {},
   "outputs": [],
   "source": [
    "from numpy import array, nan\n",
    "\n",
    "with open(data_path / 'Branin-archive.pkl', 'rb') as f:\n",
    "    archive_str = load(f)\n",
    "archive = eval(archive_str)\n",
    "print(archive)"
   ]
  },
  {
   "cell_type": "code",
   "execution_count": null,
   "metadata": {},
   "outputs": [],
   "source": [
    "low_fid_evals = [values[1] for values in archive.values()]\n",
    "min_low_over_time = np.minimum.accumulate(low_fid_evals)\n",
    "plt.plot(low_fid_evals, label='low-fidelity evaluations')\n",
    "plt.plot(min_low_over_time, label='minimum over time')\n",
    "plt.legend(loc=0)\n",
    "plt.show()"
   ]
  },
  {
   "cell_type": "code",
   "execution_count": null,
   "metadata": {},
   "outputs": [],
   "source": [
    "high_fid_evals = [values[0] for values in archive.values()]\n",
    "min_high_over_time = np.minimum.accumulate(high_fid_evals)\n",
    "plt.plot(high_fid_evals, label='high-fidelity evaluations')\n",
    "plt.plot(min_high_over_time, label='minimum over time')\n",
    "plt.legend(loc=0)\n",
    "plt.show()"
   ]
  },
  {
   "cell_type": "code",
   "execution_count": null,
   "metadata": {},
   "outputs": [],
   "source": []
  }
 ],
 "metadata": {
  "kernelspec": {
   "display_name": "Python 3",
   "language": "python",
   "name": "python3"
  },
  "language_info": {
   "codemirror_mode": {
    "name": "ipython",
    "version": 3
   },
   "file_extension": ".py",
   "mimetype": "text/x-python",
   "name": "python",
   "nbconvert_exporter": "python",
   "pygments_lexer": "ipython3",
   "version": "3.6.3"
  }
 },
 "nbformat": 4,
 "nbformat_minor": 2
}
