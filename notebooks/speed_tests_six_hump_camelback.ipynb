{
 "cells": [
  {
   "cell_type": "code",
   "execution_count": 1,
   "id": "2d13ab7c-9d51-4937-9709-c25dcd4b3bf1",
   "metadata": {},
   "outputs": [],
   "source": [
    "import numpy as np"
   ]
  },
  {
   "cell_type": "code",
   "execution_count": 2,
   "id": "5d3f7fdc-d77d-46b8-a622-121dd4639d7e",
   "metadata": {},
   "outputs": [],
   "source": [
    "def six1(xx):\n",
    "    x1, x2 = xx.T\n",
    "\n",
    "    term1 = 4*x1**2 - 2.1*x1**4 + x1**6/3\n",
    "    term2 = x1*x2\n",
    "    term3 = -4*x2**2 + 4*x2**4\n",
    "\n",
    "    return term1 + term2 + term3\n",
    "\n",
    "def six2(xx):\n",
    "    x1, x2 = xx.T\n",
    "    \n",
    "    term1 = (4 - 2.1*x1**2 + x1**4/3) * x1**2\n",
    "    term2 = x1*x2\n",
    "    term3 = (-4 + 4*x2**2) * x2**2\n",
    "\n",
    "    return term1 + term2 + term3\n",
    "\n",
    "def six3(xx):\n",
    "    x1, x2 = xx.T\n",
    "    x1sq, x2sq = x1**2, x2**2\n",
    "    \n",
    "    term1 = (4 - 2.1*x1sq + x1sq**2/3) * x1sq\n",
    "    term2 = x1*x2\n",
    "    term3 = (-4 + 4*x2sq) * x2sq\n",
    "\n",
    "    return term1 + term2 + term3\n",
    "\n",
    "def six4(xx):\n",
    "    x1, x2 = xx.T\n",
    "    x1sq, x2sq = x1*x1, x2*x2\n",
    "    \n",
    "    term1 = (4 - 2.1*x1sq + (x1sq*x1sq)/3) * x1sq\n",
    "    term2 = x1*x2\n",
    "    term3 = (-4 + 4*x2sq) * x2sq\n",
    "\n",
    "    return term1 + term2 + term3"
   ]
  },
  {
   "cell_type": "code",
   "execution_count": 3,
   "id": "8955de4d-4612-48e5-a581-c8f8e0144a15",
   "metadata": {},
   "outputs": [
    {
     "name": "stdout",
     "output_type": "stream",
     "text": [
      "23.2 µs ± 952 ns per loop (mean ± std. dev. of 7 runs, 10000 loops each)\n"
     ]
    }
   ],
   "source": [
    "%%timeit\n",
    "six1(np.random.rand(100,2))"
   ]
  },
  {
   "cell_type": "code",
   "execution_count": 4,
   "id": "11ed5f5e-26ac-4d7f-9c2c-16b8a87077a3",
   "metadata": {},
   "outputs": [
    {
     "name": "stdout",
     "output_type": "stream",
     "text": [
      "19 µs ± 196 ns per loop (mean ± std. dev. of 7 runs, 100000 loops each)\n"
     ]
    }
   ],
   "source": [
    "%%timeit\n",
    "six2(np.random.rand(100,2))"
   ]
  },
  {
   "cell_type": "code",
   "execution_count": 5,
   "id": "13ad85f2-17e2-4885-b4e5-acf98a66c01c",
   "metadata": {},
   "outputs": [
    {
     "name": "stdout",
     "output_type": "stream",
     "text": [
      "15.3 µs ± 225 ns per loop (mean ± std. dev. of 7 runs, 100000 loops each)\n"
     ]
    }
   ],
   "source": [
    "%%timeit\n",
    "six3(np.random.rand(100,2))"
   ]
  },
  {
   "cell_type": "code",
   "execution_count": 6,
   "id": "95cc88a8-5863-4c4d-973a-f04936a5dc11",
   "metadata": {},
   "outputs": [
    {
     "name": "stdout",
     "output_type": "stream",
     "text": [
      "14.8 µs ± 164 ns per loop (mean ± std. dev. of 7 runs, 100000 loops each)\n"
     ]
    }
   ],
   "source": [
    "%%timeit\n",
    "six4(np.random.rand(100,2))"
   ]
  },
  {
   "cell_type": "code",
   "execution_count": 7,
   "id": "89096171-a1ef-49f2-801e-22c2e870f957",
   "metadata": {},
   "outputs": [
    {
     "data": {
      "text/plain": [
       "True"
      ]
     },
     "execution_count": 7,
     "metadata": {},
     "output_type": "execute_result"
    }
   ],
   "source": [
    "xx = np.random.rand(100,2)\n",
    "np.allclose(six1(xx), six2(xx)) and np.allclose(six1(xx), six3(xx)) and np.allclose(six1(xx), six4(xx))"
   ]
  },
  {
   "cell_type": "code",
   "execution_count": null,
   "id": "347d0cd9-7ff9-4e2d-b36c-e05f0923e144",
   "metadata": {},
   "outputs": [],
   "source": []
  }
 ],
 "metadata": {
  "kernelspec": {
   "display_name": "Python 3 (ipykernel)",
   "language": "python",
   "name": "python3"
  },
  "language_info": {
   "codemirror_mode": {
    "name": "ipython",
    "version": 3
   },
   "file_extension": ".py",
   "mimetype": "text/x-python",
   "name": "python",
   "nbconvert_exporter": "python",
   "pygments_lexer": "ipython3",
   "version": "3.9.6"
  }
 },
 "nbformat": 4,
 "nbformat_minor": 5
}
