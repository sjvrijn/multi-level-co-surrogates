{
 "cells": [
  {
   "cell_type": "markdown",
   "metadata": {},
   "source": [
    "# Investigating the Re-use of subsamples from previous iterations"
   ]
  },
  {
   "cell_type": "markdown",
   "metadata": {},
   "source": [
    "Context: a multi-fidelity optimization procedure where an Error Grid is created after every evaluation to determine the next best fidelity for evaluation. Each Error Grid is made up of 'pixels' $(n_h, n_l)$ where $n_h < N_H$ and $n_l < N_L$, where $N_H, N_L$ are the total number of high- and low-fidelity evaluations available and $n_h, n_l$ are the size of the subsample from that total.\n",
    "\n",
    "The idea is as follows: In each iteration, a single new evaluation is added, i.e., $N_H += 1$ or $N_L += 1$. For each previously calculated Error Grid 'pixel' $(n_h, n_l)$, all subsamples used in that previous iteration are still valid subsamples: they simply happen to exclude the newly added point. Reusing these is therefore no problem in principle, but we want to avoid a bias from ignoring the new point (otherwise, what's the point in evaluating that in the first place if we don't bother learning from it). So the question is: if we were to uniformly at random draw a new set of subsamples based on the new $N_H$ or $N_L$, what percentage do we expect to **not** include the newest point? Assuming the previous set of subsamples is also drawn uniformly at random, a random subselection from those should suffice to be reused as that percentage for the new iteration. The remainder can then be drawn anew, with the explicit requirement that they should contain the new sample.\n",
    "\n",
    "This procedure allows us to reuse some of the work from the previous iteration for all previously calculated pixels $(n_h, n_l)$, without introducing a bias towards including/excluding the newest sample."
   ]
  },
  {
   "cell_type": "markdown",
   "metadata": {},
   "source": [
    "(It must however be noted that this procedure is more 'exact' rather than an actual random distribution. While I don't expect this to cause a problem, this will have to be kept in mind in case it becomes relevant elsewhere in the process)"
   ]
  },
  {
   "cell_type": "markdown",
   "metadata": {},
   "source": [
    "## Deriving formulas: how to calculate how much re-use is possible?"
   ]
  },
  {
   "cell_type": "markdown",
   "metadata": {},
   "source": [
    "### Definitions/assumptions:"
   ]
  },
  {
   "cell_type": "markdown",
   "metadata": {},
   "source": [
    "All high-fidelity samples are also evaluated in low-fidelity.\n",
    "\n",
    "A subsample of size $(n_h, n_l)$ is created in two steps:\n",
    "1. First a subsample of $n_h$ high-fidelity samples is drawn from the total number $N_H$. This means that the number of 'high-fidelity'-only subsamples is $N_H \\choose n_h$\n",
    "2. All high-fidelity samples are automatically included in the low-fidelity sample, meaning that only $n_l - n_h$ low-fidelity samples are left to be sampled from the $N_L - n_H$ remaining samples. This means the number of possible 'low-fidelity'-only subsamples after having drawn a 'high-fidelity'-only subsample is ${N_L - n_h} \\choose {n_l - n_h}$\n",
    "\n",
    "Since the drawing of the high- and low-fidelity subsamples are independent of eachother, the total number of subsamples for an Error Grid 'pixel' $n_h, n_l$ is ${N_H \\choose n_h} \\cdot {{N_L - n_h} \\choose {n_l - n_h}}$\n",
    "\n"
   ]
  },
  {
   "cell_type": "markdown",
   "metadata": {},
   "source": [
    "### Derivation of formulas"
   ]
  },
  {
   "cell_type": "code",
   "execution_count": 1,
   "metadata": {},
   "outputs": [],
   "source": [
    "import sympy\n",
    "sympy.init_printing()\n",
    "\n",
    "NH, NL, nh, nl = sympy.symbols('N_H N_L n_h n_l')"
   ]
  },
  {
   "cell_type": "markdown",
   "metadata": {},
   "source": [
    "#### For $N_L += 1$"
   ]
  },
  {
   "cell_type": "code",
   "execution_count": 2,
   "metadata": {},
   "outputs": [
    {
     "data": {
      "image/png": "[encoded data removed]",
      "text/latex": [
       "$\\displaystyle \\frac{{\\binom{N_{L} - n_{h}}{- n_{h} + n_{l}}}}{{\\binom{N_{L} - n_{h} + 1}{- n_{h} + n_{l}}}}$"
      ],
      "text/plain": [
       "  ⎛N_L - nₕ⎞  \n",
       "  ⎜        ⎟  \n",
       "  ⎝-nₕ + nₗ⎠  \n",
       "──────────────\n",
       "⎛N_L - nₕ + 1⎞\n",
       "⎜            ⎟\n",
       "⎝  -nₕ + nₗ  ⎠"
      ]
     },
     "execution_count": 2,
     "metadata": {},
     "output_type": "execute_result"
    }
   ],
   "source": [
    "num_subsamples = sympy.binomial(NH, nh) * sympy.binomial(NL-nh, nl-nh)\n",
    "more_subsamples = sympy.binomial(NH, nh) * sympy.binomial((NL+1)-nh, nl-nh)\n",
    "\n",
    "ratio = num_subsamples / more_subsamples\n",
    "ratio  # binom(NH, nh) cancels out"
   ]
  },
  {
   "cell_type": "code",
   "execution_count": 3,
   "metadata": {},
   "outputs": [
    {
     "data": {
      "image/png": "[encoded data removed]",
      "text/latex": [
       "$\\displaystyle \\frac{\\left(N_{L} - n_{h}\\right)! \\left(N_{L} - n_{l} + 1\\right)!}{\\left(N_{L} - n_{l}\\right)! \\left(N_{L} - n_{h} + 1\\right)!}$"
      ],
      "text/plain": [
       "(N_L - nₕ)!⋅(N_L - nₗ + 1)!\n",
       "───────────────────────────\n",
       "(N_L - nₗ)!⋅(N_L - nₕ + 1)!"
      ]
     },
     "execution_count": 3,
     "metadata": {},
     "output_type": "execute_result"
    }
   ],
   "source": [
    "ratio.rewrite(sympy.factorial)"
   ]
  },
  {
   "cell_type": "code",
   "execution_count": 4,
   "metadata": {},
   "outputs": [
    {
     "data": {
      "image/png": "[encoded data removed]",
      "text/latex": [
       "$\\displaystyle \\frac{N_{L} - n_{l} + 1}{N_{L} - n_{h} + 1}$"
      ],
      "text/plain": [
       "N_L - nₗ + 1\n",
       "────────────\n",
       "N_L - nₕ + 1"
      ]
     },
     "execution_count": 4,
     "metadata": {},
     "output_type": "execute_result"
    }
   ],
   "source": [
    "sympy.simplify(ratio.rewrite(sympy.factorial))  # simplify: (x+1)! / x! = x+1  and x! / (x+1)! = 1/(x+1)"
   ]
  },
  {
   "cell_type": "markdown",
   "metadata": {},
   "source": [
    "#### For $N_H += 1$"
   ]
  },
  {
   "cell_type": "code",
   "execution_count": 5,
   "metadata": {},
   "outputs": [
    {
     "data": {
      "image/png": "[encoded data removed]",
      "text/latex": [
       "$\\displaystyle \\frac{{\\binom{N_{H}}{n_{h}}}}{{\\binom{N_{H} + 1}{n_{h}}}}$"
      ],
      "text/plain": [
       "  ⎛N_H⎞  \n",
       "  ⎜   ⎟  \n",
       "  ⎝ nₕ⎠  \n",
       "─────────\n",
       "⎛N_H + 1⎞\n",
       "⎜       ⎟\n",
       "⎝   nₕ  ⎠"
      ]
     },
     "execution_count": 5,
     "metadata": {},
     "output_type": "execute_result"
    }
   ],
   "source": [
    "num_subsamples = sympy.binomial(NH, nh) * sympy.binomial(NL-nh, nl-nh)\n",
    "more_subsamples = sympy.binomial((NH+1), nh) * sympy.binomial(NL-nh, nl-nh)\n",
    "\n",
    "ratio = num_subsamples / more_subsamples\n",
    "ratio  # binom(NL-nh, nl-nh) cancels out"
   ]
  },
  {
   "cell_type": "code",
   "execution_count": 6,
   "metadata": {},
   "outputs": [
    {
     "data": {
      "image/png": "[encoded data removed]",
      "text/latex": [
       "$\\displaystyle \\frac{N_{H}! \\left(N_{H} - n_{h} + 1\\right)!}{\\left(N_{H} + 1\\right)! \\left(N_{H} - n_{h}\\right)!}$"
      ],
      "text/plain": [
       " N_H!⋅(N_H - nₕ + 1)! \n",
       "──────────────────────\n",
       "(N_H + 1)!⋅(N_H - nₕ)!"
      ]
     },
     "execution_count": 6,
     "metadata": {},
     "output_type": "execute_result"
    }
   ],
   "source": [
    "ratio.rewrite(sympy.factorial)"
   ]
  },
  {
   "cell_type": "code",
   "execution_count": 7,
   "metadata": {},
   "outputs": [
    {
     "data": {
      "image/png": "[encoded data removed]",
      "text/latex": [
       "$\\displaystyle \\frac{N_{H} - n_{h} + 1}{N_{H} + 1}$"
      ],
      "text/plain": [
       "N_H - nₕ + 1\n",
       "────────────\n",
       "  N_H + 1   "
      ]
     },
     "execution_count": 7,
     "metadata": {},
     "output_type": "execute_result"
    }
   ],
   "source": [
    "sympy.simplify(ratio.rewrite(sympy.factorial))  # simplify: (x+1)! / x! = x+1  and x! / (x+1)! = 1/(x+1)"
   ]
  },
  {
   "cell_type": "markdown",
   "metadata": {},
   "source": [
    "#### Summary:"
   ]
  },
  {
   "cell_type": "markdown",
   "metadata": {},
   "source": [
    "As can be seen in the derivations above, when adding a new low-fidelity sample, the fraction that can be reused is fairly simply defined by $\\dfrac{N_L - n_l + 1}{N_L - n_h + 1}$, depending only on $N_L, n_h$ and $n_l$.\n",
    "\n",
    "For the case of adding a high-fidelity sample, this is defined only as a relation between $N_H$ and $n_h$ by $\\dfrac{N_H - n_h + 1}{N_H + 1}$ "
   ]
  },
  {
   "cell_type": "markdown",
   "metadata": {},
   "source": [
    "## Visual inspection of actual percentage reuse"
   ]
  },
  {
   "cell_type": "code",
   "execution_count": 1,
   "metadata": {},
   "outputs": [],
   "source": [
    "import matplotlib.pyplot as plt\n",
    "import numpy as np"
   ]
  },
  {
   "cell_type": "code",
   "execution_count": 2,
   "metadata": {},
   "outputs": [],
   "source": [
    "def reuse_after_low_add(nh, nl, NL):\n",
    "    \"\"\"calculate the fraction of subsamples that can be reused\n",
    "    if the number of low-fidelity samples is increased by 1\"\"\"\n",
    "    return (NL-nl+1)/(NL-nh+1)\n",
    "\n",
    "def reuse_after_high_add(nh, NH):\n",
    "    \"\"\"calculate the fraction of subsamples that can be reused\n",
    "    if the number of high-fidelity samples is increased by 1\"\"\"\n",
    "    return (NH - nh + 1) / (NH + 1)"
   ]
  },
  {
   "cell_type": "code",
   "execution_count": 3,
   "metadata": {},
   "outputs": [
    {
     "data": {
      "image/png": "[encoded data removed]",
      "text/plain": [
       "<Figure size 432x288 with 2 Axes>"
      ]
     },
     "metadata": {
      "needs_background": "light"
     },
     "output_type": "display_data"
    }
   ],
   "source": [
    "nh, NH = np.meshgrid(np.arange(2, 100), np.arange(3, 101))\n",
    "\n",
    "ratio = reuse_after_high_add(nh, NH)\n",
    "ratio[nh >= NH] = np.nan\n",
    "\n",
    "fig = plt.figure()\n",
    "ax = fig.gca()\n",
    "\n",
    "img = ax.imshow(ratio, origin='lower')\n",
    "ax.set_title('Ratio of reusable subsamples for $N_H$ += 1')\n",
    "ax.set_xlabel('$n_h$')\n",
    "ax.set_ylabel('$N_H$')\n",
    "fig.colorbar(img)\n",
    "fig.show()"
   ]
  },
  {
   "cell_type": "code",
   "execution_count": 13,
   "metadata": {},
   "outputs": [
    {
     "data": {
      "application/vnd.jupyter.widget-view+json": {
       "model_id": "97ef4871e2224c29ba7224d0385668b9",
       "version_major": 2,
       "version_minor": 0
      },
      "text/plain": [
       "interactive(children=(IntSlider(value=10, description='nh', max=200, min=1), Output()), _dom_classes=('widget-…"
      ]
     },
     "metadata": {},
     "output_type": "display_data"
    },
    {
     "data": {
      "text/plain": [
       "<function __main__.update(nh)>"
      ]
     },
     "execution_count": 13,
     "metadata": {},
     "output_type": "execute_result"
    }
   ],
   "source": [
    "from ipywidgets import interact, IntSlider\n",
    "%matplotlib inline\n",
    "\n",
    "\n",
    "def update(nh):\n",
    "    nl, NL = np.meshgrid(np.arange(2, 250, dtype=float), np.arange(3, 251, dtype=float))\n",
    "    nl[(nl <= nh) | (nl >= NL)] = np.nan\n",
    "    NL[(nl <= nh) | (nl >= NL)] = np.nan\n",
    "    \n",
    "    ratio = reuse_after_low_add(nh, nl, NL)\n",
    "\n",
    "    fig = plt.figure()\n",
    "    ax = fig.gca()\n",
    "\n",
    "    img = ax.imshow(ratio, origin='lower')\n",
    "    ax.set_title(f'Ratio of reusable subsamples for $N_L$ += 1 ($n_h$ = {nh})')\n",
    "    ax.set_xlabel('$n_l$')\n",
    "    ax.set_ylabel('$N_L$')\n",
    "    fig.colorbar(img)\n",
    "    fig.show()\n",
    "\n",
    "interact(update, nh=IntSlider(value=10, min=1, max=200, step=1))"
   ]
  },
  {
   "cell_type": "code",
   "execution_count": null,
   "metadata": {},
   "outputs": [],
   "source": []
  }
 ],
 "metadata": {
  "kernelspec": {
   "display_name": "Python 3",
   "language": "python",
   "name": "python3"
  },
  "language_info": {
   "codemirror_mode": {
    "name": "ipython",
    "version": 3
   },
   "file_extension": ".py",
   "mimetype": "text/x-python",
   "name": "python",
   "nbconvert_exporter": "python",
   "pygments_lexer": "ipython3",
   "version": "3.8.5"
  }
 },
 "nbformat": 4,
 "nbformat_minor": 4
}
