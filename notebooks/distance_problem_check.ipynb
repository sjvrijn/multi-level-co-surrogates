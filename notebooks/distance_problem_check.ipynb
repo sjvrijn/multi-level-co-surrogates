{
 "cells": [
  {
   "cell_type": "code",
   "execution_count": null,
   "metadata": {},
   "outputs": [],
   "source": [
    "import matplotlib.pyplot as plt\n",
    "import numpy as np\n",
    "import multifidelityfunctions as mff\n",
    "from matplotlib import colors\n",
    "from scipy.spatial import distance\n",
    "from high_v_low_experiment import multi_fidelity_doe\n",
    "from itertools import product"
   ]
  },
  {
   "cell_type": "code",
   "execution_count": null,
   "metadata": {},
   "outputs": [],
   "source": [
    "def plot_distances(ndim):\n",
    "    max_high = 51\n",
    "    max_low = 126\n",
    "    nreps = 15\n",
    "    \n",
    "    minmax_dists = np.full((max_high, max_low, nreps, 4), np.nan)\n",
    "    \n",
    "    for h, l in [(h, l) for h, l in product(range(2, max_high), range(3, max_low)) if l > h]:\n",
    "        for i in range(nreps):\n",
    "            high_x, low_x = multi_fidelity_doe(ndim, h, l)\n",
    "            h_dists = distance.pdist(high_x)\n",
    "            l_dists = distance.pdist(low_x)\n",
    "\n",
    "            minmax_dists[h, l, i] = [np.max(np.min(h_dists, axis=0)),\n",
    "                                     np.min(np.max(h_dists, axis=0)), \n",
    "                                     np.max(np.min(l_dists, axis=0)), \n",
    "                                     np.min(np.max(h_dists, axis=0))]\n",
    "    \n",
    "    means = np.mean(minmax_dists, axis=2)\n",
    "    norm = colors.Normalize(vmin=np.nanmin(means), vmax=np.nanmax(means))\n",
    "    \n",
    "    fig, axes = plt.subplots(2,2,figsize=(16,9))\n",
    "    axes = axes.flatten()\n",
    "    img0 = axes[0].imshow(means[:,:,0], norm=norm, origin='lower')\n",
    "    axes[0].set_title('minimum distance: high_x')\n",
    "    img1 = axes[1].imshow(means[:,:,1], norm=norm, origin='lower')\n",
    "    axes[1].set_title('maximum distance: high_x')\n",
    "    img2 = axes[2].imshow(means[:,:,2], norm=norm, origin='lower')\n",
    "    axes[2].set_title('minimum distance: low_x')\n",
    "    img3 = axes[3].imshow(means[:,:,3], norm=norm, origin='lower')\n",
    "    axes[3].set_title('maximum distance: low_x')\n",
    "    plt.colorbar(img0, ax=axes[0], shrink=.6)\n",
    "    plt.colorbar(img1, ax=axes[1], shrink=.6)\n",
    "    plt.colorbar(img2, ax=axes[2], shrink=.6)\n",
    "    plt.colorbar(img3, ax=axes[3], shrink=.6)\n",
    "    plt.suptitle(f'{ndim}D')\n",
    "    plt.tight_layout()\n",
    "    plt.show()"
   ]
  },
  {
   "cell_type": "code",
   "execution_count": null,
   "metadata": {},
   "outputs": [],
   "source": [
    "for d in range(1, 9):\n",
    "    plot_distances(d)"
   ]
  },
  {
   "cell_type": "code",
   "execution_count": null,
   "metadata": {},
   "outputs": [],
   "source": []
  }
 ],
 "metadata": {
  "kernelspec": {
   "display_name": "PyCharm (mlcs)",
   "language": "python",
   "name": "pycharm-1cf730c9"
  },
  "language_info": {
   "codemirror_mode": {
    "name": "ipython",
    "version": 3
   },
   "file_extension": ".py",
   "mimetype": "text/x-python",
   "name": "python",
   "nbconvert_exporter": "python",
   "pygments_lexer": "ipython3",
   "version": "3.6.3"
  }
 },
 "nbformat": 4,
 "nbformat_minor": 2
}
