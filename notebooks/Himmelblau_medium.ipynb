{
 "cells": [
  {
   "cell_type": "markdown",
   "metadata": {},
   "source": [
    "# Himmelblau: Medium Fidelity\n",
    "\n",
    "A high and low fidelity version of the function has already been proposed. Here I display my suggestions for a medium-fidelity version. It's main goal is to provide a slightly better match for the global fitness landscape compared to the low-fidelity version, and preferably to link the four global optima into two wider optima per pair (as suggested during previous discussions)."
   ]
  },
  {
   "cell_type": "markdown",
   "metadata": {},
   "source": [
    "# Existing definitions"
   ]
  },
  {
   "cell_type": "markdown",
   "metadata": {},
   "source": [
    "## High Fidelity"
   ]
  },
  {
   "cell_type": "code",
   "execution_count": null,
   "metadata": {},
   "outputs": [],
   "source": [
    "def himmelblau_hf(xx):\n",
    "    \"\"\"HIMMELBLAU FUNCTION\n",
    "    INPUT: xx = [x1, x2]\n",
    "    \"\"\"\n",
    "    x1, x2 = xx\n",
    "    term1 = (x1**2 + x2 - 11)**2\n",
    "    term2 = (x2**2 + x1 - 7)**2\n",
    "    return term1 + term2"
   ]
  },
  {
   "cell_type": "markdown",
   "metadata": {},
   "source": [
    "![title](plots/himmelblau_high.png)"
   ]
  },
  {
   "cell_type": "markdown",
   "metadata": {},
   "source": [
    "## Low Fidelity"
   ]
  },
  {
   "cell_type": "code",
   "execution_count": null,
   "metadata": {},
   "outputs": [],
   "source": [
    "def himmelblau_lf(xx):\n",
    "    \"\"\"HIMMELBLAU FUNCTION, LOWER FIDELITY CODE\n",
    "    Calls: himmelblau_hf\n",
    "    This function, from Dong et al. (2015), is used as the \"low-accuracy code\" version of the function himmelblau_hf.\n",
    "    INPUT: xx = [x1, x2]\n",
    "    \"\"\"\n",
    "    x1, x2 = xx\n",
    "    term1 = himmelblau_hf([0.5*x1, 0.8*x2])\n",
    "    term2 = x2**3 - (x1 + 1)**2\n",
    "    return term1 + term2"
   ]
  },
  {
   "cell_type": "markdown",
   "metadata": {},
   "source": [
    "![title](plots/himmelblau_low.png)"
   ]
  },
  {
   "cell_type": "markdown",
   "metadata": {},
   "source": [
    "# Medium Fidelity\n",
    "The medium fidelity versions have been created as variations to the high and low fidelity definitions. Overall, I have chosen to scale the $x_1$ and $x_2$ coordinate in between the 1.0 for high fidelity and (0.5, 0.8) for low fidelity: specifically to (0.75, 0.9).\n"
   ]
  },
  {
   "cell_type": "code",
   "execution_count": null,
   "metadata": {},
   "outputs": [],
   "source": [
    "def himmelblau_mf(xx):\n",
    "    \"\"\"HIMMELBLAU FUNCTION, MEDIUM FIDELITY CODE\n",
    "    INPUT: xx = [x1, x2]\n",
    "    \"\"\"\n",
    "    x1, x2 = xx\n",
    "\n",
    "    x1 *= .75\n",
    "    x2 *= .9\n",
    "\n",
    "    # term1 = (x1**2 + x2 - 11)**2              # A--E\n",
    "\n",
    "    # term2 = 7*x2                              # A\n",
    "    # term2 = 0                                 # B\n",
    "    # term2 = (x2**2 - 7)**2                    # C\n",
    "    # term2 = (x2**2 - 7)**2 + 5*x2**2 - 28     # D\n",
    "    # term2 = (x2**2 - 7)**2 + 10*x2**2 - 45    # E\n",
    "\n",
    "    term1 = himmelblau_hf([x1, x2])             # F\n",
    "    term2 = x2**3 - (x1 + 1)**2                 # F\n",
    "\n",
    "    return term1 + term2"
   ]
  },
  {
   "cell_type": "markdown",
   "metadata": {},
   "source": [
    "<table><tr>\n",
    "    <td><img src=\"plots/himmelblau_med_A.png\" width=\"300\" height=\"200\"></td>\n",
    "    <td><img src=\"plots/himmelblau_med_B.png\" width=\"300\" height=\"200\"></td>\n",
    "    <td><img src=\"plots/himmelblau_med_C.png\" width=\"300\" height=\"200\"></td>\n",
    "</tr><tr>\n",
    "    <td><img src=\"plots/himmelblau_med_D.png\" width=\"300\" height=\"200\"></td>\n",
    "    <td><img src=\"plots/himmelblau_med_E.png\" width=\"300\" height=\"200\"></td>\n",
    "    <td><img src=\"plots/himmelblau_med_F.png\" width=\"300\" height=\"200\"></td>\n",
    "</tr></table>"
   ]
  },
  {
   "cell_type": "markdown",
   "metadata": {},
   "source": [
    "## Displayed in order between high and low fidelity:"
   ]
  },
  {
   "cell_type": "markdown",
   "metadata": {},
   "source": [
    "<center><h3>A"
   ]
  },
  {
   "cell_type": "markdown",
   "metadata": {},
   "source": [
    "<table><tr>\n",
    "    <td><img src=\"plots/himmelblau_high.png\" width=\"300\" height=\"200\"></td>\n",
    "    <td><img src=\"plots/himmelblau_med_A.png\" width=\"300\" height=\"200\"></td>\n",
    "    <td><img src=\"plots/himmelblau_low.png\" width=\"300\" height=\"200\"></td>\n",
    "</tr></table>"
   ]
  },
  {
   "cell_type": "markdown",
   "metadata": {},
   "source": [
    "<center><h3>B"
   ]
  },
  {
   "cell_type": "markdown",
   "metadata": {},
   "source": [
    "<table><tr>\n",
    "    <td><img src=\"plots/himmelblau_high.png\" width=\"300\" height=\"200\"></td>\n",
    "    <td><img src=\"plots/himmelblau_med_B.png\" width=\"300\" height=\"200\"></td>\n",
    "    <td><img src=\"plots/himmelblau_low.png\" width=\"300\" height=\"200\"></td>\n",
    "</tr></table>"
   ]
  },
  {
   "cell_type": "markdown",
   "metadata": {},
   "source": [
    "<center><h3>C"
   ]
  },
  {
   "cell_type": "markdown",
   "metadata": {},
   "source": [
    "<table><tr>\n",
    "    <td><img src=\"plots/himmelblau_high.png\" width=\"300\" height=\"200\"></td>\n",
    "    <td><img src=\"plots/himmelblau_med_C.png\" width=\"300\" height=\"200\"></td>\n",
    "    <td><img src=\"plots/himmelblau_low.png\" width=\"300\" height=\"200\"></td>\n",
    "</tr></table>"
   ]
  },
  {
   "cell_type": "markdown",
   "metadata": {},
   "source": [
    "<center><h3>D"
   ]
  },
  {
   "cell_type": "markdown",
   "metadata": {},
   "source": [
    "<table><tr>\n",
    "    <td><img src=\"plots/himmelblau_high.png\" width=\"300\" height=\"200\"></td>\n",
    "    <td><img src=\"plots/himmelblau_med_D.png\" width=\"300\" height=\"200\"></td>\n",
    "    <td><img src=\"plots/himmelblau_low.png\" width=\"300\" height=\"200\"></td>\n",
    "</tr></table>"
   ]
  },
  {
   "cell_type": "markdown",
   "metadata": {},
   "source": [
    "<center><h3>E"
   ]
  },
  {
   "cell_type": "markdown",
   "metadata": {},
   "source": [
    "<table><tr>\n",
    "    <td><img src=\"plots/himmelblau_high.png\" width=\"300\" height=\"200\"></td>\n",
    "    <td><img src=\"plots/himmelblau_med_E.png\" width=\"300\" height=\"200\"></td>\n",
    "    <td><img src=\"plots/himmelblau_low.png\" width=\"300\" height=\"200\"></td>\n",
    "</tr></table>"
   ]
  },
  {
   "cell_type": "markdown",
   "metadata": {},
   "source": [
    "<center><h3>F"
   ]
  },
  {
   "cell_type": "markdown",
   "metadata": {},
   "source": [
    "<table><tr>\n",
    "    <td><img src=\"plots/himmelblau_high.png\" width=\"300\" height=\"200\"></td>\n",
    "    <td><img src=\"plots/himmelblau_med_F.png\" width=\"300\" height=\"200\"></td>\n",
    "    <td><img src=\"plots/himmelblau_low.png\" width=\"300\" height=\"200\"></td>\n",
    "</tr></table>"
   ]
  },
  {
   "cell_type": "markdown",
   "metadata": {},
   "source": [
    "# Which is your favorite? Please let me know!\n",
    "\n",
    "A, B and E succeed the best in combining the two pairs of global optima along the y-axis, but A and B are much less similar to the global structure of the high and low fidelity versions.\n",
    "\n",
    "C, D and E are more or less flattened versions of the same landscape, with C having the largest bump in the center, while E is actually (almost) flat at the sides. F is much more equal to the low-fidelity function, although more flattened at at least the $x=4$ side of the landscape.\n",
    "\n",
    "I think E is the best trade-off in terms of somewhat following the global shape, while still introducing the combined optima we discussed. Although maybe slightly more different than some of the other options, I feel like that would not be a bad thing, as it will challenge/test the methods we try than another options. If this is too ambitious, then I'm in favor of dropping the desire for the combined optima, choosing for options C, F or D in that order."
   ]
  },
  {
   "cell_type": "code",
   "execution_count": null,
   "metadata": {},
   "outputs": [],
   "source": []
  }
 ],
 "metadata": {
  "kernelspec": {
   "display_name": "Python 3",
   "language": "python",
   "name": "python3"
  },
  "language_info": {
   "codemirror_mode": {
    "name": "ipython",
    "version": 3
   },
   "file_extension": ".py",
   "mimetype": "text/x-python",
   "name": "python",
   "nbconvert_exporter": "python",
   "pygments_lexer": "ipython3",
   "version": "3.6.3"
  }
 },
 "nbformat": 4,
 "nbformat_minor": 2
}
