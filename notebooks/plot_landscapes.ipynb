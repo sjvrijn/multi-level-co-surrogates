{
 "cells": [
  {
   "cell_type": "code",
   "execution_count": null,
   "id": "61482191-57de-4c86-9482-c807f9e60621",
   "metadata": {},
   "outputs": [],
   "source": [
    "%matplotlib inline\n",
    "\n",
    "import sys\n",
    "from pyprojroot import here\n",
    "import mf2\n",
    "import numpy as np\n",
    "\n",
    "sys.path.append(str(here()))\n",
    "import multiLevelCoSurrogates as mlcs\n",
    "\n",
    "\n",
    "np.random.seed(20160501)  # Setting seed for reproducibility\n",
    "np.set_printoptions(linewidth=200, edgeitems=10, precision=4, suppress=True)\n",
    "plot_dir = here('plots/mf2_functions', warn=False)\n",
    "plot_dir.mkdir(parents=True, exist_ok=True)"
   ]
  },
  {
   "cell_type": "code",
   "execution_count": null,
   "id": "03f6096f-a8d4-4771-873c-853f8bf4c8e4",
   "metadata": {},
   "outputs": [],
   "source": [
    "two_dim_funcs = [\n",
    "    mf2.bohachevsky,\n",
    "    mf2.booth,\n",
    "    mf2.branin,\n",
    "    mf2.currin,\n",
    "    mf2.himmelblau,\n",
    "    mf2.six_hump_camelback,\n",
    "    mf2.Forrester(ndim=2),\n",
    "]"
   ]
  },
  {
   "cell_type": "code",
   "execution_count": null,
   "id": "160add0d-eda4-4a34-a558-b90804ad6a0b",
   "metadata": {},
   "outputs": [],
   "source": [
    "for function in two_dim_funcs:\n",
    "    for fidelity in ['high', 'low']:\n",
    "\n",
    "        step = (function.u_bound - function.l_bound) / 50\n",
    "        surface = mlcs.createsurface(function[fidelity], u_bound=function.u_bound, l_bound=function.l_bound, step=step)\n",
    "        for as_3d in [True, False]:\n",
    "\n",
    "            mlcs.plotsurfaces(\n",
    "                surfaces=[surface],\n",
    "                titles=[f'2D {function.name}: {fidelity}-fidelity'],\n",
    "                save_as=plot_dir / f'{\"landscape\" if as_3d else \"topdown\"}-{function.name}-{fidelity}-fid.png',\n",
    "                as_3d=as_3d,\n",
    "                show=False,\n",
    "            )"
   ]
  },
  {
   "cell_type": "code",
   "execution_count": null,
   "id": "07f4c551-6278-4b34-9f9b-1c6642788302",
   "metadata": {},
   "outputs": [],
   "source": []
  }
 ],
 "metadata": {
  "kernelspec": {
   "display_name": "Python 3 (ipykernel)",
   "language": "python",
   "name": "python3"
  },
  "language_info": {
   "codemirror_mode": {
    "name": "ipython",
    "version": 3
   },
   "file_extension": ".py",
   "mimetype": "text/x-python",
   "name": "python",
   "nbconvert_exporter": "python",
   "pygments_lexer": "ipython3",
   "version": "3.9.6"
  }
 },
 "nbformat": 4,
 "nbformat_minor": 5
}
