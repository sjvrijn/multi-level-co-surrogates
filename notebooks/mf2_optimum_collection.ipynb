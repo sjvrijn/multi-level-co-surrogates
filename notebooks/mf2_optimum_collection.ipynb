{
 "cells": [
  {
   "cell_type": "markdown",
   "id": "07c8dddc-bb5a-4a30-a481-989e5c8344bb",
   "metadata": {},
   "source": [
    "# Function Optimum Collection for Mf2 Functions"
   ]
  },
  {
   "cell_type": "markdown",
   "id": "188308fe-164e-4767-8907-252f7e36d8fc",
   "metadata": {},
   "source": [
    "The best way to (objectively) evaluate optimization performance relies on knowing the location of the global optimum $x^*$\n",
    "This notebook is intended as a collection space for the (literature) research on finding the global optima for the various functions in the `mf2` collection.\n",
    "\n",
    "For each function, the following information will be listed:\n",
    " - mathematical definition of the function\n",
    " - typical evaluation bounds within which we want to know the optimum\n",
    " - location $x^*$ of the global optimum (or optima if multiple exist) within\n",
    " - optimum function value $f(x^*)$\n",
    " - source of the optimum location, i.e.\n",
    "   - mathematical derivation of the optimum -OR-\n",
    "   - reference listing a known optimum if not (easily) derivable -OR-\n",
    "   - procedure describing the numerical search method used to establish $x^*$"
   ]
  },
  {
   "cell_type": "markdown",
   "id": "340063b9-5d52-4742-9dfa-b7039d1e3d74",
   "metadata": {
    "tags": []
   },
   "source": [
    "## Full Table"
   ]
  },
  {
   "cell_type": "markdown",
   "id": "dfcf8ce4-a15d-4365-95b1-753db467a8aa",
   "metadata": {},
   "source": [
    "Here is the full table, composed of entries from each function as specified below:\n",
    "\n",
    "| Name              | Bounds                     | $$x^*$$                 | $$f(x^*)$$            | Source |\n",
    "| :---------------- | :------------------------- | ----------------------: | --------------------: | ------ |\n",
    "| Forrester         | $$x \\in [0,1]$$            | 0.757248757841856       | -6.0207400557670825   | visual inspection + [WolframAlpha][1]  |\n",
    "| Bohachevsky       | $$x,y \\in [-5,5]$$         | (0, 0)                  | 0                     | [sfu.ca/~ssurjano/boha][2] |\n",
    "| Booth             | $$x,y\\in[-10,10]$$         | (1,3)                   | 0                     | [Wikipedia][wiki_test_functions] |\n",
    "| Branin            | $$x\\in[-5,10],y\\in[0,15]$$ | (-3.786088705282203, 15) | -333.9160343522788 | scipy.minimize starting from (-$\\pi$, 12.275) |\n",
    "| Currin            | $$x,y\\in[0,1]$$            | (0.21666..., 0)         | 13.798722044728434[<sup>1</sup>](#fn1) | visual + [WolframAlpha][wolframalpha_currin] for y=0 |\n",
    "| Himmelblau        | $$x,y\\in[-4,4]$$           |(3,2),(-2.805118,3.131312),(-3.779310,-3.283286),(3.584428,-1.848126)|0|[Wikipedia][wiki_test_functions] |\n",
    "| Six Hump Camelback| $$x,y\\in[-2,2]$$           | (0.0898,-0.7126),(-0.0898,0.7126)| -1.0316| [sfu.ca/~ssurjano/camel6][4] |\n",
    "| Park 91 a   | $$x_i\\in[0,1) \\forall i$$ | (10$^{-8}$, 0, 0, 0)[<sup>2</sup>](#fn2) | 2.718281828459045 * 10$^{-8}$ | repeated scipy.optimize |\n",
    "| Park 91 B   | $$x_i\\in[0,1) \\forall i$$ | (0,0,0,0)[<sup>3</sup>](#fn3) | $$\\frac{2}{3}$$ | Simple derivation |\n",
    "| Hartmann 6D | $$x_i\\in[0.1, 1]\\forall i$$ | ~(0.2017, 0.1500, 0.4769, 0.2753, 0.3117, 0.6573) | -3.0424577378430477[<sup>4</sup>](#fn4) | [sfu.ca/~ssurjano/hart6][ssurhart6] |\n",
    "| Borehole    | l_bound = [0.05,    100,  63_070,   990, 63.1, 700, 1_120,  9_855],<br> u_bound = [0.15, 50_000, 115_600, 1_110,  116, 820, 1_680, 12_045] | (5e-2, 5e4, 6.307e4, 9.9e2, 6.31e1, 8.2e2, 1.68e3, 9.855e3) | 7.819676328755232 | repeated scipy.optimize |\n",
    "\n",
    "\n",
    "\n",
    "\n",
    "<span id=\"fn1\"><sup>1</sup> this is the global **maximum** within the given bounds</span><br>\n",
    "<span id=\"fn2\"><sup>2</sup> Because of the $\\frac{x_4}{x_1^2}$ in the function definition, the lower bound for $x_1$ is restricted to $10^{-8}$ to prevent divide-by-zero errors</span><br>\n",
    "<span id=\"fn3\"><sup>3</sup> $x_4$ is irrelevant once $x_3$ converges to 0</span><br>\n",
    "<span id=\"fn4\"><sup>4</sup>[sfu.ca/~ssurjano/hart6][ssurhart6] reports the optimum $f(x^*) = -3.32237$ for the unscaled version. Location of the optimum remains unchanged when scaling  </span>\n",
    "\n",
    "\n",
    "[1]: https://www.wolframalpha.com/input/?i=derivative+%286x-2%29%5E2*sin%2812x-4%29+%3D+0\n",
    "[2]: http://www.sfu.ca/~ssurjano/boha.html\n",
    "[4]: http://www.sfu.ca/~ssurjano/camel6.html\n",
    "[wolframalpha_currin]: https://www.wolframalpha.com/input/?i=derivative+%282300x%5E3+%2B+1900x%5E2+%2B+2092x+%2B+60%29+%2F+%28100x%5E3+%2B+500x%5E2+%2B+4x+%2B+20%29+%3D+0\n",
    "[wiki_test_functions]: https://en.wikipedia.org/wiki/Test_functions_for_optimization\n",
    "[ssurhart6]: http://www.sfu.ca/~ssurjano/hart6.html"
   ]
  },
  {
   "cell_type": "markdown",
   "id": "17fa480e-8c7c-418d-8540-f40b04c6398c",
   "metadata": {
    "heading_collapsed": "true",
    "tags": []
   },
   "source": [
    "## Global imports"
   ]
  },
  {
   "cell_type": "code",
   "execution_count": null,
   "id": "cec996d2-26c0-4549-8403-3aa28edfdfdb",
   "metadata": {
    "tags": []
   },
   "outputs": [],
   "source": [
    "import mf2\n",
    "import numpy as np\n",
    "from scipy.optimize import minimize\n",
    "\n",
    "np.set_printoptions(floatmode='maxprec', precision=99)\n",
    "\n",
    "def get_start_positions(bounds, n_steps_per_dim=5):\n",
    "    \"\"\"Create a grid of starting points scaled to the\n",
    "    given bounds\n",
    "    \"\"\"\n",
    "    l_bound, u_bound = bounds\n",
    "    x = np.linspace(0,1,n_steps_per_dim)\n",
    "    bound_range = u_bound - l_bound\n",
    "\n",
    "    coords = np.meshgrid(*[x for _ in u_bound])\n",
    "    coords = np.stack([c.flatten() for c in coords], axis=1)\n",
    "\n",
    "    return (coords * bound_range) + l_bound\n",
    "\n",
    "\n",
    "def grid_optimize_mff(mf_func, n_steps_per_dim=5):\n",
    "    \"\"\"Run scipy.optimize repeatedly from a grid of starting\n",
    "    positions to roughly determine the global optimum\n",
    "    \"\"\"\n",
    "    func = mf_func.high\n",
    "    bounds = mf_func.bounds\n",
    "\n",
    "    results = [\n",
    "        minimize(func, x_start, bounds=bounds.T)\n",
    "        for x_start in get_start_positions(bounds, n_steps_per_dim)\n",
    "    ]\n",
    "\n",
    "    min_result = min(results, key=lambda x: x.fun)    \n",
    "    print(f'Function:     {mf_func.name}')\n",
    "    print(f'best x:       {min_result.x}')\n",
    "    print(f'minimum f(x): {min_result.fun}')\n",
    "\n",
    "\n",
    "def repeat_optimize_mff(mf_func, x_opt, repeat=10):\n",
    "    \"\"\"Repeatedly restart scipy.optimize from a previous\n",
    "    optimal start position to refine all decimals of the\n",
    "    global optimum\n",
    "    \"\"\"\n",
    "    func = mf_func.high\n",
    "    bounds = mf_func.bounds\n",
    "    \n",
    "    for _ in range(repeat):\n",
    "        result = minimize(func, x_opt, bounds=bounds.T)\n",
    "        x_opt = result.x\n",
    "        \n",
    "    print(f'Function:     {mf_func.name}')\n",
    "    print(f'best x:       {result.x}')\n",
    "    print(f'minimum f(x): {result.fun}')\n"
   ]
  },
  {
   "cell_type": "markdown",
   "id": "d7f6e34e-e6bf-4ef2-b6a6-6cc1e8e61ab4",
   "metadata": {
    "heading_collapsed": "true",
    "tags": []
   },
   "source": [
    "## 1D functions"
   ]
  },
  {
   "cell_type": "markdown",
   "id": "bd7bb983-3bf5-487f-a706-5077bce7ec68",
   "metadata": {
    "heading_collapsed": "true",
    "tags": []
   },
   "source": [
    "### Forrester"
   ]
  },
  {
   "cell_type": "markdown",
   "id": "070289b4-73d4-4e7b-ab1b-9b5160dff10c",
   "metadata": {
    "tags": []
   },
   "source": [
    "Forrester high-fidelity: $f_h(x) = (6x-2)^2 \\sin(12x-4)$\n",
    "\n",
    "| Name      | Bounds               | $$x^*$$             | $$f(x^*)$$            | Source |\n",
    "| --------- | -------------------- | ------------------- | --------------------- | ------ |\n",
    "| Forrester | $$x \\in [0,1]$$      | ~ 0.757248757841856 | ~ -6.0207400557670825 | visual inspection + [WolframAlpha][1]  |\n",
    "\n",
    "[1]: https://www.wolframalpha.com/input/?i=derivative+%286x-2%29%5E2*sin%2812x-4%29+%3D+0"
   ]
  },
  {
   "cell_type": "code",
   "execution_count": null,
   "id": "d6c9b82b-3b7d-412f-b708-51e39799b1ae",
   "metadata": {},
   "outputs": [],
   "source": [
    "mf2.forrester.high(0.757248757841856)"
   ]
  },
  {
   "cell_type": "code",
   "execution_count": null,
   "id": "8194e98c-b8b8-4102-bde8-1e3af56d9820",
   "metadata": {},
   "outputs": [],
   "source": [
    "repeat_optimize_mff(mf2.forrester, 0.757248757841856)"
   ]
  },
  {
   "cell_type": "markdown",
   "id": "6fc2291e-ec14-4665-a7a6-a312e73766c4",
   "metadata": {
    "heading_collapsed": "true",
    "tags": []
   },
   "source": [
    "## 2D functions"
   ]
  },
  {
   "cell_type": "markdown",
   "id": "fce83847-0747-4f3a-9f1f-cb00587bbc22",
   "metadata": {
    "heading_collapsed": "true",
    "tags": []
   },
   "source": [
    "### Bohachevsky"
   ]
  },
  {
   "cell_type": "markdown",
   "id": "fbb24618-c7af-41fe-a35b-371f8e9871ab",
   "metadata": {},
   "source": [
    "Bohachevsky high-fidelity: $ f_h(x) = x_1^2 + 2x_2^2 - 0.3\\cos(3\\pi x_1) - 0.4\\cos(4\\pi x_2) + 0.7$\n",
    "\n",
    "| Name        | Bounds           | $$x^*$$   | $$f(x^*)$$ | Source                |\n",
    "| ----------- | ---------------- | --------- | ---------- | --------------------- |\n",
    "| Bohachevsky | $$x \\in [-5,5]$$ | (0, 0)    | 0          | [sfu.ca/~ssurjano][2] |\n",
    "\n",
    "\n",
    "[2]: http://www.sfu.ca/~ssurjano/boha.html"
   ]
  },
  {
   "cell_type": "code",
   "execution_count": null,
   "id": "663c960a-d246-4c4d-b894-3b058b3b0d8b",
   "metadata": {},
   "outputs": [],
   "source": [
    "mf2.bohachevsky.high([0,0])"
   ]
  },
  {
   "cell_type": "code",
   "execution_count": null,
   "id": "0a5bfe3f-444a-4f0c-9bac-271842f51722",
   "metadata": {},
   "outputs": [],
   "source": [
    "repeat_optimize_mff(mf2.bohachevsky, [0,0])"
   ]
  },
  {
   "cell_type": "markdown",
   "id": "21bae038-05d8-46ce-af9b-f4751504c93d",
   "metadata": {
    "heading_collapsed": "true",
    "tags": []
   },
   "source": [
    "### Booth"
   ]
  },
  {
   "cell_type": "markdown",
   "id": "fb3c84dc-09af-4d3b-a09f-6d273b3ad1b3",
   "metadata": {},
   "source": [
    "Booth high-fidelity: $ f_h(x) = (x_1 + 2x_2 - 7)^2 + (2x_1 + x_2 - 5)^2 $"
   ]
  },
  {
   "cell_type": "markdown",
   "id": "60a1b86e-0500-4273-a3ca-70c2159f1072",
   "metadata": {},
   "source": [
    "| Name        | Bounds             | $$x^*$$             | $$f(x^*)$$            | Source |\n",
    "| :---------- | :----------------- | ------------------: | --------------------: | ------ |\n",
    "| Booth       | $$x,y\\in[-10,10]$$ | $$(1,3)$$           | 0                     | [Wikipedia][wiki_test_functions] |\n",
    "\n",
    "[wiki_test_functions]: https://en.wikipedia.org/wiki/Test_functions_for_optimization"
   ]
  },
  {
   "cell_type": "code",
   "execution_count": null,
   "id": "18b3f6bd-ca85-44c3-8aca-8bf93ba29aca",
   "metadata": {},
   "outputs": [],
   "source": [
    "mf2.booth.high([1,3])"
   ]
  },
  {
   "cell_type": "code",
   "execution_count": null,
   "id": "02876faf-4cb9-458e-a99c-b5494a75d48c",
   "metadata": {},
   "outputs": [],
   "source": [
    "repeat_optimize_mff(mf2.booth, [1,3])"
   ]
  },
  {
   "cell_type": "markdown",
   "id": "8f74aaff-3e0b-49cf-94ec-6eeda9531aea",
   "metadata": {
    "heading_collapsed": "true",
    "tags": []
   },
   "source": [
    "### Branin"
   ]
  },
  {
   "cell_type": "markdown",
   "id": "2158fce1-ca13-4b94-9660-f31d9ecd8199",
   "metadata": {},
   "source": [
    "Branin base: $f_b(x) = \\Bigg(x_2 - (5.1\\dfrac{x_1^2}{4\\pi^2}) + \\dfrac{5x_1}{\\pi} - 6\\Bigg)^2 + \\Bigg(10\\cos(x_1) (1 - \\dfrac{1}{8\\pi}\\Bigg) + 10 $\n",
    "\n",
    "The branin 'base' function has three optima: $x^*$ = (-$\\pi$, 12.275), ($\\pi$, 2.275), (9.42478, 2.475), with $f(x^*)$ = 0.397887 (source: [sfu.ca/~ssurjano/branin][3])\n",
    "\n",
    "Branin high-fidelity: $ f_h(x) = f_b(x) - 22.5x_2 $ (from [Dong et al. 2015][5])\n",
    "\n",
    "| Name        | Bounds             | $$x^*$$             | $$f(x^*)$$            | Source |\n",
    "| :---------- | :----------------- | ------------------: | --------------------: | ------ |\n",
    "| Branin      | $$x_1\\in[-5,10],x_2\\in[0,15]$$ | (-3.786088705282203, 15) | -333.9160343522788 | scipy.minimize starting from (-$\\pi$, 12.275) |\n",
    "\n",
    "[3]: http://www.sfu.ca/~ssurjano/branin.html\n",
    "[5]: https://doi.org/10.1007/s00158-014-1213-9"
   ]
  },
  {
   "cell_type": "code",
   "execution_count": null,
   "id": "a4388354-af8e-41eb-b4b9-6994ac19da3c",
   "metadata": {},
   "outputs": [],
   "source": [
    "branin_base_optima = [\n",
    "    [ -np.pi, 12.275],\n",
    "    [  np.pi,  2.275],\n",
    "    [9.42478,  2.475],\n",
    "]\n",
    "print(f'branin.high(branin_base_optima) = {mf2.branin.high(branin_base_optima)}')\n",
    "\n",
    "result = minimize(mf2.branin.high, branin_base_optima[0], bounds=mf2.branin.bounds.T)\n",
    "print(result.x, result.fun)"
   ]
  },
  {
   "cell_type": "code",
   "execution_count": null,
   "id": "68eb4694-a1b0-4711-ace1-fad0b5752468",
   "metadata": {},
   "outputs": [],
   "source": [
    "for opt in branin_base_optima:\n",
    "    repeat_optimize_mff(mf2.branin, opt, repeat=20)"
   ]
  },
  {
   "cell_type": "code",
   "execution_count": null,
   "id": "0688fbb2-0644-4753-a161-99dcc239b65f",
   "metadata": {},
   "outputs": [],
   "source": [
    "repeat_optimize_mff(mf2.branin, [-3.786088705282203, 15])"
   ]
  },
  {
   "cell_type": "markdown",
   "id": "a1422af5-3c76-4a76-813e-a88fd3f4ab75",
   "metadata": {
    "heading_collapsed": "true",
    "tags": []
   },
   "source": [
    "### Currin"
   ]
  },
  {
   "cell_type": "markdown",
   "id": "9e0197a2-909a-41b4-b853-4a1d0368b9c0",
   "metadata": {},
   "source": [
    "Currin: $f_h(x) = \\Bigg( 1 - \\exp(-\\dfrac{1}{2x_2})\\Bigg) \\dfrac{2300x_1^3 + 1900x_1^2 + 2092x_1 + 60}{100x_1^3 + 500x_1^2 + 4x_1 + 20}$\n",
    "\n",
    "Since there is no interaction between $x_1$ and $x_2$, we can simplify the search for the optimum by considering each variable separately.\n",
    "\n",
    "| Name        | Bounds             | $$x^*$$             | $$f(x^*)$$            | Source |\n",
    "| :---------- | :----------------- | ------------------: | --------------------: | ------ |\n",
    "| Currin      | $$x \\in [0,1]$$    | (0.21666..., 0)       | 13.798722044728434[<sup>1</sup>](#fn1)    | visual + [WolframAlpha][wolframalpha_currin] for y=0 |\n",
    "\n",
    "<span id=\"fn1\"><sup>1</sup>: this is the global **maximum** within the given bounds</span>\n",
    "\n",
    "[wolframalpha_currin]: https://www.wolframalpha.com/input/?i=derivative+%282300x%5E3+%2B+1900x%5E2+%2B+2092x+%2B+60%29+%2F+%28100x%5E3+%2B+500x%5E2+%2B+4x+%2B+20%29+%3D+0"
   ]
  },
  {
   "cell_type": "code",
   "execution_count": null,
   "id": "5ae0f69d-cc37-4741-be68-23ac486fc0ed",
   "metadata": {},
   "outputs": [],
   "source": [
    "mf2.currin.high([0.21666666666666666666, 0])"
   ]
  },
  {
   "cell_type": "code",
   "execution_count": null,
   "id": "20a99b33-350e-4925-a5f3-4a209d6151cc",
   "metadata": {},
   "outputs": [],
   "source": [
    "repeat_optimize_mff(mf2.invert(mf2.currin), [0.21666666666666666666, 0])"
   ]
  },
  {
   "cell_type": "markdown",
   "id": "143361fb-3db3-4e0e-a542-b1fc26ac6ac9",
   "metadata": {
    "heading_collapsed": "true",
    "tags": []
   },
   "source": [
    "### Himmelblau"
   ]
  },
  {
   "cell_type": "markdown",
   "id": "2cbd9386-1304-412a-8e16-6adaa2ea5b90",
   "metadata": {},
   "source": [
    "Himmelblau high-fidelity: $f_h(x) = (x_1^2 + x_2 - 11)^2 + (x_2^2 + x_1 - 7)^2$\n",
    "\n",
    "| Name        | Bounds             | $$x^*$$             | $$f(x^*)$$            | Source |\n",
    "| :---------- | :----------------- | ------------------: | --------------------: | ------ |\n",
    "| Himmelblau  | $$x\\in[-4,4]$$|(3,2),(-2.805118,3.131312),(-3.779310,-3.283286),(3.584428,-1.848126)|0|[Wikipedia][wiki_test_functions] |\n",
    "\n",
    "\n",
    "[wiki_test_functions]: https://en.wikipedia.org/wiki/Test_functions_for_optimization"
   ]
  },
  {
   "cell_type": "code",
   "execution_count": null,
   "id": "e6553842-bcf7-4a20-83c9-f785adb50508",
   "metadata": {},
   "outputs": [],
   "source": [
    "himmelblau_optima = [\n",
    "    [ 3,         2       ],\n",
    "    [-2.805118,  3.131312],\n",
    "    [-3.779310, -3.283286],\n",
    "    [ 3.584428, -1.848126],\n",
    "]\n",
    "print(f'himmelblau.high(himmelblau_optima) = {mf2.himmelblau.high(himmelblau_optima)}')"
   ]
  },
  {
   "cell_type": "code",
   "execution_count": null,
   "id": "b78c6582-2183-46ef-af8b-3dd6ba4fbc06",
   "metadata": {},
   "outputs": [],
   "source": [
    "for opt in himmelblau_optima:\n",
    "    repeat_optimize_mff(mf2.himmelblau, opt)"
   ]
  },
  {
   "cell_type": "markdown",
   "id": "ff63f7f8-927c-4022-8313-3ba76a59610c",
   "metadata": {
    "heading_collapsed": "true",
    "tags": []
   },
   "source": [
    "### Six-Hump Camelback"
   ]
  },
  {
   "cell_type": "markdown",
   "id": "c3a15998-7a3a-4ab0-9c62-10c52fff7e20",
   "metadata": {},
   "source": [
    "Six-Hump Camelback high-fidelity: $f_h(x) = 4x_1^2 - 2.1x_1^4 + \\dfrac{x_1^6}{3} + x_1x_2 - 4x_2^2 + 4x_2^4 $\n",
    "\n",
    "| Name        | Bounds             | $$x^*$$             | $$f(x^*)$$            | Source |\n",
    "| :---------- | :----------------- | ------------------: | --------------------: | ------ |\n",
    "| Six Hump Camelback | $$x\\in[-2,2]$$| (0.0898,-0.7126), (-0.0898,0.7126) | -1.0316 | [sfu.ca/~ssurjano/camel6][4] |\n",
    "\n",
    "[4]: http://www.sfu.ca/~ssurjano/camel6.html"
   ]
  },
  {
   "cell_type": "code",
   "execution_count": null,
   "id": "31b78655-c859-4cbb-9587-1b244a798406",
   "metadata": {},
   "outputs": [],
   "source": [
    "sixhump_optima = [\n",
    "    [ 0.0898, -0.7126],\n",
    "    [-0.0898,  0.7126],\n",
    "]\n",
    "print(f'six_hump_camelback.high(sixhump_optima) = {mf2.six_hump_camelback.high(sixhump_optima)}')"
   ]
  },
  {
   "cell_type": "code",
   "execution_count": null,
   "id": "014e0c78-4a84-483c-a7f5-3c6f041a2904",
   "metadata": {},
   "outputs": [],
   "source": [
    "for opt in sixhump_optima:\n",
    "    repeat_optimize_mff(mf2.six_hump_camelback, opt)"
   ]
  },
  {
   "cell_type": "markdown",
   "id": "57a63393-cb83-4414-be80-f96f82c1b460",
   "metadata": {
    "tags": []
   },
   "source": [
    "## 4D functions"
   ]
  },
  {
   "cell_type": "markdown",
   "id": "69986639-e44b-4a6f-9615-cc6600b2a352",
   "metadata": {
    "heading_collapsed": "true",
    "tags": []
   },
   "source": [
    "### Park 91 A"
   ]
  },
  {
   "cell_type": "markdown",
   "id": "73943e9f-e1c2-43a6-8c63-c0510f515767",
   "metadata": {},
   "source": [
    "Park 91A high-fidelity: $f_h(x) = \\dfrac{x_1}{2} \\Bigg(\\sqrt{1 + (x_2 + x_3^2) * \\dfrac{x_4}{x_1^2}} - 1\\Bigg) + (x_1 + 3x_4)\\exp(1 + \\sin(x_3))$\n",
    "\n",
    "| Name        | Bounds             | $$x^*$$             | $$f(x^*)$$            | Source |\n",
    "| :---------- | :----------------- | ------------------: | --------------------: | ------ |\n",
    "| Park 91 a   | $$x_i\\in[0,1) \\forall i$$[<sup>3</sup>](#fn3) | (10$^{-8}$, 0, 0, 0) | 2.718281828459045 * 10$^{-8}$ | repeated scipy.optimize |\n",
    "\n",
    "\n",
    "<span id=\"fn3\"><sup>3</sup>: Because of the $\\frac{x_4}{x_1^2}$ in the function definition, the lower bound for $x_1$ is restricted to $10^{-8}$ to prevent divide-by-zero errors</span>"
   ]
  },
  {
   "cell_type": "code",
   "execution_count": null,
   "id": "47172299-9fd6-4666-b314-ca092e61941f",
   "metadata": {},
   "outputs": [],
   "source": [
    "print(mf2.park91a.high([1e-8,0,0,0]))\n",
    "\n",
    "result = minimize(mf2.park91a.high, [.5, .5, .5, .5], bounds=mf2.park91a.bounds.T)\n",
    "print(result.x, result.fun)"
   ]
  },
  {
   "cell_type": "code",
   "execution_count": null,
   "id": "fdddacae-999c-41e0-8487-d536f68acf47",
   "metadata": {},
   "outputs": [],
   "source": [
    "grid_optimize_mff(mf2.park91a, n_steps_per_dim=4)"
   ]
  },
  {
   "cell_type": "code",
   "execution_count": null,
   "id": "5454bdf7-a684-42c5-882d-d0fa4cf74f28",
   "metadata": {},
   "outputs": [],
   "source": [
    "repeat_optimize_mff(mf2.park91a, [1e-8, 0, 0, 0])"
   ]
  },
  {
   "cell_type": "markdown",
   "id": "5e4b2693-1c01-4b04-b145-33a9bb80a7a2",
   "metadata": {
    "heading_collapsed": "true",
    "tags": []
   },
   "source": [
    "#### Better inverted? Nope..."
   ]
  },
  {
   "cell_type": "code",
   "execution_count": null,
   "id": "8a34b83a-ed72-47eb-bf7b-e0d12d3e99fc",
   "metadata": {},
   "outputs": [],
   "source": [
    "grid_optimize_mff(mf2.invert(mf2.park91a), n_steps_per_dim=4)"
   ]
  },
  {
   "cell_type": "markdown",
   "id": "51315d92-a85e-4261-84c3-49579450b1a9",
   "metadata": {
    "heading_collapsed": "true",
    "tags": []
   },
   "source": [
    "### Park 91 B"
   ]
  },
  {
   "cell_type": "markdown",
   "id": "ee64195f-d3f9-4212-9ed6-a300c9df9926",
   "metadata": {},
   "source": [
    "Park 91B high-fidelity: $f_h(x) = \\dfrac{2}{3}\\exp(x_1 + x_2) - x_4\\sin(x_3) + x_3$\n",
    "\n",
    "| Name        | Bounds             | $$x^*$$             | $$f(x^*)$$            | Source |\n",
    "| :---------- | :----------------- | ------------------: | --------------------: | ------ |\n",
    "| Park 91 B   | $$x_i\\in[0,1) \\forall i$$ | (0,0,0,0)[<sup>3</sup>](#fn3) | $$\\dfrac{2}{3}$$ | Simple derivation |\n",
    "\n",
    "<span id=\"fn3\"><sup>3</sup> $x_4$ is irrelevant once $x_3$ converges to 0</span>"
   ]
  },
  {
   "cell_type": "code",
   "execution_count": null,
   "id": "cf5e50b6-c36d-48b9-b3fe-3f7e34a4eea0",
   "metadata": {},
   "outputs": [],
   "source": [
    "mf2.park91b.high([0,0,0,0])"
   ]
  },
  {
   "cell_type": "code",
   "execution_count": null,
   "id": "656410e7-1b81-4221-9c25-959fa7b3a58f",
   "metadata": {},
   "outputs": [],
   "source": [
    "repeat_optimize_mff(mf2.park91b, [0, 0, 0, 0])"
   ]
  },
  {
   "cell_type": "markdown",
   "id": "a20020ad-0dc2-41d6-9fdd-76e0d2b52001",
   "metadata": {
    "heading_collapsed": "true",
    "tags": []
   },
   "source": [
    "#### Derivation"
   ]
  },
  {
   "cell_type": "markdown",
   "id": "f3ba93d3-1330-4741-acea-c99557e9e07a",
   "metadata": {
    "tags": []
   },
   "source": [
    "The Park91b function quite simply consists of two parts with independent $x_i$ variables: the exponent part with $x_1, x_2$, and the sine part with $x_3, x_4$.\n",
    "\n",
    "For the exponent part, the minimum within the range $[0, 1)$ is achieved at $\\dfrac{2}{3}\\exp(0) = \\dfrac{2}{3}$, hence $x_1 + x_2 = 0$ and therefore $x_1 = x_2 = 0$.\n",
    "\n",
    "Initially assuming $x_4=1$ for the sine part, $x_3$ increases faster than $\\sin(x_3)$, so the minimum is reached at $x_3=0$. Once $x_3=0$, $x_4\\sin(0)=0$ for any value of $x_4$, so it is irrelevant."
   ]
  },
  {
   "cell_type": "markdown",
   "id": "6f1e48aa-45a1-42f9-b6ec-cdf518b2f1ea",
   "metadata": {},
   "source": [
    "## 6D functions\n"
   ]
  },
  {
   "cell_type": "markdown",
   "id": "6154737a-9985-48a4-bacf-cae036ccd35c",
   "metadata": {},
   "source": [
    "### Hartmann6"
   ]
  },
  {
   "cell_type": "markdown",
   "id": "f0a6781c-46ae-4106-af60-6d860d065e70",
   "metadata": {},
   "source": [
    "Hartmann6 high-fidelity: $f_h(x) = -\\dfrac{1}{1.94}\\Bigg( 2.58 + \\sum^4_{i=1}\\alpha_i \\exp\\Bigg( -\\sum^6_{j=1} A_{ij}(x_j - P_{ij})^2 \\Bigg) \\Bigg)$, where,\n",
    "\n",
    "```\n",
    "\\alpha = [1.0, 1.2, 3.0, 3.2].T\n",
    "A = [\n",
    "    [10.00,  3.0, 17.00,  3.5,  1.7,  8],\n",
    "    [ 0.05, 10.0, 17.00,  0.1,  8.0, 14],\n",
    "    [ 3.00,  3.5,  1.70, 10.0, 17.0,  8],\n",
    "    [17.00,  8.0,  0.05, 10.0,  0.1, 14],\n",
    "]\n",
    "P = [\n",
    "    [.1312, .1696, .5569, .0124, .8283, .5886],\n",
    "    [.2329, .4135, .8307, .3736, .1004, .9991],\n",
    "    [.2348, .1451, .3522, .2883, .3047, .6650],\n",
    "    [.4047, .8828, .8732, .5743, .1091, .0381],\n",
    "]\n",
    "```\n",
    "\n",
    "| Name        | Bounds             | $$x^*$$             | $$f(x^*)$$            | Source |\n",
    "| :---------- | :----------------- | ------------------: | --------------------: | ------ |\n",
    "| Hartmann 6D | $$x_i\\in[0.1, 1]\\forall i$$ | ~(0.2017, 0.1500, 0.4769, 0.2753, 0.3117, 0.6573) | -3.0424577378430477[<sup>4</sup>](#fn4) | [sfu.ca/~ssurjano/hart6][ssurhart6] |\n",
    "\n",
    "<span id=\"fn4\"><sup>4</sup>[sfu.ca/~ssurjano/hart6][ssurhart6] reports the optimum $f(x^*) = -3.32237$ for the unscaled version. Location of the optimum remains unchanged when scaling  </span>\n",
    "\n",
    "[ssurhart6]: http://www.sfu.ca/~ssurjano/hart6.html"
   ]
  },
  {
   "cell_type": "code",
   "execution_count": null,
   "id": "5bb65631-f2d7-41ef-a45e-55a11e1cafc7",
   "metadata": {},
   "outputs": [],
   "source": [
    "# Unscaled optimum, as reported by http://www.sfu.ca/~ssurjano/hart6.html\n",
    "fx = mf2.hartmann6.high([0.20169, 0.150011, 0.476874, 0.275332, 0.311652, 0.6573])\n",
    "print(fx)"
   ]
  },
  {
   "cell_type": "code",
   "execution_count": null,
   "id": "beacb487-5ed2-42c4-8e11-ce46007bbf82",
   "metadata": {},
   "outputs": [],
   "source": [
    "print((fx / (-1/1.94)) - 2.58)\n",
    "print((3.3223680113913385 + 2.58) * (-1/1.94))\n"
   ]
  },
  {
   "cell_type": "code",
   "execution_count": null,
   "id": "138fa08e-424d-4d36-9cc9-db34a59367bb",
   "metadata": {},
   "outputs": [],
   "source": [
    "grid_optimize_mff(mf2.hartmann6, n_steps_per_dim=4)"
   ]
  },
  {
   "cell_type": "code",
   "execution_count": null,
   "id": "4d70e16f-cbc9-4c19-84a3-35bd4bb365d4",
   "metadata": {},
   "outputs": [],
   "source": [
    "repeat_optimize_mff(mf2.hartmann6, [0.2016895136059688, 0.15001068960347907, 0.4768739646943634, 0.2753324238312406, 0.3116516144713434, 0.6573005290552848])"
   ]
  },
  {
   "cell_type": "code",
   "execution_count": null,
   "id": "5f7fcbda-4bf3-47e5-bf25-456206ea026e",
   "metadata": {},
   "outputs": [],
   "source": [
    "# Confirming correctness of optimum before and after scaling\n",
    "x_opt = [0.2016895136059688, 0.15001068960347907, 0.4768739646943634, 0.2753324238312406, 0.3116516144713434, 0.6573005290552848]\n",
    "f_opt = mf2.hartmann6.high(x_opt)[0]\n",
    "print(f'{f_opt = }')\n",
    "print(f'{(-f_opt * 1.94) - 2.58 = }')\n",
    "print(f'{(-1/1.94) * (2.58 + 3.3223) = }')"
   ]
  },
  {
   "cell_type": "markdown",
   "id": "e86a8bbf-1e78-40a8-b110-76da26c64c84",
   "metadata": {},
   "source": [
    "## 8D functions"
   ]
  },
  {
   "cell_type": "markdown",
   "id": "3548b532-754b-4bd1-9cc1-ac8ef71ab146",
   "metadata": {},
   "source": [
    "### Borehole"
   ]
  },
  {
   "cell_type": "markdown",
   "id": "2b16de0f-6174-435e-8223-adbf0bdb5d7a",
   "metadata": {},
   "source": [
    "Borehole high-fidelity: $f_h(x) = \\dfrac{A*T_u*(H_u - H_l)}{\\Bigg(\\log(\\frac{r}{r_w}) * (B + \\dfrac{2L*T_u}{\\log(\\frac{r}{r_w}) * r_w^2 * K_w} + \\dfrac{T_u}{T_l}\\Bigg)}$\n",
    "\n",
    "| Name        | Bounds             | $$x^*$$             | $$f(x^*)$$            | Source |\n",
    "| :---------- | :----------------- | ------------------: | --------------------: | ------ |\n",
    "| Borehole    | l_bound = [0.05,    100,  63_070,   990, 63.1, 700, 1_120,  9_855], u_bound = [0.15, 50_000, 115_600, 1_110,  116, 820, 1_680, 12_045] | (5e-2, 5e4, 6.307e4, 9.9e2, 6.31e1, 8.2e2, 1.68e3, 9.855e3) | 7.819676328755232 | repeated scipy.optimize |"
   ]
  },
  {
   "cell_type": "code",
   "execution_count": null,
   "id": "521dc904-d596-4705-9fa8-d3f8cec4f642",
   "metadata": {},
   "outputs": [],
   "source": [
    "grid_optimize_mff(mf2.borehole, n_steps_per_dim=3)"
   ]
  },
  {
   "cell_type": "code",
   "execution_count": null,
   "id": "31ecbbbd-5427-4285-9554-e7db9ab42c87",
   "metadata": {},
   "outputs": [],
   "source": [
    "repeat_optimize_mff(mf2.borehole, [5e-2, 5e4, 6.307e4, 9.9e2, 6.31e1, 8.2e2, 1.68e3, 9.855e3])"
   ]
  },
  {
   "cell_type": "code",
   "execution_count": null,
   "id": "add2eace-d94b-45fe-b4e8-35b0ca422800",
   "metadata": {},
   "outputs": [],
   "source": []
  }
 ],
 "metadata": {
  "kernelspec": {
   "display_name": "Python 3 (ipykernel)",
   "language": "python",
   "name": "python3"
  },
  "language_info": {
   "codemirror_mode": {
    "name": "ipython",
    "version": 3
   },
   "file_extension": ".py",
   "mimetype": "text/x-python",
   "name": "python",
   "nbconvert_exporter": "python",
   "pygments_lexer": "ipython3",
   "version": "3.9.7"
  }
 },
 "nbformat": 4,
 "nbformat_minor": 5
}
