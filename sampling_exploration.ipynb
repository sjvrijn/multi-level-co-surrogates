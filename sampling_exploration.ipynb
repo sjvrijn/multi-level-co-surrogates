{
 "cells": [
  {
   "cell_type": "code",
   "execution_count": null,
   "metadata": {},
   "outputs": [],
   "source": [
    "import numpy as np\n",
    "import math\n",
    "import matplotlib.pyplot as plt\n",
    "import multifidelityfunctions as mff\n",
    "import multiLevelCoSurrogates as mlcs\n",
    "import more_itertools\n",
    "import pyDOE\n",
    "\n",
    "plot_dir = 'plots/'\n",
    "\n",
    "np.set_printoptions(precision=5, linewidth=180)"
   ]
  },
  {
   "cell_type": "markdown",
   "metadata": {},
   "source": [
    "# Functions"
   ]
  },
  {
   "cell_type": "code",
   "execution_count": null,
   "metadata": {},
   "outputs": [],
   "source": [
    "def sphere(X):\n",
    "    return np.sum(1 - X**2, axis=1)"
   ]
  },
  {
   "cell_type": "code",
   "execution_count": null,
   "metadata": {},
   "outputs": [],
   "source": [
    "def forrester(X):\n",
    "    term1 = (6*X - 2)**2\n",
    "    term2 = np.sin(12*X - 4)\n",
    "\n",
    "    return np.sum(22 - (term1 * term2 + 6.03), axis=1)"
   ]
  },
  {
   "cell_type": "code",
   "execution_count": null,
   "metadata": {},
   "outputs": [],
   "source": [
    "def ackley(X):\n",
    "    tau = 2*np.pi\n",
    "    \n",
    "    sum_squares = np.sum(X**2, axis=1)\n",
    "    sum_cos = np.sum(np.cos(tau*X), axis=1)\n",
    "    \n",
    "    term1 = -20*np.exp(-0.2 * np.sqrt(0.5*sum_squares))\n",
    "    term2 = -np.exp(0.5*sum_cos)\n",
    "    return term1 + term2 + np.e + 20"
   ]
  },
  {
   "cell_type": "code",
   "execution_count": null,
   "metadata": {},
   "outputs": [],
   "source": [
    "# @mff.row_vectorize\n",
    "# def himmelblau(xx):\n",
    "#     pass\n",
    "\n",
    "himmelblau = mff.himmelblau_hf"
   ]
  },
  {
   "cell_type": "code",
   "execution_count": null,
   "metadata": {},
   "outputs": [],
   "source": [
    "def rastrigin(X):\n",
    "    N = X.shape[1]\n",
    "    A = 10\n",
    "    tau = 2*np.pi\n",
    "    \n",
    "    term1 = A * N\n",
    "    term2a = X**2\n",
    "    term2b = A * np.cos(tau*X)\n",
    "    term2 = np.sum(term2a - term2b, axis=1)\n",
    "    return term1 + term2"
   ]
  },
  {
   "cell_type": "markdown",
   "metadata": {},
   "source": [
    "# Historgram of test-sample distribution"
   ]
  },
  {
   "cell_type": "code",
   "execution_count": null,
   "metadata": {},
   "outputs": [],
   "source": [
    "xrange = np.linspace(-1,1,201).reshape(-1,1)\n",
    "\n",
    "plt.plot(xrange, sphere(xrange), label='function')\n",
    "ax1 = plt.gca()\n",
    "ax1.set_xlabel('x')\n",
    "ax1.set_ylabel('y')\n",
    "\n",
    "ax2 = ax1.twinx()\n",
    "sample = mlcs.sample_by_function(sphere, ndim=1, n_samples=1000, \n",
    "                                 minimize=True, range_in=(-1,1), range_out=(0,1))\n",
    "ax2.hist(sample, bins=80, color='C1', alpha=.5, label='minimize')\n",
    "sample = mlcs.sample_by_function(sphere, ndim=1, n_samples=1000, \n",
    "                                 minimize=False, range_in=(-1,1), range_out=(0,1))\n",
    "ax2.hist(sample, bins=80, color='C2', alpha=.5, label='maximize')\n",
    "ax2.set_ylabel('Count')\n",
    "\n",
    "lines, labels = ax1.get_legend_handles_labels()\n",
    "lines2, labels2 = ax2.get_legend_handles_labels()\n",
    "ax2.legend(lines + lines2, labels + labels2, loc=0)\n",
    "\n",
    "plt.show()"
   ]
  },
  {
   "cell_type": "markdown",
   "metadata": {},
   "source": [
    "# Error spread visualization"
   ]
  },
  {
   "cell_type": "code",
   "execution_count": null,
   "metadata": {},
   "outputs": [],
   "source": [
    "xrange = np.linspace(0,1,101).reshape(-1,1)\n",
    "plt.plot(xrange, forrester(xrange))\n",
    "plt.ylim([0,22.5])\n",
    "plt.show()"
   ]
  },
  {
   "cell_type": "code",
   "execution_count": null,
   "metadata": {},
   "outputs": [],
   "source": [
    "y = forrester(np.linspace(0,1,10001).reshape(-1,1))\n",
    "print('Output range should be [0, n]:')\n",
    "print(f'[{np.min(y)}, {np.max(y)}]')"
   ]
  },
  {
   "cell_type": "code",
   "execution_count": null,
   "metadata": {},
   "outputs": [],
   "source": [
    "archive = mlcs.CandidateArchive(ndim=1)#, fidelities=['high', 'low', 'high-low'])\n",
    "\n",
    "n_samples = 5\n",
    "\n",
    "np.random.seed(20160501)\n",
    "x = np.random.rand(4, 1)\n",
    "print(x)\n",
    "# x = np.linspace(0,1,n_samples).reshape(-1,1)\n",
    "\n",
    "y = forrester(x)\n",
    "archive.addcandidates(x, forrester(x))#, fidelity='high')\n",
    "\n",
    "surr = mlcs.Surrogate.fromname('Kriging', archive)#, kernel='Matern')\n",
    "surr.retrain()\n",
    "\n",
    "plt.plot(xrange, forrester(xrange))\n",
    "plt.plot(xrange, surr.predict(xrange.reshape(-1,1)))\n",
    "plt.scatter(*archive.getcandidates())\n",
    "plt.ylim([0,22.5])\n",
    "plt.show()"
   ]
  },
  {
   "cell_type": "code",
   "execution_count": null,
   "metadata": {},
   "outputs": [],
   "source": [
    "def test_spacing_of_sample(test_sample, test_func):\n",
    "    sample_size = test_sample.shape[0]\n",
    "    sample = np.sort(test_sample, axis=0)\n",
    "    \n",
    "    x = surr.predict(sample).reshape(-1, 1)\n",
    "    y = test_func(sample).reshape(-1, 1)\n",
    "    square_errors = (x - y)**2\n",
    "    print(f'MSE: {np.mean(square_errors)}')\n",
    "\n",
    "    edges = (test_sample[:-1] + test_sample[1:]) / 2\n",
    "    edges = [0] + edges.flatten().tolist() + [1]\n",
    "    \n",
    "    lengths = np.diff(edges).reshape(-1,1)\n",
    "\n",
    "    return lengths, square_errors / lengths"
   ]
  },
  {
   "cell_type": "code",
   "execution_count": null,
   "metadata": {},
   "outputs": [],
   "source": [
    "def add_error_spread_bars(ax, test_sample, test_func):\n",
    "    test_sample = np.sort(test_sample, axis=0)\n",
    "\n",
    "    edges = (test_sample[:-1] + test_sample[1:]) / 2\n",
    "    edges = np.array([0] + edges.flatten().tolist() + [1])\n",
    "    bar_midpoints = (edges[:-1] + edges[1:]) / 2\n",
    "\n",
    "    lengths, lne = test_spacing_of_sample(test_sample, test_func=test_func)\n",
    "\n",
    "    ax2 = ax.twinx()\n",
    "    bar = ax2.bar(bar_midpoints, lne.flatten(), width=lengths.flatten(), bottom=-7, \n",
    "                  color='C3', alpha=.3, label='Square error / area covered by sample')\n",
    "    return bar"
   ]
  },
  {
   "cell_type": "code",
   "execution_count": null,
   "metadata": {},
   "outputs": [],
   "source": [
    "n_samples = 200\n",
    "test_func = forrester"
   ]
  },
  {
   "cell_type": "code",
   "execution_count": null,
   "metadata": {},
   "outputs": [],
   "source": [
    "np.random.seed(20160501)\n",
    "\n",
    "test_sample = mlcs.sample_by_function(test_func, ndim=1, n_samples=n_samples, \n",
    "                                      minimize=False, range_in=(0,1), range_out=(0,22))\n",
    "print(test_sample.shape)\n",
    "ax1 = plt.subplot(111)\n",
    "ax1.plot(xrange, test_func(xrange))\n",
    "ax1.plot(xrange, surr.predict(xrange.reshape(-1,1)))\n",
    "ax1.scatter(test_sample, test_func(test_sample))\n",
    "\n",
    "add_error_spread_bars(ax1, test_sample, test_func)\n",
    "    \n",
    "ax1.set_title('function-based probability distribution')\n",
    "ax1.set_ylim([0,22.5])\n",
    "ax1.set_xlim([0,1])\n",
    "\n",
    "plt.show()"
   ]
  },
  {
   "cell_type": "code",
   "execution_count": null,
   "metadata": {},
   "outputs": [],
   "source": [
    "np.random.seed(20160501)\n",
    "test_sample = np.random.rand(100,1)\n",
    "ax1 = plt.subplot(111)\n",
    "ax1.plot(xrange, test_func(xrange))\n",
    "ax1.plot(xrange, surr.predict(xrange.reshape(-1,1)))\n",
    "ax1.scatter(test_sample, test_func(test_sample))\n",
    "\n",
    "add_error_spread_bars(ax1, test_sample, test_func)\n",
    "\n",
    "ax1.set_title('uniform random probability distribution')\n",
    "ax1.set_ylim([0,22.5])\n",
    "ax1.set_xlim([0,1])\n",
    "plt.show()"
   ]
  },
  {
   "cell_type": "code",
   "execution_count": null,
   "metadata": {},
   "outputs": [],
   "source": [
    "np.random.seed(20160501)\n",
    "test_sample = pyDOE.lhs(1, 100)\n",
    "ax1 = plt.subplot(111)\n",
    "ax1.plot(xrange, test_func(xrange))\n",
    "ax1.plot(xrange, surr.predict(xrange.reshape(-1,1)))\n",
    "ax1.scatter(test_sample, test_func(test_sample))\n",
    "\n",
    "add_error_spread_bars(ax1, test_sample, test_func)\n",
    "\n",
    "ax1.set_title('LHS distribution')\n",
    "ax1.set_ylim([0,22.5])\n",
    "ax1.set_xlim([0,1])\n",
    "plt.show()"
   ]
  },
  {
   "cell_type": "code",
   "execution_count": null,
   "metadata": {},
   "outputs": [],
   "source": [
    "sample_size = 1000\n",
    "\n",
    "plt.figure(figsize=(18,5))\n",
    "\n",
    "###########\n",
    "\n",
    "np.random.seed(20160501)\n",
    "test_sample = np.random.rand(100,1)\n",
    "ax1 = plt.subplot(131)\n",
    "ln1 = ax1.plot(xrange, test_func(xrange), label='True function')\n",
    "ln2 = ax1.plot(xrange, surr.predict(xrange.reshape(-1,1)), label='GP model')\n",
    "sc1 = ax1.scatter(test_sample, test_func(test_sample), s=12, label=f'test sample (n={sample_size})')\n",
    "\n",
    "br1 = add_error_spread_bars(ax1, test_sample, test_func)\n",
    "\n",
    "ax1.set_title('Uniform random probability distribution')\n",
    "ax1.set_ylim([0,22.5])\n",
    "ax1.set_xlim([0,1])\n",
    "\n",
    "lines, labels = ax1.get_legend_handles_labels()\n",
    "lines2, labels2 = ax2.get_legend_handles_labels()\n",
    "ax2.legend(lines + lines2, labels + labels2, loc=0)\n",
    "\n",
    "###############\n",
    "\n",
    "np.random.seed(20160501)\n",
    "test_sample = pyDOE.lhs(1, 100)\n",
    "ax1 = plt.subplot(132)\n",
    "ax1.plot(xrange, test_func(xrange))\n",
    "ax1.plot(xrange, surr.predict(xrange.reshape(-1,1)))\n",
    "ax1.scatter(test_sample, test_func(test_sample), s=12)\n",
    "\n",
    "add_error_spread_bars(ax1, test_sample, test_func)\n",
    "\n",
    "ax1.set_title('LHS distribution')\n",
    "ax1.set_ylim([0,22.5])\n",
    "ax1.set_xlim([0,1])\n",
    "\n",
    "##################\n",
    "\n",
    "np.random.seed(20160501)\n",
    "test_sample = mlcs.sample_by_function(test_func, ndim=1, n_samples=n_samples, \n",
    "                                      minimize=False, range_in=(0,1), range_out=(0,22))\n",
    "ax1 = plt.subplot(133)\n",
    "ax1.plot(xrange, test_func(xrange))\n",
    "ax1.plot(xrange, surr.predict(xrange.reshape(-1,1)))\n",
    "ax1.scatter(test_sample, test_func(test_sample), s=12)\n",
    "\n",
    "add_error_spread_bars(ax1, test_sample, test_func)\n",
    "\n",
    "ax1.set_title('Function-based probability distribution')\n",
    "ax1.set_ylim([0,22.5])\n",
    "ax1.set_xlim([0,1])\n",
    "\n",
    "###################\n",
    "\n",
    "plt.tight_layout()\n",
    "plt.savefig(f'{plot_dir}normed_errors_per_section.png')\n",
    "plt.savefig(f'{plot_dir}normed_errors_per_section.pdf')\n",
    "plt.show()"
   ]
  },
  {
   "cell_type": "code",
   "execution_count": null,
   "metadata": {},
   "outputs": [],
   "source": [
    "np.random.seed(20160501)\n",
    "\n",
    "ax1 = plt.subplot(111)\n",
    "y = test_func(xrange)\n",
    "y_surr = surr.predict(xrange.reshape(-1,1))\n",
    "abs_err = np.abs(y-y_surr)\n",
    "\n",
    "ax1.plot(xrange, y, label='True function')\n",
    "ax1.plot(xrange, y_surr, label='GP model')\n",
    "ax1.plot(xrange, abs_err, label='Abs. error')\n",
    "ax1.plot(xrange, abs_err * (y/np.max(y)), label='f(x)-weighted abs. error')\n",
    "\n",
    "ax1.set_ylim([0,np.max(y)*1.05])\n",
    "ax1.set_xlim([0,1])\n",
    "ax1.legend(loc=2)\n",
    "plt.show()"
   ]
  },
  {
   "cell_type": "markdown",
   "metadata": {},
   "source": [
    "# Some simple examples"
   ]
  },
  {
   "cell_type": "markdown",
   "metadata": {},
   "source": [
    "A number of cases where a model is trained on just 4 points in the 1D function case.\n",
    "Intended for illustration of which models we want to consider as better/worse and how this is achieved using the FSS method"
   ]
  },
  {
   "cell_type": "code",
   "execution_count": null,
   "metadata": {},
   "outputs": [],
   "source": [
    "def show_1d_examples(test_func, resolution, *, range_in=mlcs.ValueRange(0,1), title=''):\n",
    "    xrange = np.linspace(*range_in,resolution+1).reshape(-1, 1)\n",
    "    y = test_func(xrange)\n",
    "    samples = np.array([\n",
    "        [\n",
    "            [0.0, 0.4, 0.6, 1.0],\n",
    "#             [0.0, 0.33, 0.66, 1.0],\n",
    "            [0.0, 0.6, 0.8, 1.0],\n",
    "        ],\n",
    "        [\n",
    "#             [0.1, 0.3, 0.5, 0.7],\n",
    "             [0.3, 0.4, 0.7, 0.9],\n",
    "             [0.0, 0.1, 0.55, 0.9],\n",
    "        ],\n",
    "#         [\n",
    "#             [0.1, 0.2, 0.3, 0.4],\n",
    "#             [0.3, 0.4, 0.6, 0.7],\n",
    "#             [0.6, 0.7, 0.8, 0.9],\n",
    "#         ],\n",
    "    ])\n",
    "    \n",
    "    shape = samples.shape\n",
    "    fig, axes = plt.subplots(nrows=shape[0], ncols=shape[1], figsize=(4*shape[1], 4*shape[0]))\n",
    "    add_legend = True\n",
    "\n",
    "    for sample, ax in zip(samples.reshape(-1,4), axes.flatten()):\n",
    "        sample = mlcs.rescale(sample, range_in=(0,1), range_out=range_in)\n",
    "        x = sample.reshape(-1, 1)\n",
    "        archive = mlcs.CandidateArchive(ndim=1)#, fidelities=['high', 'low', 'high-low'])\n",
    "        archive.addcandidates(x, test_func(x))#, fidelity='high')\n",
    "\n",
    "        surr = mlcs.Surrogate.fromname('Kriging', archive, kernel='Matern')\n",
    "        surr.retrain()\n",
    "\n",
    "        y_surr = surr.predict(xrange.reshape(-1,1))\n",
    "        abs_err = np.abs(y-y_surr)\n",
    "        scale = (y/np.max(y))*.98 + .01\n",
    "        \n",
    "        ax.plot(xrange, y, label='True function')\n",
    "        ax.plot(xrange, y_surr, label='GP model')\n",
    "        ax.plot(xrange, abs_err, label='Abs. error')\n",
    "        ax.plot(xrange, abs_err * scale, label='f(x)-weighted abs. error')\n",
    "        ax.scatter(*archive.getcandidates(), zorder=3, color='black', label='Training set')\n",
    "        ax.set_ylim([-0.01,np.max(y)*1.05])\n",
    "        ax.set_xlim([*range_in])\n",
    "\n",
    "        if add_legend:\n",
    "            ax.legend(loc=2)\n",
    "            add_legend = False\n",
    "\n",
    "    plt.suptitle(title)\n",
    "    plt.tight_layout(rect=[0, 0.03, 1, 0.97])\n",
    "#     plt.show()"
   ]
  },
  {
   "cell_type": "code",
   "execution_count": null,
   "metadata": {},
   "outputs": [],
   "source": [
    "name = 'Sphere'\n",
    "\n",
    "show_1d_examples(sphere, 100, range_in=(-1,1), title=name)\n",
    "plt.savefig(f'{plot_dir}examples_{name.lower()}.pdf')\n",
    "plt.savefig(f'{plot_dir}examples_{name.lower()}.png')\n",
    "plt.show()"
   ]
  },
  {
   "cell_type": "code",
   "execution_count": null,
   "metadata": {},
   "outputs": [],
   "source": [
    "name = 'Forrester'\n",
    "\n",
    "show_1d_examples(forrester, 100, title=name)\n",
    "plt.savefig(f'{plot_dir}examples_{name.lower()}.pdf')\n",
    "plt.savefig(f'{plot_dir}examples_{name.lower()}.png')\n",
    "plt.show()"
   ]
  },
  {
   "cell_type": "code",
   "execution_count": null,
   "metadata": {},
   "outputs": [],
   "source": [
    "name = 'Ackley'\n",
    "\n",
    "show_1d_examples(ackley, 500, range_in=(-5, 5), title=name)\n",
    "plt.savefig(f'{plot_dir}examples_{name.lower()}.pdf')\n",
    "plt.savefig(f'{plot_dir}examples_{name.lower()}.png')\n",
    "plt.show()"
   ]
  },
  {
   "cell_type": "code",
   "execution_count": null,
   "metadata": {},
   "outputs": [],
   "source": [
    "name = 'Rastrigin'\n",
    "\n",
    "show_1d_examples(rastrigin, 512, range_in=(-5.12, 5.12), title=name)\n",
    "plt.savefig(f'{plot_dir}examples_{name.lower()}.pdf')\n",
    "plt.savefig(f'{plot_dir}examples_{name.lower()}.png')\n",
    "plt.show()"
   ]
  },
  {
   "cell_type": "markdown",
   "metadata": {},
   "source": [
    "# mexican hat function"
   ]
  },
  {
   "cell_type": "code",
   "execution_count": null,
   "metadata": {},
   "outputs": [],
   "source": [
    "x = np.linspace(-1, 1, 1001).reshape(-1,1)\n",
    "a = 4\n",
    "y = ((1 - (a*x)**2) * np.exp(-(a*x)**2 / 2) + .5) / 1.5\n",
    "\n",
    "y_surr = y+.4\n",
    "\n",
    "print('Output range should be [0, n]:')\n",
    "print(f'[{np.min(y)}, {np.max(y)}]')\n",
    "\n",
    "abs_err = np.abs(y-y_surr)\n",
    "scale = (y/np.max(y))*.98 + .01\n",
    "\n",
    "plt.plot(x, y, label='y = f(x)')\n",
    "plt.plot(x, y_surr, label='y\\' = g(x) = f(x) + 0.4')\n",
    "\n",
    "plt.plot(x, abs_err, '--', label='|y-y\\'|')\n",
    "plt.plot(x, abs_err * (y/np.max(y)), '--', label='|y-y\\'| / max(y)')\n",
    "\n",
    "# plt.title('Fuction-weighted error influence')\n",
    "\n",
    "plt.xlabel('x')\n",
    "plt.xlim([-1,1])\n",
    "plt.ylabel('y')\n",
    "plt.ylim([0, 1.5])\n",
    "\n",
    "plt.legend(loc=0)\n",
    "plt.tight_layout()\n",
    "\n",
    "plt.show()"
   ]
  },
  {
   "cell_type": "markdown",
   "metadata": {},
   "source": [
    "By definition, the absolute error is exactly the given offset. The f(x)-weighted line however only matches that 'importance' at the optimum, while elsewhere dropping (much) lower to indicate that the errors in this area are much less interesting/relevant"
   ]
  },
  {
   "cell_type": "code",
   "execution_count": null,
   "metadata": {},
   "outputs": [],
   "source": [
    "x = np.linspace(-1, 1, 1001).reshape(-1,1)\n",
    "a = 4\n",
    "y = ((1 - (a*x)**2) * np.exp(-(a*x)**2 / 2) + .5) / 1.5\n",
    "\n",
    "y_surr = 1-y\n",
    "\n",
    "print('Output range should be [0, n]:')\n",
    "print(f'[{np.min(y)}, {np.max(y)}]')\n",
    "\n",
    "abs_err = np.abs(y-y_surr)\n",
    "scale = (y/np.max(y))*.98 + .01\n",
    "\n",
    "plt.plot(x, y, label='y = f(x)')\n",
    "plt.plot(x, y_surr, label='y\\' = g(x) = 1 - f(x)')\n",
    "\n",
    "plt.plot(x, abs_err, '--', label='|y-y\\'|')\n",
    "plt.plot(x, abs_err * (y/np.max(y)), '--', label='|y-y\\'| / max(y)')\n",
    "\n",
    "# plt.title('Fuction-weighted error influence')\n",
    "\n",
    "plt.xlabel('x')\n",
    "plt.xlim([-1,1])\n",
    "plt.ylabel('y')\n",
    "plt.ylim([0, 1.1])\n",
    "\n",
    "plt.legend(loc=0)\n",
    "plt.tight_layout()\n",
    "\n",
    "plt.show()"
   ]
  },
  {
   "cell_type": "code",
   "execution_count": null,
   "metadata": {},
   "outputs": [],
   "source": []
  }
 ],
 "metadata": {
  "kernelspec": {
   "display_name": "Python 3",
   "language": "python",
   "name": "python3"
  },
  "language_info": {
   "codemirror_mode": {
    "name": "ipython",
    "version": 3
   },
   "file_extension": ".py",
   "mimetype": "text/x-python",
   "name": "python",
   "nbconvert_exporter": "python",
   "pygments_lexer": "ipython3",
   "version": "3.6.3"
  }
 },
 "nbformat": 4,
 "nbformat_minor": 2
}
